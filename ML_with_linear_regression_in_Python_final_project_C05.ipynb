{
  "nbformat": 4,
  "nbformat_minor": 0,
  "metadata": {
    "kernelspec": {
      "name": "python3",
      "language": "python",
      "display_name": "Python 3"
    },
    "language_info": {
      "codemirror_mode": {
        "name": "ipython",
        "version": 2
      },
      "file_extension": ".py",
      "mimetype": "text/x-python",
      "name": "python",
      "nbconvert_exporter": "python",
      "pygments_lexer": "ipython2",
      "version": "2.7.6"
    },
    "colab": {
      "name": "gulnev_andrei_final_project_C05.ipynb",
      "provenance": [],
      "collapsed_sections": [],
      "machine_shape": "hm",
      "include_colab_link": true
    }
  },
  "cells": [
    {
      "cell_type": "markdown",
      "metadata": {
        "id": "view-in-github",
        "colab_type": "text"
      },
      "source": [
        "<a href=\"https://colab.research.google.com/github/torontoniancoder/python_tutorial/blob/master/ML_with_linear_regression_in_Python_final_project_C05.ipynb\" target=\"_parent\"><img src=\"https://colab.research.google.com/assets/colab-badge.svg\" alt=\"Open In Colab\"/></a>"
      ]
    },
    {
      "cell_type": "code",
      "metadata": {
        "pycharm": {
          "name": "#%%\n"
        },
        "id": "fQ7bVgNhS1-Y"
      },
      "source": [
        "import pandas as pd\n",
        "import numpy as np"
      ],
      "execution_count": 121,
      "outputs": []
    },
    {
      "cell_type": "markdown",
      "metadata": {
        "collapsed": false,
        "id": "z_2iGtFqS1-d"
      },
      "source": [
        "A. Data cleaning"
      ]
    },
    {
      "cell_type": "code",
      "metadata": {
        "pycharm": {
          "name": "#%%\n"
        },
        "id": "YApvIdJLS1-d"
      },
      "source": [
        "def clean_data(df):\n",
        "    pd.set_option('mode.use_inf_as_na', True) # to recognise inf as a NaN in calculations: from here: https://stackoverflow.com/questions/58225701/change-pandas-default-fillna-setting\n",
        "    # todo: replace the nan values with relevant (??) values (MEAN?) -> replaced with 0-es\n",
        "    # selecting the columns for conversion from categorical data into columns of binary data\n",
        "    df_temp = df[['Product_ID','Gender','Age','Occupation', 'City_Category','Stay_In_Current_City_Years']]\n",
        "    # integer encoding\n",
        "    # source for instructions: https://towardsdatascience.com/the-dummys-guide-to-creating-dummy-variables-f21faddb1d40\n",
        "    # turning the type columns into the dummy variables\n",
        "    # No nan values therefore dummy_na=False\n",
        "    dummy = pd.get_dummies(df_temp, dummy_na=False, columns=['Product_ID','Gender','Age','Occupation', 'City_Category','Stay_In_Current_City_Years'], prefix=['Product_ID','Gender','Age','Occupation', 'City_Category','Stay_In_Current_City_Years'], dtype=int, drop_first=False)\n",
        "    # concatenating binary data into the initial dataframe\n",
        "    df = pd.concat([df,dummy], axis=1)\n",
        "    # dropping the unnecessary fields\n",
        "    # FieldDrop0 = ['User_ID','Product_ID','Gender','Age','Occupation','City_Category','Stay_In_Current_City_Years','Purchase']\n",
        "    # df = df.drop(FieldDrop0, axis=1)\n",
        "    colnames = df.columns.values.tolist() #converting column names into a list\n",
        "    # colnames\n",
        "    # counting nan values and removing columns with nan values more than 50% (threshold can be modified *there -> <-*)\n",
        "    for each in colnames:\n",
        "        # print(type(df[each]))\n",
        "        if (( df[each].isna().sum() / len(df[each]) ) > 0.5): # *-> <-* here! the threshold can be modified | source URL: https://stackoverflow.com/questions/26266362/how-to-count-the-nan-values-in-a-column-in-pandas-dataframe\n",
        "            print ('Due to low data quality\\n(data not available for more than 50% of data points)\\nI am deleting this column: '+each)\n",
        "            # *-> <-* here! in the line above the threshold must be modified if it si changed in the previous line\n",
        "            del df[each]\n",
        "        else:\n",
        "            df[each] = df[each].fillna(0)\n",
        "            df[each] = df[each].astype('string')\n",
        "            pass\n",
        "            # z = ( df[each].isna().sum() / len(df[each]) )*100\n",
        "            # print('For column '+str(each)+' unknown datapoints are '+str(z)+'% of series')\n",
        "    # df.info()\n",
        "    # df = df.astype('string') # source URL: https://stackoverflow.com/questions/22005911/convert-columns-to-string-in-pandas\n",
        "    # df[[\"D\", \"E\"]] = df[[\"D\", \"E\"]].astype(int)\n",
        "    #   cleaning temporary data\n",
        "    df_temp = 0\n",
        "    return df"
      ],
      "execution_count": 122,
      "outputs": []
    },
    {
      "cell_type": "code",
      "metadata": {
        "pycharm": {
          "name": "#%%\n"
        },
        "id": "EVV9iiOmS1-e"
      },
      "source": [
        "df = pd.read_csv('Black_Friday.csv') #loading data into a dataframe"
      ],
      "execution_count": 123,
      "outputs": []
    },
    {
      "cell_type": "code",
      "metadata": {
        "pycharm": {
          "name": "#%%\n"
        },
        "id": "JE6gL1kPCR6b"
      },
      "source": [
        "# *** REMOVE BEFORE ASSEMBLY *** BEGIN\n",
        "df = df.iloc[:1000] # slicing dataframe for test&dev performance\n",
        "# df.shape\n",
        "# *** REMOVE BEFORE ASSEMBLY *** END\n"
      ],
      "execution_count": 124,
      "outputs": []
    },
    {
      "cell_type": "code",
      "metadata": {
        "pycharm": {
          "name": "#%%\n"
        },
        "id": "WZk-MQNkCR6e"
      },
      "source": [
        "# keeping a control copy of the source dataset in variable df0\n",
        "df0 = df.copy()"
      ],
      "execution_count": 125,
      "outputs": []
    },
    {
      "cell_type": "code",
      "metadata": {
        "pycharm": {
          "name": "#%%\n"
        },
        "colab": {
          "base_uri": "https://localhost:8080/"
        },
        "id": "sL0hTVr1S1-e",
        "outputId": "17bb8c46-741e-47b2-db6b-ca37776e48b6"
      },
      "source": [
        "df = clean_data(df) # running function clean_data on a dataframe"
      ],
      "execution_count": 126,
      "outputs": [
        {
          "output_type": "stream",
          "text": [
            "Due to low data quality\n",
            "(data not available for more than 50% of data points)\n",
            "I am deleting this column: Product_Category_3\n"
          ],
          "name": "stdout"
        }
      ]
    },
    {
      "cell_type": "code",
      "metadata": {
        "pycharm": {
          "name": "#%%\n"
        },
        "id": "mazvxf-KS1-f",
        "colab": {
          "base_uri": "https://localhost:8080/",
          "height": 311
        },
        "outputId": "3cb0e48b-e4d7-40d3-98ae-a3c684acddc9"
      },
      "source": [
        "df.info()\n",
        "display(df.describe())"
      ],
      "execution_count": 127,
      "outputs": [
        {
          "output_type": "stream",
          "text": [
            "<class 'pandas.core.frame.DataFrame'>\n",
            "RangeIndex: 100 entries, 0 to 99\n",
            "Columns: 139 entries, User_ID to Stay_In_Current_City_Years_4+\n",
            "dtypes: string(139)\n",
            "memory usage: 108.7 KB\n"
          ],
          "name": "stdout"
        },
        {
          "output_type": "display_data",
          "data": {
            "text/html": [
              "<div>\n",
              "<style scoped>\n",
              "    .dataframe tbody tr th:only-of-type {\n",
              "        vertical-align: middle;\n",
              "    }\n",
              "\n",
              "    .dataframe tbody tr th {\n",
              "        vertical-align: top;\n",
              "    }\n",
              "\n",
              "    .dataframe thead th {\n",
              "        text-align: right;\n",
              "    }\n",
              "</style>\n",
              "<table border=\"1\" class=\"dataframe\">\n",
              "  <thead>\n",
              "    <tr style=\"text-align: right;\">\n",
              "      <th></th>\n",
              "      <th>User_ID</th>\n",
              "      <th>Product_ID</th>\n",
              "      <th>Gender</th>\n",
              "      <th>Age</th>\n",
              "      <th>Occupation</th>\n",
              "      <th>City_Category</th>\n",
              "      <th>Stay_In_Current_City_Years</th>\n",
              "      <th>Marital_Status</th>\n",
              "      <th>Product_Category_1</th>\n",
              "      <th>Product_Category_2</th>\n",
              "      <th>Purchase</th>\n",
              "      <th>Product_ID_P00014542</th>\n",
              "      <th>Product_ID_P00019342</th>\n",
              "      <th>Product_ID_P00031342</th>\n",
              "      <th>Product_ID_P00032442</th>\n",
              "      <th>Product_ID_P00034442</th>\n",
              "      <th>Product_ID_P00036842</th>\n",
              "      <th>Product_ID_P00039942</th>\n",
              "      <th>Product_ID_P00042142</th>\n",
              "      <th>Product_ID_P00044142</th>\n",
              "      <th>Product_ID_P00058142</th>\n",
              "      <th>Product_ID_P00058342</th>\n",
              "      <th>Product_ID_P00058442</th>\n",
              "      <th>Product_ID_P00069042</th>\n",
              "      <th>Product_ID_P00073842</th>\n",
              "      <th>Product_ID_P00078742</th>\n",
              "      <th>Product_ID_P00085442</th>\n",
              "      <th>Product_ID_P00085942</th>\n",
              "      <th>Product_ID_P00087242</th>\n",
              "      <th>Product_ID_P00087842</th>\n",
              "      <th>Product_ID_P00100642</th>\n",
              "      <th>Product_ID_P00105942</th>\n",
              "      <th>Product_ID_P00110842</th>\n",
              "      <th>Product_ID_P00111142</th>\n",
              "      <th>Product_ID_P00112542</th>\n",
              "      <th>Product_ID_P00112642</th>\n",
              "      <th>Product_ID_P00113242</th>\n",
              "      <th>Product_ID_P00117442</th>\n",
              "      <th>Product_ID_P00118342</th>\n",
              "      <th>Product_ID_P00118442</th>\n",
              "      <th>...</th>\n",
              "      <th>Product_ID_P00334242</th>\n",
              "      <th>Product_ID_P00338442</th>\n",
              "      <th>Product_ID_P00339542</th>\n",
              "      <th>Product_ID_P00346142</th>\n",
              "      <th>Product_ID_P00348242</th>\n",
              "      <th>Product_ID_P00351142</th>\n",
              "      <th>Product_ID_P00365242</th>\n",
              "      <th>Product_ID_P00366542</th>\n",
              "      <th>Product_ID_P0094142</th>\n",
              "      <th>Product_ID_P0094542</th>\n",
              "      <th>Product_ID_P0096642</th>\n",
              "      <th>Product_ID_P0097242</th>\n",
              "      <th>Gender_F</th>\n",
              "      <th>Gender_M</th>\n",
              "      <th>Age_0-17</th>\n",
              "      <th>Age_18-25</th>\n",
              "      <th>Age_26-35</th>\n",
              "      <th>Age_36-45</th>\n",
              "      <th>Age_46-50</th>\n",
              "      <th>Age_51-55</th>\n",
              "      <th>Age_55+</th>\n",
              "      <th>Occupation_0</th>\n",
              "      <th>Occupation_1</th>\n",
              "      <th>Occupation_3</th>\n",
              "      <th>Occupation_7</th>\n",
              "      <th>Occupation_9</th>\n",
              "      <th>Occupation_10</th>\n",
              "      <th>Occupation_12</th>\n",
              "      <th>Occupation_15</th>\n",
              "      <th>Occupation_16</th>\n",
              "      <th>Occupation_17</th>\n",
              "      <th>Occupation_20</th>\n",
              "      <th>City_Category_A</th>\n",
              "      <th>City_Category_B</th>\n",
              "      <th>City_Category_C</th>\n",
              "      <th>Stay_In_Current_City_Years_0</th>\n",
              "      <th>Stay_In_Current_City_Years_1</th>\n",
              "      <th>Stay_In_Current_City_Years_2</th>\n",
              "      <th>Stay_In_Current_City_Years_3</th>\n",
              "      <th>Stay_In_Current_City_Years_4+</th>\n",
              "    </tr>\n",
              "  </thead>\n",
              "  <tbody>\n",
              "    <tr>\n",
              "      <th>count</th>\n",
              "      <td>100</td>\n",
              "      <td>100</td>\n",
              "      <td>100</td>\n",
              "      <td>100</td>\n",
              "      <td>100</td>\n",
              "      <td>100</td>\n",
              "      <td>100</td>\n",
              "      <td>100</td>\n",
              "      <td>100</td>\n",
              "      <td>100</td>\n",
              "      <td>100</td>\n",
              "      <td>100</td>\n",
              "      <td>100</td>\n",
              "      <td>100</td>\n",
              "      <td>100</td>\n",
              "      <td>100</td>\n",
              "      <td>100</td>\n",
              "      <td>100</td>\n",
              "      <td>100</td>\n",
              "      <td>100</td>\n",
              "      <td>100</td>\n",
              "      <td>100</td>\n",
              "      <td>100</td>\n",
              "      <td>100</td>\n",
              "      <td>100</td>\n",
              "      <td>100</td>\n",
              "      <td>100</td>\n",
              "      <td>100</td>\n",
              "      <td>100</td>\n",
              "      <td>100</td>\n",
              "      <td>100</td>\n",
              "      <td>100</td>\n",
              "      <td>100</td>\n",
              "      <td>100</td>\n",
              "      <td>100</td>\n",
              "      <td>100</td>\n",
              "      <td>100</td>\n",
              "      <td>100</td>\n",
              "      <td>100</td>\n",
              "      <td>100</td>\n",
              "      <td>...</td>\n",
              "      <td>100</td>\n",
              "      <td>100</td>\n",
              "      <td>100</td>\n",
              "      <td>100</td>\n",
              "      <td>100</td>\n",
              "      <td>100</td>\n",
              "      <td>100</td>\n",
              "      <td>100</td>\n",
              "      <td>100</td>\n",
              "      <td>100</td>\n",
              "      <td>100</td>\n",
              "      <td>100</td>\n",
              "      <td>100</td>\n",
              "      <td>100</td>\n",
              "      <td>100</td>\n",
              "      <td>100</td>\n",
              "      <td>100</td>\n",
              "      <td>100</td>\n",
              "      <td>100</td>\n",
              "      <td>100</td>\n",
              "      <td>100</td>\n",
              "      <td>100</td>\n",
              "      <td>100</td>\n",
              "      <td>100</td>\n",
              "      <td>100</td>\n",
              "      <td>100</td>\n",
              "      <td>100</td>\n",
              "      <td>100</td>\n",
              "      <td>100</td>\n",
              "      <td>100</td>\n",
              "      <td>100</td>\n",
              "      <td>100</td>\n",
              "      <td>100</td>\n",
              "      <td>100</td>\n",
              "      <td>100</td>\n",
              "      <td>100</td>\n",
              "      <td>100</td>\n",
              "      <td>100</td>\n",
              "      <td>100</td>\n",
              "      <td>100</td>\n",
              "    </tr>\n",
              "    <tr>\n",
              "      <th>unique</th>\n",
              "      <td>21</td>\n",
              "      <td>100</td>\n",
              "      <td>2</td>\n",
              "      <td>7</td>\n",
              "      <td>11</td>\n",
              "      <td>3</td>\n",
              "      <td>5</td>\n",
              "      <td>2</td>\n",
              "      <td>10</td>\n",
              "      <td>16</td>\n",
              "      <td>100</td>\n",
              "      <td>2</td>\n",
              "      <td>2</td>\n",
              "      <td>2</td>\n",
              "      <td>2</td>\n",
              "      <td>2</td>\n",
              "      <td>2</td>\n",
              "      <td>2</td>\n",
              "      <td>2</td>\n",
              "      <td>2</td>\n",
              "      <td>2</td>\n",
              "      <td>2</td>\n",
              "      <td>2</td>\n",
              "      <td>2</td>\n",
              "      <td>2</td>\n",
              "      <td>2</td>\n",
              "      <td>2</td>\n",
              "      <td>2</td>\n",
              "      <td>2</td>\n",
              "      <td>2</td>\n",
              "      <td>2</td>\n",
              "      <td>2</td>\n",
              "      <td>2</td>\n",
              "      <td>2</td>\n",
              "      <td>2</td>\n",
              "      <td>2</td>\n",
              "      <td>2</td>\n",
              "      <td>2</td>\n",
              "      <td>2</td>\n",
              "      <td>2</td>\n",
              "      <td>...</td>\n",
              "      <td>2</td>\n",
              "      <td>2</td>\n",
              "      <td>2</td>\n",
              "      <td>2</td>\n",
              "      <td>2</td>\n",
              "      <td>2</td>\n",
              "      <td>2</td>\n",
              "      <td>2</td>\n",
              "      <td>2</td>\n",
              "      <td>2</td>\n",
              "      <td>2</td>\n",
              "      <td>2</td>\n",
              "      <td>2</td>\n",
              "      <td>2</td>\n",
              "      <td>2</td>\n",
              "      <td>2</td>\n",
              "      <td>2</td>\n",
              "      <td>2</td>\n",
              "      <td>2</td>\n",
              "      <td>2</td>\n",
              "      <td>2</td>\n",
              "      <td>2</td>\n",
              "      <td>2</td>\n",
              "      <td>2</td>\n",
              "      <td>2</td>\n",
              "      <td>2</td>\n",
              "      <td>2</td>\n",
              "      <td>2</td>\n",
              "      <td>2</td>\n",
              "      <td>2</td>\n",
              "      <td>2</td>\n",
              "      <td>2</td>\n",
              "      <td>2</td>\n",
              "      <td>2</td>\n",
              "      <td>2</td>\n",
              "      <td>2</td>\n",
              "      <td>2</td>\n",
              "      <td>2</td>\n",
              "      <td>2</td>\n",
              "      <td>2</td>\n",
              "    </tr>\n",
              "    <tr>\n",
              "      <th>top</th>\n",
              "      <td>1000010</td>\n",
              "      <td>P00250642</td>\n",
              "      <td>M</td>\n",
              "      <td>26-35</td>\n",
              "      <td>1</td>\n",
              "      <td>B</td>\n",
              "      <td>3</td>\n",
              "      <td>0</td>\n",
              "      <td>1</td>\n",
              "      <td>0.0</td>\n",
              "      <td>5958</td>\n",
              "      <td>0</td>\n",
              "      <td>0</td>\n",
              "      <td>0</td>\n",
              "      <td>0</td>\n",
              "      <td>0</td>\n",
              "      <td>0</td>\n",
              "      <td>0</td>\n",
              "      <td>0</td>\n",
              "      <td>0</td>\n",
              "      <td>0</td>\n",
              "      <td>0</td>\n",
              "      <td>0</td>\n",
              "      <td>0</td>\n",
              "      <td>0</td>\n",
              "      <td>0</td>\n",
              "      <td>0</td>\n",
              "      <td>0</td>\n",
              "      <td>0</td>\n",
              "      <td>0</td>\n",
              "      <td>0</td>\n",
              "      <td>0</td>\n",
              "      <td>0</td>\n",
              "      <td>0</td>\n",
              "      <td>0</td>\n",
              "      <td>0</td>\n",
              "      <td>0</td>\n",
              "      <td>0</td>\n",
              "      <td>0</td>\n",
              "      <td>0</td>\n",
              "      <td>...</td>\n",
              "      <td>0</td>\n",
              "      <td>0</td>\n",
              "      <td>0</td>\n",
              "      <td>0</td>\n",
              "      <td>0</td>\n",
              "      <td>0</td>\n",
              "      <td>0</td>\n",
              "      <td>0</td>\n",
              "      <td>0</td>\n",
              "      <td>0</td>\n",
              "      <td>0</td>\n",
              "      <td>0</td>\n",
              "      <td>0</td>\n",
              "      <td>1</td>\n",
              "      <td>0</td>\n",
              "      <td>0</td>\n",
              "      <td>0</td>\n",
              "      <td>0</td>\n",
              "      <td>0</td>\n",
              "      <td>0</td>\n",
              "      <td>0</td>\n",
              "      <td>0</td>\n",
              "      <td>0</td>\n",
              "      <td>0</td>\n",
              "      <td>0</td>\n",
              "      <td>0</td>\n",
              "      <td>0</td>\n",
              "      <td>0</td>\n",
              "      <td>0</td>\n",
              "      <td>0</td>\n",
              "      <td>0</td>\n",
              "      <td>0</td>\n",
              "      <td>0</td>\n",
              "      <td>0</td>\n",
              "      <td>0</td>\n",
              "      <td>0</td>\n",
              "      <td>0</td>\n",
              "      <td>0</td>\n",
              "      <td>0</td>\n",
              "      <td>0</td>\n",
              "    </tr>\n",
              "    <tr>\n",
              "      <th>freq</th>\n",
              "      <td>18</td>\n",
              "      <td>1</td>\n",
              "      <td>54</td>\n",
              "      <td>30</td>\n",
              "      <td>28</td>\n",
              "      <td>38</td>\n",
              "      <td>31</td>\n",
              "      <td>62</td>\n",
              "      <td>33</td>\n",
              "      <td>23</td>\n",
              "      <td>1</td>\n",
              "      <td>99</td>\n",
              "      <td>99</td>\n",
              "      <td>99</td>\n",
              "      <td>99</td>\n",
              "      <td>99</td>\n",
              "      <td>99</td>\n",
              "      <td>99</td>\n",
              "      <td>99</td>\n",
              "      <td>99</td>\n",
              "      <td>99</td>\n",
              "      <td>99</td>\n",
              "      <td>99</td>\n",
              "      <td>99</td>\n",
              "      <td>99</td>\n",
              "      <td>99</td>\n",
              "      <td>99</td>\n",
              "      <td>99</td>\n",
              "      <td>99</td>\n",
              "      <td>99</td>\n",
              "      <td>99</td>\n",
              "      <td>99</td>\n",
              "      <td>99</td>\n",
              "      <td>99</td>\n",
              "      <td>99</td>\n",
              "      <td>99</td>\n",
              "      <td>99</td>\n",
              "      <td>99</td>\n",
              "      <td>99</td>\n",
              "      <td>99</td>\n",
              "      <td>...</td>\n",
              "      <td>99</td>\n",
              "      <td>99</td>\n",
              "      <td>99</td>\n",
              "      <td>99</td>\n",
              "      <td>99</td>\n",
              "      <td>99</td>\n",
              "      <td>99</td>\n",
              "      <td>99</td>\n",
              "      <td>99</td>\n",
              "      <td>99</td>\n",
              "      <td>99</td>\n",
              "      <td>99</td>\n",
              "      <td>54</td>\n",
              "      <td>54</td>\n",
              "      <td>84</td>\n",
              "      <td>82</td>\n",
              "      <td>70</td>\n",
              "      <td>78</td>\n",
              "      <td>94</td>\n",
              "      <td>93</td>\n",
              "      <td>99</td>\n",
              "      <td>97</td>\n",
              "      <td>72</td>\n",
              "      <td>85</td>\n",
              "      <td>88</td>\n",
              "      <td>96</td>\n",
              "      <td>84</td>\n",
              "      <td>92</td>\n",
              "      <td>97</td>\n",
              "      <td>98</td>\n",
              "      <td>96</td>\n",
              "      <td>95</td>\n",
              "      <td>63</td>\n",
              "      <td>62</td>\n",
              "      <td>75</td>\n",
              "      <td>89</td>\n",
              "      <td>78</td>\n",
              "      <td>91</td>\n",
              "      <td>69</td>\n",
              "      <td>73</td>\n",
              "    </tr>\n",
              "  </tbody>\n",
              "</table>\n",
              "<p>4 rows × 139 columns</p>\n",
              "</div>"
            ],
            "text/plain": [
              "        User_ID  ... Stay_In_Current_City_Years_4+\n",
              "count       100  ...                           100\n",
              "unique       21  ...                             2\n",
              "top     1000010  ...                             0\n",
              "freq         18  ...                            73\n",
              "\n",
              "[4 rows x 139 columns]"
            ]
          },
          "metadata": {
            "tags": []
          }
        }
      ]
    },
    {
      "cell_type": "markdown",
      "metadata": {
        "collapsed": false,
        "pycharm": {
          "name": "#%% md\n"
        },
        "id": "fwl8mPVsS1-f"
      },
      "source": [
        "C. Data Modeling"
      ]
    },
    {
      "cell_type": "code",
      "metadata": {
        "pycharm": {
          "name": "#%%\n"
        },
        "id": "JDCBHa2XS1-f"
      },
      "source": [
        "# source code URL: https://habr.com/ru/post/206306/\n",
        "# and here, URL: https://habr.com/ru/post/202090/\n",
        "\n",
        "# importing libraries\n",
        "\n",
        "from pandas import read_csv, DataFrame\n",
        "# from sklearn.neighbors import KNeighborsRegressor\n",
        "from sklearn.linear_model import LinearRegression, LogisticRegression\n",
        "# from sklearn.svm import SVR\n",
        "# from sklearn.ensemble import RandomForestRegressor\n",
        "# from sklearn.metrics import r2_score\n",
        "# from sklearn import cross_validation, svm\n",
        "# from sklearn.cross_validation import train_test_split"
      ],
      "execution_count": 128,
      "outputs": []
    },
    {
      "cell_type": "code",
      "metadata": {
        "pycharm": {
          "name": "#%%\n"
        },
        "id": "f_6-rrBlS1-g"
      },
      "source": [
        "# creating dataset with summary data per UserID\n",
        "\n",
        "# df_c1 = df.copy() #loading data into a dataframe"
      ],
      "execution_count": 129,
      "outputs": []
    },
    {
      "cell_type": "code",
      "metadata": {
        "pycharm": {
          "name": "#%%\n"
        },
        "id": "k-1wDjGiS1-g"
      },
      "source": [
        "# df_c1 = clean_data(df_c1) #\n",
        "# PreFinal_df = df.groupby('User_ID').sum()"
      ],
      "execution_count": 130,
      "outputs": []
    },
    {
      "cell_type": "code",
      "metadata": {
        "pycharm": {
          "name": "#%%\n"
        },
        "id": "QIcQt5UKS1-g"
      },
      "source": [
        "# df_c1.info()"
      ],
      "execution_count": 131,
      "outputs": []
    },
    {
      "cell_type": "code",
      "metadata": {
        "pycharm": {
          "name": "#%%\n"
        },
        "id": "O_H3bGG_S1-g"
      },
      "source": [
        "# df_c1 = df_c1.astype(str)"
      ],
      "execution_count": 132,
      "outputs": []
    },
    {
      "cell_type": "code",
      "metadata": {
        "pycharm": {
          "name": "#%%\n"
        },
        "id": "aexbhetKS1-g"
      },
      "source": [
        "# df_c1.info()"
      ],
      "execution_count": 133,
      "outputs": []
    },
    {
      "cell_type": "code",
      "metadata": {
        "pycharm": {
          "name": "#%%\n"
        },
        "id": "GRwxEx6BS1-h"
      },
      "source": [
        "# To begin with, we need to divide our training sample\n",
        "# into the indicator that we are examining, and its defining features:\n",
        "# todo: check features for cross-correlation, see source code\n",
        "#  here, URL: http://espressocode.top/python-pandas-dataframe-corr/\n",
        "\n",
        "# PreFinal_df"
      ],
      "execution_count": 134,
      "outputs": []
    },
    {
      "cell_type": "code",
      "metadata": {
        "id": "kZNx25sSFwuA"
      },
      "source": [
        "FieldDrop_PID = ['User_ID','Product_ID','Gender','Age','Occupation','City_Category','Stay_In_Current_City_Years']\n",
        "df = df.drop(FieldDrop_PID, axis=1)"
      ],
      "execution_count": 135,
      "outputs": []
    },
    {
      "cell_type": "code",
      "metadata": {
        "colab": {
          "base_uri": "https://localhost:8080/"
        },
        "id": "AXaFwUFdF1Fg",
        "outputId": "122e9a8c-13f4-49d7-cceb-2142fee6166e"
      },
      "source": [
        "df.info()"
      ],
      "execution_count": 136,
      "outputs": [
        {
          "output_type": "stream",
          "text": [
            "<class 'pandas.core.frame.DataFrame'>\n",
            "RangeIndex: 100 entries, 0 to 99\n",
            "Columns: 132 entries, Marital_Status to Stay_In_Current_City_Years_4+\n",
            "dtypes: string(132)\n",
            "memory usage: 103.2 KB\n"
          ],
          "name": "stdout"
        }
      ]
    },
    {
      "cell_type": "code",
      "metadata": {
        "pycharm": {
          "name": "#%%\n"
        },
        "id": "XJ_oAdp3S1-h"
      },
      "source": [
        "df = df.astype(float)\n",
        "# df.shape()\n",
        "# df.info()"
      ],
      "execution_count": 137,
      "outputs": []
    },
    {
      "cell_type": "code",
      "metadata": {
        "pycharm": {
          "name": "#%%\n"
        },
        "id": "xxHrdKFzCR6x"
      },
      "source": [
        "CorrKoeff = df.corr()"
      ],
      "execution_count": 138,
      "outputs": []
    },
    {
      "cell_type": "code",
      "metadata": {
        "pycharm": {
          "name": "#%%\n"
        },
        "id": "2eL4uQYGS1-h"
      },
      "source": [
        "# CorrKoeff"
      ],
      "execution_count": 139,
      "outputs": []
    },
    {
      "cell_type": "code",
      "metadata": {
        "pycharm": {
          "name": "#%%\n"
        },
        "id": "L_a4CbYAS1-h"
      },
      "source": [
        "colnames = 0"
      ],
      "execution_count": 140,
      "outputs": []
    },
    {
      "cell_type": "code",
      "metadata": {
        "pycharm": {
          "name": "#%%\n"
        },
        "id": "zk-uPauKCR6z"
      },
      "source": [
        "colnames = CorrKoeff.columns.values.tolist()"
      ],
      "execution_count": 141,
      "outputs": []
    },
    {
      "cell_type": "code",
      "metadata": {
        "pycharm": {
          "name": "#%%\n"
        },
        "id": "TOKdOwKtCR60"
      },
      "source": [
        "Feature_Drop = list(())\n",
        "Feature_DropSoft = list(())"
      ],
      "execution_count": 142,
      "outputs": []
    },
    {
      "cell_type": "code",
      "metadata": {
        "pycharm": {
          "name": "#%%\n"
        },
        "id": "ClZqmB66CR61"
      },
      "source": [
        "# checking the correlation between the features\n",
        "for each in colnames:\n",
        "    i = len(CorrKoeff[each])\n",
        "    for i in range(i):\n",
        "        if (CorrKoeff.iloc[i][each]  > 0.95) and (CorrKoeff.index[i] != each):\n",
        "            # print('\\n* *XX*|||*XX* * !!WARNING!! ['+str(each)+'] IS CORRELATED WITH '+str(CorrKoeff.index[i])+' BY '+str(CorrKoeff.iloc[i][each])+' * *XX*|||*XX* *')\n",
        "            Feature_Drop.append(each)\n",
        "            pass\n",
        "        elif (CorrKoeff.iloc[i][each]  < -0.95) and (CorrKoeff.index[i] != each):\n",
        "            # print('\\n- *XX*XX* - Attention: ['+str(each)+'] is correlated with ['+str(CorrKoeff.index[i])+'] by '+str(CorrKoeff.iloc[i][each])+' - *XX*XX* -\\n')\n",
        "            Feature_DropSoft.append(each)\n",
        "            pass\n",
        "        else:\n",
        "            pass\n",
        "    # print('----- * ----- '+str(each)+' is [COMPLETE] ----- * -----')"
      ],
      "execution_count": 143,
      "outputs": []
    },
    {
      "cell_type": "code",
      "metadata": {
        "pycharm": {
          "name": "#%%\n"
        },
        "id": "gnqYsHvPCR62"
      },
      "source": [
        "# there is a correlation > 90% and <-90% between the features in df"
      ],
      "execution_count": 144,
      "outputs": []
    },
    {
      "cell_type": "code",
      "metadata": {
        "pycharm": {
          "name": "#%%\n"
        },
        "id": "Ph-NDaTWS1-h"
      },
      "source": [
        "# todo: drop the unnecessary features (columns)"
      ],
      "execution_count": 145,
      "outputs": []
    },
    {
      "cell_type": "code",
      "metadata": {
        "pycharm": {
          "name": "#%%\n"
        },
        "id": "_AOTXF5qCR65"
      },
      "source": [
        "# writing the Purchase data (targeted for prediction) into a separate dataset\n",
        "target = df0['Purchase']\n",
        "# dropping the unnecessary features\n"
      ],
      "execution_count": 146,
      "outputs": []
    },
    {
      "cell_type": "code",
      "metadata": {
        "id": "Z2a8oc2vEeUs"
      },
      "source": [
        "# FieldDrop1 = ['Purchase']"
      ],
      "execution_count": 147,
      "outputs": []
    },
    {
      "cell_type": "code",
      "metadata": {
        "id": "P1FoDFw2EgsJ"
      },
      "source": [
        "# df = df.drop(FieldDrop1, axis=1)"
      ],
      "execution_count": 148,
      "outputs": []
    },
    {
      "cell_type": "code",
      "metadata": {
        "id": "0CBxt78kH_I4"
      },
      "source": [
        "# df"
      ],
      "execution_count": 149,
      "outputs": []
    },
    {
      "cell_type": "code",
      "metadata": {
        "id": "ZmBgt32AYPWx",
        "outputId": "28e60605-1914-429b-aea9-12df2b71c161",
        "colab": {
          "base_uri": "https://localhost:8080/"
        }
      },
      "source": [
        "len(Feature_Drop)"
      ],
      "execution_count": 150,
      "outputs": [
        {
          "output_type": "execute_result",
          "data": {
            "text/plain": [
              "4"
            ]
          },
          "metadata": {
            "tags": []
          },
          "execution_count": 150
        }
      ]
    },
    {
      "cell_type": "code",
      "metadata": {
        "pycharm": {
          "name": "#%%\n"
        },
        "colab": {
          "base_uri": "https://localhost:8080/"
        },
        "id": "jEPAR0zSCR65",
        "outputId": "36d4604d-03c2-4705-fd8f-1d479e2ab26a"
      },
      "source": [
        "len(Feature_DropSoft)"
      ],
      "execution_count": 151,
      "outputs": [
        {
          "output_type": "execute_result",
          "data": {
            "text/plain": [
              "2"
            ]
          },
          "metadata": {
            "tags": []
          },
          "execution_count": 151
        }
      ]
    },
    {
      "cell_type": "code",
      "metadata": {
        "pycharm": {
          "name": "#%%\n"
        },
        "id": "RSUHchuACR67"
      },
      "source": [
        "# Feature_DropSoft = Feature_DropSoft + Feature_Drop\n",
        "# len(Feature_DropSoft)"
      ],
      "execution_count": 152,
      "outputs": []
    },
    {
      "cell_type": "code",
      "metadata": {
        "pycharm": {
          "name": "#%%\n"
        },
        "id": "hnPDBM2BCR67"
      },
      "source": [
        "UFeatures_Drop = list(())\n",
        "UFeatures_DropSoft = list(())"
      ],
      "execution_count": 153,
      "outputs": []
    },
    {
      "cell_type": "code",
      "metadata": {
        "pycharm": {
          "name": "#%%\n"
        },
        "colab": {
          "base_uri": "https://localhost:8080/"
        },
        "id": "whNlhDoiCR67",
        "outputId": "1f29dc1a-00bf-4b33-cfbd-ab371deedbdf"
      },
      "source": [
        "[UFeatures_Drop.append(x) for x in Feature_Drop if x not in UFeatures_Drop]\n",
        "[UFeatures_DropSoft.append(z) for z in Feature_DropSoft if z not in UFeatures_DropSoft]"
      ],
      "execution_count": 154,
      "outputs": [
        {
          "output_type": "execute_result",
          "data": {
            "text/plain": [
              "[None, None]"
            ]
          },
          "metadata": {
            "tags": []
          },
          "execution_count": 154
        }
      ]
    },
    {
      "cell_type": "code",
      "metadata": {
        "pycharm": {
          "name": "#%%\n"
        },
        "id": "IZIs8ETJCR68"
      },
      "source": [
        "length = len(UFeatures_Drop)\n",
        "lengthSoft = len(UFeatures_DropSoft)"
      ],
      "execution_count": 155,
      "outputs": []
    },
    {
      "cell_type": "code",
      "metadata": {
        "id": "wYpgexxIWG--"
      },
      "source": [
        "middle_index = length//2 # source code URL: https://www.kite.com/python/answers/how-to-split-a-list-in-half-in-python\n",
        "middle_indexSoft = lengthSoft//2"
      ],
      "execution_count": 156,
      "outputs": []
    },
    {
      "cell_type": "code",
      "metadata": {
        "id": "tJya3vUCWbX5"
      },
      "source": [
        "UFeatures_Droph = UFeatures_Drop[:middle_index]\n",
        "UFeatures_DropSofth = UFeatures_DropSoft[:middle_index]"
      ],
      "execution_count": 157,
      "outputs": []
    },
    {
      "cell_type": "code",
      "metadata": {
        "pycharm": {
          "name": "#%%\n"
        },
        "id": "CUHlXXZRCR69"
      },
      "source": [
        "UFeatures_Drop_United = UFeatures_Droph + UFeatures_DropSofth"
      ],
      "execution_count": 158,
      "outputs": []
    },
    {
      "cell_type": "code",
      "metadata": {
        "pycharm": {
          "name": "#%%\n"
        },
        "colab": {
          "base_uri": "https://localhost:8080/"
        },
        "id": "14VCvVifCR69",
        "outputId": "6f1b531a-f270-4ba8-cd55-fccf265283a7"
      },
      "source": [
        "len(UFeatures_Drop_United)"
      ],
      "execution_count": 159,
      "outputs": [
        {
          "output_type": "execute_result",
          "data": {
            "text/plain": [
              "4"
            ]
          },
          "metadata": {
            "tags": []
          },
          "execution_count": 159
        }
      ]
    },
    {
      "cell_type": "code",
      "metadata": {
        "pycharm": {
          "name": "#%%\n"
        },
        "id": "CFTNQ-cgCR6-"
      },
      "source": [
        "# df"
      ],
      "execution_count": 160,
      "outputs": []
    },
    {
      "cell_type": "code",
      "metadata": {
        "pycharm": {
          "name": "#%%\n"
        },
        "id": "k7zYoS-7S1-i"
      },
      "source": [
        "newdf = df.drop(UFeatures_Drop_United, axis=1).copy()"
      ],
      "execution_count": 161,
      "outputs": []
    },
    {
      "cell_type": "code",
      "metadata": {
        "pycharm": {
          "name": "#%%\n"
        },
        "id": "6HHmvJ2ECR7A"
      },
      "source": [
        "# newdf"
      ],
      "execution_count": 162,
      "outputs": []
    },
    {
      "cell_type": "code",
      "metadata": {
        "pycharm": {
          "name": "#%%\n"
        },
        "id": "MPMCR8huCR7B"
      },
      "source": [
        "# newdf2 = newdf.drop(Feature_DropSoft, axis=1).copy()"
      ],
      "execution_count": 163,
      "outputs": []
    },
    {
      "cell_type": "code",
      "metadata": {
        "pycharm": {
          "name": "#%%\n"
        },
        "id": "HuShJYb8CR7B"
      },
      "source": [
        "# newdf2.shape()"
      ],
      "execution_count": 164,
      "outputs": []
    },
    {
      "cell_type": "code",
      "metadata": {
        "pycharm": {
          "name": "#%%\n"
        },
        "id": "HQfupvdeS1-i"
      },
      "source": [
        "# newtr1 = newtr[['Gender_F','Gender_M','Age_0-17','Age_18-25','Age_26-35','Age_36-45','Age_46-50','Age_51-55','Age_55+','City_Category_A','City_Category_B','City_Category_C','Stay_In_Current_City_Years_0','Stay_In_Current_City_Years_1','Stay_In_Current_City_Years_2','Stay_In_Current_City_Years_3','Stay_In_Current_City_Years_4+']].copy()"
      ],
      "execution_count": 165,
      "outputs": []
    },
    {
      "cell_type": "code",
      "metadata": {
        "id": "wml26P41Tql5"
      },
      "source": [
        "# models = [LinearRegression(), # метод наименьших квадратов\n",
        "#\t          RandomForestRegressor(n_estimators=100, max_features ='sqrt'), # случайный лес\n",
        "#\t          KNeighborsRegressor(n_neighbors=6), # метод ближайших соседей\n",
        "#\t          SVR(kernel='linear'), # метод опорных векторов с линейным ядром\n",
        "#\t          LogisticRegression() # логистическая регрессия\n",
        "#\t          ]\n",
        "\n"
      ],
      "execution_count": 166,
      "outputs": []
    },
    {
      "cell_type": "code",
      "metadata": {
        "id": "9YUaERbqVMtH"
      },
      "source": [
        "from sklearn.model_selection import train_test_split"
      ],
      "execution_count": 167,
      "outputs": []
    },
    {
      "cell_type": "code",
      "metadata": {
        "id": "3a-SpNvtVYuX"
      },
      "source": [
        "Xtrn, Xtest, Ytrn, Ytest = train_test_split(newdf, target, test_size=0.2)\n"
      ],
      "execution_count": 168,
      "outputs": []
    },
    {
      "cell_type": "code",
      "metadata": {
        "colab": {
          "base_uri": "https://localhost:8080/"
        },
        "id": "_zsMbb7egBnt",
        "outputId": "2f0fc236-32c2-4ad0-e401-34dc9a7b2719"
      },
      "source": [
        "print (Xtrn.shape)\n",
        "print (Ytrn.shape)\n",
        "print (Xtest.shape)\n",
        "print (Ytest.shape)\n",
        "# print X_test.shape, y_test.shape\n",
        "# source code URL: https://towardsdatascience.com/train-test-split-and-cross-validation-in-python-80b61beca4b6"
      ],
      "execution_count": 169,
      "outputs": [
        {
          "output_type": "stream",
          "text": [
            "(80, 128)\n",
            "(80,)\n",
            "(20, 128)\n",
            "(20,)\n"
          ],
          "name": "stdout"
        }
      ]
    },
    {
      "cell_type": "code",
      "metadata": {
        "id": "nbCfPyz0Y5wY"
      },
      "source": [
        "# fit a model\n",
        "lm = LinearRegression()\n",
        "model = lm.fit(Xtrn, Ytrn)\n",
        "predictions = lm.predict(Xtest)\n"
      ],
      "execution_count": 170,
      "outputs": []
    },
    {
      "cell_type": "code",
      "metadata": {
        "colab": {
          "base_uri": "https://localhost:8080/"
        },
        "id": "-QbSHDNrhEqk",
        "outputId": "38b11284-2b3a-4f61-add2-0be0cb1fa0fd"
      },
      "source": [
        "# Let’s see what (some of) the predictions are:\n",
        "predictions[0:5]"
      ],
      "execution_count": 171,
      "outputs": [
        {
          "output_type": "execute_result",
          "data": {
            "text/plain": [
              "array([15853.99999947,  3957.00000284,  7746.00000535, 15911.99999924,\n",
              "        8290.00000277])"
            ]
          },
          "metadata": {
            "tags": []
          },
          "execution_count": 171
        }
      ]
    },
    {
      "cell_type": "code",
      "metadata": {
        "id": "oeOYq4w7lcb9"
      },
      "source": [
        "Ytest = Ytest.astype(float)\n",
        "predictions = predictions.astype(float)"
      ],
      "execution_count": 172,
      "outputs": []
    },
    {
      "cell_type": "code",
      "metadata": {
        "id": "_S7AnOW_hJaF"
      },
      "source": [
        "# source code URL: https://python-school.ru/linear-regression-basis/\n",
        "\n",
        "# Ytest = np.exp(Ytest)\n",
        "# predictions = np.exp(predictions)"
      ],
      "execution_count": 173,
      "outputs": []
    },
    {
      "cell_type": "code",
      "metadata": {
        "colab": {
          "base_uri": "https://localhost:8080/"
        },
        "id": "SZ0coOAwl-RG",
        "outputId": "690c9fb3-2374-416b-d8e9-402972e1cf23"
      },
      "source": [
        "# source code URL: https://python-school.ru/linear-regression-basis/\n",
        "from sklearn.metrics import mean_squared_error\n",
        "from sklearn.metrics import mean_absolute_error\n",
        "mse = mean_squared_error(Ytest, predictions)\n",
        "mae = mean_absolute_error(Ytest, predictions)\n",
        "print('mse: %.3f, mae: %.3f' % (mse, mae))"
      ],
      "execution_count": 174,
      "outputs": [
        {
          "output_type": "stream",
          "text": [
            "mse: 0.000, mae: 0.000\n"
          ],
          "name": "stdout"
        }
      ]
    },
    {
      "cell_type": "code",
      "metadata": {
        "id": "SjCt4ncxY86Y",
        "pycharm": {
          "name": "#%%\n"
        }
      },
      "source": [
        "# import seaborn as sns"
      ],
      "execution_count": 175,
      "outputs": []
    },
    {
      "cell_type": "code",
      "metadata": {
        "pycharm": {
          "name": "#%%\n"
        },
        "id": "9ni7JuKyCR7L"
      },
      "source": [
        "# sns.pairplot(newdf)\n"
      ],
      "execution_count": 176,
      "outputs": []
    },
    {
      "cell_type": "code",
      "metadata": {
        "pycharm": {
          "name": "#%%\n"
        },
        "id": "_fQXPkl2CR7M"
      },
      "source": [
        "# features = newdf.columns.values.tolist()"
      ],
      "execution_count": 177,
      "outputs": []
    },
    {
      "cell_type": "code",
      "metadata": {
        "pycharm": {
          "name": "#%%\n"
        },
        "id": "5Sk9Sls4CR7M"
      },
      "source": [
        "# sns.pairplot(newdf, x_vars=[features], y_vars='predictions', kind='reg', height=100)"
      ],
      "execution_count": 178,
      "outputs": []
    },
    {
      "cell_type": "code",
      "metadata": {
        "pycharm": {
          "name": "#%%\n"
        },
        "id": "Ps3KpW0cCR7M"
      },
      "source": [
        ""
      ],
      "execution_count": 178,
      "outputs": []
    }
  ]
}