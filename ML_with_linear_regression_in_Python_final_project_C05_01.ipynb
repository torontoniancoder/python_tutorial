{
  "nbformat": 4,
  "nbformat_minor": 0,
  "metadata": {
    "kernelspec": {
      "name": "python3",
      "language": "python",
      "display_name": "Python 3"
    },
    "language_info": {
      "codemirror_mode": {
        "name": "ipython",
        "version": 2
      },
      "file_extension": ".py",
      "mimetype": "text/x-python",
      "name": "python",
      "nbconvert_exporter": "python",
      "pygments_lexer": "ipython2",
      "version": "2.7.6"
    },
    "colab": {
      "name": "gulnev_andrei_final_project_C05.ipynb",
      "provenance": [],
      "collapsed_sections": [],
      "machine_shape": "hm",
      "include_colab_link": true
    }
  },
  "cells": [
    {
      "cell_type": "markdown",
      "metadata": {
        "id": "view-in-github",
        "colab_type": "text"
      },
      "source": [
        "<a href=\"https://colab.research.google.com/github/torontoniancoder/python_tutorial/blob/master/ML_with_linear_regression_in_Python_final_project_C05_01.ipynb\" target=\"_parent\"><img src=\"https://colab.research.google.com/assets/colab-badge.svg\" alt=\"Open In Colab\"/></a>"
      ]
    },
    {
      "cell_type": "code",
      "metadata": {
        "pycharm": {
          "name": "#%%\n"
        },
        "id": "fQ7bVgNhS1-Y"
      },
      "source": [
        "import pandas as pd\n",
        "import numpy as np"
      ],
      "execution_count": 237,
      "outputs": []
    },
    {
      "cell_type": "markdown",
      "metadata": {
        "collapsed": false,
        "id": "z_2iGtFqS1-d"
      },
      "source": [
        "A. Data cleaning"
      ]
    },
    {
      "cell_type": "code",
      "metadata": {
        "pycharm": {
          "name": "#%%\n"
        },
        "id": "YApvIdJLS1-d"
      },
      "source": [
        "def clean_data(df):\n",
        "    pd.set_option('mode.use_inf_as_na', True) # to recognise inf as a NaN in calculations: from here: https://stackoverflow.com/questions/58225701/change-pandas-default-fillna-setting\n",
        "    # todo: replace the nan values with relevant (??) values (MEAN?) -> replaced with 0-es\n",
        "    # selecting the columns for conversion from categorical data into columns of binary data\n",
        "    df_temp = df[['Product_ID','Gender','Age','Occupation', 'City_Category','Stay_In_Current_City_Years']]\n",
        "    # integer encoding\n",
        "    # source for instructions: https://towardsdatascience.com/the-dummys-guide-to-creating-dummy-variables-f21faddb1d40\n",
        "    # turning the type columns into the dummy variables\n",
        "    # No nan values therefore dummy_na=False\n",
        "    dummy = pd.get_dummies(df_temp, dummy_na=False, columns=['Product_ID','Gender','Age','Occupation', 'City_Category','Stay_In_Current_City_Years'], prefix=['Product_ID','Gender','Age','Occupation', 'City_Category','Stay_In_Current_City_Years'], dtype=int, drop_first=False)\n",
        "    # concatenating binary data into the initial dataframe\n",
        "    df = pd.concat([df,dummy], axis=1)\n",
        "    # dropping the unnecessary fields\n",
        "    # FieldDrop0 = ['User_ID','Product_ID','Gender','Age','Occupation','City_Category','Stay_In_Current_City_Years','Purchase']\n",
        "    # df = df.drop(FieldDrop0, axis=1)\n",
        "    colnames = df.columns.values.tolist() #converting column names into a list\n",
        "    # colnames\n",
        "    # counting nan values and removing columns with nan values more than 50% (threshold can be modified *there -> <-*)\n",
        "    for each in colnames:\n",
        "        # print(type(df[each]))\n",
        "        if (( df[each].isna().sum() / len(df[each]) ) > 0.5): # *-> <-* here! the threshold can be modified | source URL: https://stackoverflow.com/questions/26266362/how-to-count-the-nan-values-in-a-column-in-pandas-dataframe\n",
        "            print ('Due to low data quality\\n(data not available for more than 50% of data points)\\nI am deleting this column: '+each)\n",
        "            # *-> <-* here! in the line above the threshold must be modified if it si changed in the previous line\n",
        "            del df[each]\n",
        "        else:\n",
        "            df[each] = df[each].fillna(0)\n",
        "            df[each] = df[each].astype('string')\n",
        "            pass\n",
        "            # z = ( df[each].isna().sum() / len(df[each]) )*100\n",
        "            # print('For column '+str(each)+' unknown datapoints are '+str(z)+'% of series')\n",
        "    # df.info()\n",
        "    # df = df.astype('string') # source URL: https://stackoverflow.com/questions/22005911/convert-columns-to-string-in-pandas\n",
        "    # df[[\"D\", \"E\"]] = df[[\"D\", \"E\"]].astype(int)\n",
        "    #   cleaning temporary data\n",
        "    df_temp = 0\n",
        "    return df"
      ],
      "execution_count": 238,
      "outputs": []
    },
    {
      "cell_type": "code",
      "metadata": {
        "pycharm": {
          "name": "#%%\n"
        },
        "id": "EVV9iiOmS1-e"
      },
      "source": [
        "df = pd.read_csv('Black_Friday.csv') #loading data into a dataframe"
      ],
      "execution_count": 239,
      "outputs": []
    },
    {
      "cell_type": "code",
      "metadata": {
        "pycharm": {
          "name": "#%%\n"
        },
        "id": "JE6gL1kPCR6b"
      },
      "source": [
        "# *** REMOVE BEFORE ASSEMBLY *** BEGIN\n",
        "df = df.iloc[:7000] # slicing dataframe for test&dev performance\n",
        "# df.shape\n",
        "# *** REMOVE BEFORE ASSEMBLY *** END\n"
      ],
      "execution_count": 240,
      "outputs": []
    },
    {
      "cell_type": "code",
      "metadata": {
        "pycharm": {
          "name": "#%%\n"
        },
        "id": "WZk-MQNkCR6e"
      },
      "source": [
        "# keeping a control copy of the source dataset in variable df0\n",
        "df0 = df.copy()"
      ],
      "execution_count": 241,
      "outputs": []
    },
    {
      "cell_type": "code",
      "metadata": {
        "pycharm": {
          "name": "#%%\n"
        },
        "colab": {
          "base_uri": "https://localhost:8080/"
        },
        "id": "sL0hTVr1S1-e",
        "outputId": "55ed3efb-258e-4085-addf-ca410cbca3fb"
      },
      "source": [
        "df = clean_data(df) # running function clean_data on a dataframe"
      ],
      "execution_count": 242,
      "outputs": [
        {
          "output_type": "stream",
          "text": [
            "Due to low data quality\n",
            "(data not available for more than 50% of data points)\n",
            "I am deleting this column: Product_Category_3\n"
          ],
          "name": "stdout"
        }
      ]
    },
    {
      "cell_type": "code",
      "metadata": {
        "pycharm": {
          "name": "#%%\n"
        },
        "id": "mazvxf-KS1-f",
        "colab": {
          "base_uri": "https://localhost:8080/",
          "height": 311
        },
        "outputId": "2d9c23ca-c6e6-4d33-ed43-aa9fd56b385a"
      },
      "source": [
        "# df.info()\n",
        "# display(df.describe())"
      ],
      "execution_count": 243,
      "outputs": [
        {
          "output_type": "stream",
          "text": [
            "<class 'pandas.core.frame.DataFrame'>\n",
            "RangeIndex: 5000 entries, 0 to 4999\n",
            "Columns: 1797 entries, User_ID to Stay_In_Current_City_Years_4+\n",
            "dtypes: string(1797)\n",
            "memory usage: 68.6 MB\n"
          ],
          "name": "stdout"
        },
        {
          "output_type": "display_data",
          "data": {
            "text/html": [
              "<div>\n",
              "<style scoped>\n",
              "    .dataframe tbody tr th:only-of-type {\n",
              "        vertical-align: middle;\n",
              "    }\n",
              "\n",
              "    .dataframe tbody tr th {\n",
              "        vertical-align: top;\n",
              "    }\n",
              "\n",
              "    .dataframe thead th {\n",
              "        text-align: right;\n",
              "    }\n",
              "</style>\n",
              "<table border=\"1\" class=\"dataframe\">\n",
              "  <thead>\n",
              "    <tr style=\"text-align: right;\">\n",
              "      <th></th>\n",
              "      <th>User_ID</th>\n",
              "      <th>Product_ID</th>\n",
              "      <th>Gender</th>\n",
              "      <th>Age</th>\n",
              "      <th>Occupation</th>\n",
              "      <th>City_Category</th>\n",
              "      <th>Stay_In_Current_City_Years</th>\n",
              "      <th>Marital_Status</th>\n",
              "      <th>Product_Category_1</th>\n",
              "      <th>Product_Category_2</th>\n",
              "      <th>Purchase</th>\n",
              "      <th>Product_ID_P00000142</th>\n",
              "      <th>Product_ID_P00000342</th>\n",
              "      <th>Product_ID_P00000442</th>\n",
              "      <th>Product_ID_P00000542</th>\n",
              "      <th>Product_ID_P00000642</th>\n",
              "      <th>Product_ID_P00001042</th>\n",
              "      <th>Product_ID_P00001142</th>\n",
              "      <th>Product_ID_P00001242</th>\n",
              "      <th>Product_ID_P00001542</th>\n",
              "      <th>Product_ID_P00001642</th>\n",
              "      <th>Product_ID_P00001742</th>\n",
              "      <th>Product_ID_P00001942</th>\n",
              "      <th>Product_ID_P00002042</th>\n",
              "      <th>Product_ID_P00002142</th>\n",
              "      <th>Product_ID_P00002242</th>\n",
              "      <th>Product_ID_P00002342</th>\n",
              "      <th>Product_ID_P00002442</th>\n",
              "      <th>Product_ID_P00002542</th>\n",
              "      <th>Product_ID_P00002642</th>\n",
              "      <th>Product_ID_P00002942</th>\n",
              "      <th>Product_ID_P00003242</th>\n",
              "      <th>Product_ID_P00003442</th>\n",
              "      <th>Product_ID_P00003642</th>\n",
              "      <th>Product_ID_P00003942</th>\n",
              "      <th>Product_ID_P00004242</th>\n",
              "      <th>Product_ID_P00004342</th>\n",
              "      <th>Product_ID_P00004442</th>\n",
              "      <th>Product_ID_P00004542</th>\n",
              "      <th>Product_ID_P00004642</th>\n",
              "      <th>...</th>\n",
              "      <th>Product_ID_P0099442</th>\n",
              "      <th>Product_ID_P0099742</th>\n",
              "      <th>Gender_F</th>\n",
              "      <th>Gender_M</th>\n",
              "      <th>Age_0-17</th>\n",
              "      <th>Age_18-25</th>\n",
              "      <th>Age_26-35</th>\n",
              "      <th>Age_36-45</th>\n",
              "      <th>Age_46-50</th>\n",
              "      <th>Age_51-55</th>\n",
              "      <th>Age_55+</th>\n",
              "      <th>Occupation_0</th>\n",
              "      <th>Occupation_1</th>\n",
              "      <th>Occupation_2</th>\n",
              "      <th>Occupation_3</th>\n",
              "      <th>Occupation_4</th>\n",
              "      <th>Occupation_5</th>\n",
              "      <th>Occupation_6</th>\n",
              "      <th>Occupation_7</th>\n",
              "      <th>Occupation_8</th>\n",
              "      <th>Occupation_9</th>\n",
              "      <th>Occupation_10</th>\n",
              "      <th>Occupation_11</th>\n",
              "      <th>Occupation_12</th>\n",
              "      <th>Occupation_13</th>\n",
              "      <th>Occupation_14</th>\n",
              "      <th>Occupation_15</th>\n",
              "      <th>Occupation_16</th>\n",
              "      <th>Occupation_17</th>\n",
              "      <th>Occupation_18</th>\n",
              "      <th>Occupation_19</th>\n",
              "      <th>Occupation_20</th>\n",
              "      <th>City_Category_A</th>\n",
              "      <th>City_Category_B</th>\n",
              "      <th>City_Category_C</th>\n",
              "      <th>Stay_In_Current_City_Years_0</th>\n",
              "      <th>Stay_In_Current_City_Years_1</th>\n",
              "      <th>Stay_In_Current_City_Years_2</th>\n",
              "      <th>Stay_In_Current_City_Years_3</th>\n",
              "      <th>Stay_In_Current_City_Years_4+</th>\n",
              "    </tr>\n",
              "  </thead>\n",
              "  <tbody>\n",
              "    <tr>\n",
              "      <th>count</th>\n",
              "      <td>5000</td>\n",
              "      <td>5000</td>\n",
              "      <td>5000</td>\n",
              "      <td>5000</td>\n",
              "      <td>5000</td>\n",
              "      <td>5000</td>\n",
              "      <td>5000</td>\n",
              "      <td>5000</td>\n",
              "      <td>5000</td>\n",
              "      <td>5000</td>\n",
              "      <td>5000</td>\n",
              "      <td>5000</td>\n",
              "      <td>5000</td>\n",
              "      <td>5000</td>\n",
              "      <td>5000</td>\n",
              "      <td>5000</td>\n",
              "      <td>5000</td>\n",
              "      <td>5000</td>\n",
              "      <td>5000</td>\n",
              "      <td>5000</td>\n",
              "      <td>5000</td>\n",
              "      <td>5000</td>\n",
              "      <td>5000</td>\n",
              "      <td>5000</td>\n",
              "      <td>5000</td>\n",
              "      <td>5000</td>\n",
              "      <td>5000</td>\n",
              "      <td>5000</td>\n",
              "      <td>5000</td>\n",
              "      <td>5000</td>\n",
              "      <td>5000</td>\n",
              "      <td>5000</td>\n",
              "      <td>5000</td>\n",
              "      <td>5000</td>\n",
              "      <td>5000</td>\n",
              "      <td>5000</td>\n",
              "      <td>5000</td>\n",
              "      <td>5000</td>\n",
              "      <td>5000</td>\n",
              "      <td>5000</td>\n",
              "      <td>...</td>\n",
              "      <td>5000</td>\n",
              "      <td>5000</td>\n",
              "      <td>5000</td>\n",
              "      <td>5000</td>\n",
              "      <td>5000</td>\n",
              "      <td>5000</td>\n",
              "      <td>5000</td>\n",
              "      <td>5000</td>\n",
              "      <td>5000</td>\n",
              "      <td>5000</td>\n",
              "      <td>5000</td>\n",
              "      <td>5000</td>\n",
              "      <td>5000</td>\n",
              "      <td>5000</td>\n",
              "      <td>5000</td>\n",
              "      <td>5000</td>\n",
              "      <td>5000</td>\n",
              "      <td>5000</td>\n",
              "      <td>5000</td>\n",
              "      <td>5000</td>\n",
              "      <td>5000</td>\n",
              "      <td>5000</td>\n",
              "      <td>5000</td>\n",
              "      <td>5000</td>\n",
              "      <td>5000</td>\n",
              "      <td>5000</td>\n",
              "      <td>5000</td>\n",
              "      <td>5000</td>\n",
              "      <td>5000</td>\n",
              "      <td>5000</td>\n",
              "      <td>5000</td>\n",
              "      <td>5000</td>\n",
              "      <td>5000</td>\n",
              "      <td>5000</td>\n",
              "      <td>5000</td>\n",
              "      <td>5000</td>\n",
              "      <td>5000</td>\n",
              "      <td>5000</td>\n",
              "      <td>5000</td>\n",
              "      <td>5000</td>\n",
              "    </tr>\n",
              "    <tr>\n",
              "      <th>unique</th>\n",
              "      <td>726</td>\n",
              "      <td>1748</td>\n",
              "      <td>2</td>\n",
              "      <td>7</td>\n",
              "      <td>21</td>\n",
              "      <td>3</td>\n",
              "      <td>5</td>\n",
              "      <td>2</td>\n",
              "      <td>18</td>\n",
              "      <td>18</td>\n",
              "      <td>3670</td>\n",
              "      <td>2</td>\n",
              "      <td>2</td>\n",
              "      <td>2</td>\n",
              "      <td>2</td>\n",
              "      <td>2</td>\n",
              "      <td>2</td>\n",
              "      <td>2</td>\n",
              "      <td>2</td>\n",
              "      <td>2</td>\n",
              "      <td>2</td>\n",
              "      <td>2</td>\n",
              "      <td>2</td>\n",
              "      <td>2</td>\n",
              "      <td>2</td>\n",
              "      <td>2</td>\n",
              "      <td>2</td>\n",
              "      <td>2</td>\n",
              "      <td>2</td>\n",
              "      <td>2</td>\n",
              "      <td>2</td>\n",
              "      <td>2</td>\n",
              "      <td>2</td>\n",
              "      <td>2</td>\n",
              "      <td>2</td>\n",
              "      <td>2</td>\n",
              "      <td>2</td>\n",
              "      <td>2</td>\n",
              "      <td>2</td>\n",
              "      <td>2</td>\n",
              "      <td>...</td>\n",
              "      <td>2</td>\n",
              "      <td>2</td>\n",
              "      <td>2</td>\n",
              "      <td>2</td>\n",
              "      <td>2</td>\n",
              "      <td>2</td>\n",
              "      <td>2</td>\n",
              "      <td>2</td>\n",
              "      <td>2</td>\n",
              "      <td>2</td>\n",
              "      <td>2</td>\n",
              "      <td>2</td>\n",
              "      <td>2</td>\n",
              "      <td>2</td>\n",
              "      <td>2</td>\n",
              "      <td>2</td>\n",
              "      <td>2</td>\n",
              "      <td>2</td>\n",
              "      <td>2</td>\n",
              "      <td>2</td>\n",
              "      <td>2</td>\n",
              "      <td>2</td>\n",
              "      <td>2</td>\n",
              "      <td>2</td>\n",
              "      <td>2</td>\n",
              "      <td>2</td>\n",
              "      <td>2</td>\n",
              "      <td>2</td>\n",
              "      <td>2</td>\n",
              "      <td>2</td>\n",
              "      <td>2</td>\n",
              "      <td>2</td>\n",
              "      <td>2</td>\n",
              "      <td>2</td>\n",
              "      <td>2</td>\n",
              "      <td>2</td>\n",
              "      <td>2</td>\n",
              "      <td>2</td>\n",
              "      <td>2</td>\n",
              "      <td>2</td>\n",
              "    </tr>\n",
              "    <tr>\n",
              "      <th>top</th>\n",
              "      <td>1000424</td>\n",
              "      <td>P00112142</td>\n",
              "      <td>M</td>\n",
              "      <td>26-35</td>\n",
              "      <td>4</td>\n",
              "      <td>B</td>\n",
              "      <td>1</td>\n",
              "      <td>0</td>\n",
              "      <td>5</td>\n",
              "      <td>0.0</td>\n",
              "      <td>7187</td>\n",
              "      <td>0</td>\n",
              "      <td>0</td>\n",
              "      <td>0</td>\n",
              "      <td>0</td>\n",
              "      <td>0</td>\n",
              "      <td>0</td>\n",
              "      <td>0</td>\n",
              "      <td>0</td>\n",
              "      <td>0</td>\n",
              "      <td>0</td>\n",
              "      <td>0</td>\n",
              "      <td>0</td>\n",
              "      <td>0</td>\n",
              "      <td>0</td>\n",
              "      <td>0</td>\n",
              "      <td>0</td>\n",
              "      <td>0</td>\n",
              "      <td>0</td>\n",
              "      <td>0</td>\n",
              "      <td>0</td>\n",
              "      <td>0</td>\n",
              "      <td>0</td>\n",
              "      <td>0</td>\n",
              "      <td>0</td>\n",
              "      <td>0</td>\n",
              "      <td>0</td>\n",
              "      <td>0</td>\n",
              "      <td>0</td>\n",
              "      <td>0</td>\n",
              "      <td>...</td>\n",
              "      <td>0</td>\n",
              "      <td>0</td>\n",
              "      <td>0</td>\n",
              "      <td>1</td>\n",
              "      <td>0</td>\n",
              "      <td>0</td>\n",
              "      <td>0</td>\n",
              "      <td>0</td>\n",
              "      <td>0</td>\n",
              "      <td>0</td>\n",
              "      <td>0</td>\n",
              "      <td>0</td>\n",
              "      <td>0</td>\n",
              "      <td>0</td>\n",
              "      <td>0</td>\n",
              "      <td>0</td>\n",
              "      <td>0</td>\n",
              "      <td>0</td>\n",
              "      <td>0</td>\n",
              "      <td>0</td>\n",
              "      <td>0</td>\n",
              "      <td>0</td>\n",
              "      <td>0</td>\n",
              "      <td>0</td>\n",
              "      <td>0</td>\n",
              "      <td>0</td>\n",
              "      <td>0</td>\n",
              "      <td>0</td>\n",
              "      <td>0</td>\n",
              "      <td>0</td>\n",
              "      <td>0</td>\n",
              "      <td>0</td>\n",
              "      <td>0</td>\n",
              "      <td>0</td>\n",
              "      <td>0</td>\n",
              "      <td>0</td>\n",
              "      <td>0</td>\n",
              "      <td>0</td>\n",
              "      <td>0</td>\n",
              "      <td>0</td>\n",
              "    </tr>\n",
              "    <tr>\n",
              "      <th>freq</th>\n",
              "      <td>52</td>\n",
              "      <td>19</td>\n",
              "      <td>3859</td>\n",
              "      <td>1947</td>\n",
              "      <td>655</td>\n",
              "      <td>1976</td>\n",
              "      <td>1654</td>\n",
              "      <td>3116</td>\n",
              "      <td>1439</td>\n",
              "      <td>1597</td>\n",
              "      <td>7</td>\n",
              "      <td>4991</td>\n",
              "      <td>4999</td>\n",
              "      <td>4999</td>\n",
              "      <td>4998</td>\n",
              "      <td>4990</td>\n",
              "      <td>4996</td>\n",
              "      <td>4997</td>\n",
              "      <td>4998</td>\n",
              "      <td>4999</td>\n",
              "      <td>4995</td>\n",
              "      <td>4996</td>\n",
              "      <td>4999</td>\n",
              "      <td>4998</td>\n",
              "      <td>4995</td>\n",
              "      <td>4997</td>\n",
              "      <td>4999</td>\n",
              "      <td>4997</td>\n",
              "      <td>4994</td>\n",
              "      <td>4999</td>\n",
              "      <td>4997</td>\n",
              "      <td>4993</td>\n",
              "      <td>4991</td>\n",
              "      <td>4991</td>\n",
              "      <td>4994</td>\n",
              "      <td>4997</td>\n",
              "      <td>4999</td>\n",
              "      <td>4999</td>\n",
              "      <td>4998</td>\n",
              "      <td>4999</td>\n",
              "      <td>...</td>\n",
              "      <td>4997</td>\n",
              "      <td>4995</td>\n",
              "      <td>3859</td>\n",
              "      <td>3859</td>\n",
              "      <td>4891</td>\n",
              "      <td>3840</td>\n",
              "      <td>3053</td>\n",
              "      <td>4089</td>\n",
              "      <td>4586</td>\n",
              "      <td>4691</td>\n",
              "      <td>4850</td>\n",
              "      <td>4434</td>\n",
              "      <td>4675</td>\n",
              "      <td>4801</td>\n",
              "      <td>4770</td>\n",
              "      <td>4345</td>\n",
              "      <td>4931</td>\n",
              "      <td>4838</td>\n",
              "      <td>4490</td>\n",
              "      <td>4953</td>\n",
              "      <td>4918</td>\n",
              "      <td>4890</td>\n",
              "      <td>4859</td>\n",
              "      <td>4589</td>\n",
              "      <td>4906</td>\n",
              "      <td>4812</td>\n",
              "      <td>4928</td>\n",
              "      <td>4809</td>\n",
              "      <td>4524</td>\n",
              "      <td>4924</td>\n",
              "      <td>4913</td>\n",
              "      <td>4691</td>\n",
              "      <td>3530</td>\n",
              "      <td>3024</td>\n",
              "      <td>3446</td>\n",
              "      <td>4227</td>\n",
              "      <td>3346</td>\n",
              "      <td>4167</td>\n",
              "      <td>4049</td>\n",
              "      <td>4211</td>\n",
              "    </tr>\n",
              "  </tbody>\n",
              "</table>\n",
              "<p>4 rows × 1797 columns</p>\n",
              "</div>"
            ],
            "text/plain": [
              "        User_ID  ... Stay_In_Current_City_Years_4+\n",
              "count      5000  ...                          5000\n",
              "unique      726  ...                             2\n",
              "top     1000424  ...                             0\n",
              "freq         52  ...                          4211\n",
              "\n",
              "[4 rows x 1797 columns]"
            ]
          },
          "metadata": {
            "tags": []
          }
        }
      ]
    },
    {
      "cell_type": "markdown",
      "metadata": {
        "collapsed": false,
        "pycharm": {
          "name": "#%% md\n"
        },
        "id": "fwl8mPVsS1-f"
      },
      "source": [
        "C. Data Modeling"
      ]
    },
    {
      "cell_type": "code",
      "metadata": {
        "pycharm": {
          "name": "#%%\n"
        },
        "id": "JDCBHa2XS1-f"
      },
      "source": [
        "# source code URL: https://habr.com/ru/post/206306/\n",
        "# and here, URL: https://habr.com/ru/post/202090/\n",
        "\n",
        "# importing libraries\n",
        "\n",
        "from pandas import read_csv, DataFrame\n",
        "# from sklearn.neighbors import KNeighborsRegressor\n",
        "from sklearn.linear_model import LinearRegression, LogisticRegression\n",
        "# from sklearn.svm import SVR\n",
        "# from sklearn.ensemble import RandomForestRegressor\n",
        "# from sklearn.metrics import r2_score\n",
        "# from sklearn import cross_validation, svm\n",
        "# from sklearn.cross_validation import train_test_split"
      ],
      "execution_count": 244,
      "outputs": []
    },
    {
      "cell_type": "code",
      "metadata": {
        "pycharm": {
          "name": "#%%\n"
        },
        "id": "f_6-rrBlS1-g"
      },
      "source": [
        "# creating dataset with summary data per UserID\n",
        "\n",
        "# df_c1 = df.copy() #loading data into a dataframe"
      ],
      "execution_count": 245,
      "outputs": []
    },
    {
      "cell_type": "code",
      "metadata": {
        "pycharm": {
          "name": "#%%\n"
        },
        "id": "k-1wDjGiS1-g"
      },
      "source": [
        "# df_c1 = clean_data(df_c1) #\n",
        "# PreFinal_df = df.groupby('User_ID').sum()"
      ],
      "execution_count": 246,
      "outputs": []
    },
    {
      "cell_type": "code",
      "metadata": {
        "pycharm": {
          "name": "#%%\n"
        },
        "id": "QIcQt5UKS1-g"
      },
      "source": [
        "# df_c1.info()"
      ],
      "execution_count": 247,
      "outputs": []
    },
    {
      "cell_type": "code",
      "metadata": {
        "pycharm": {
          "name": "#%%\n"
        },
        "id": "O_H3bGG_S1-g"
      },
      "source": [
        "# df_c1 = df_c1.astype(str)"
      ],
      "execution_count": 248,
      "outputs": []
    },
    {
      "cell_type": "code",
      "metadata": {
        "pycharm": {
          "name": "#%%\n"
        },
        "id": "aexbhetKS1-g"
      },
      "source": [
        "# df_c1.info()"
      ],
      "execution_count": 249,
      "outputs": []
    },
    {
      "cell_type": "code",
      "metadata": {
        "pycharm": {
          "name": "#%%\n"
        },
        "id": "GRwxEx6BS1-h"
      },
      "source": [
        "# To begin with, we need to divide our training sample\n",
        "# into the indicator that we are examining, and its defining features:\n",
        "# todo: check features for cross-correlation, see source code\n",
        "#  here, URL: http://espressocode.top/python-pandas-dataframe-corr/\n",
        "\n",
        "# PreFinal_df"
      ],
      "execution_count": 250,
      "outputs": []
    },
    {
      "cell_type": "code",
      "metadata": {
        "id": "kZNx25sSFwuA"
      },
      "source": [
        "FieldDrop_PID = ['User_ID','Product_ID','Gender','Age','Occupation','City_Category','Stay_In_Current_City_Years']\n",
        "df = df.drop(FieldDrop_PID, axis=1)"
      ],
      "execution_count": 251,
      "outputs": []
    },
    {
      "cell_type": "code",
      "metadata": {
        "colab": {
          "base_uri": "https://localhost:8080/"
        },
        "id": "AXaFwUFdF1Fg",
        "outputId": "dc6fa217-f152-45a5-edad-2210c85e3590"
      },
      "source": [
        "df.info()"
      ],
      "execution_count": 252,
      "outputs": [
        {
          "output_type": "stream",
          "text": [
            "<class 'pandas.core.frame.DataFrame'>\n",
            "RangeIndex: 5000 entries, 0 to 4999\n",
            "Columns: 1790 entries, Marital_Status to Stay_In_Current_City_Years_4+\n",
            "dtypes: string(1790)\n",
            "memory usage: 68.3 MB\n"
          ],
          "name": "stdout"
        }
      ]
    },
    {
      "cell_type": "code",
      "metadata": {
        "pycharm": {
          "name": "#%%\n"
        },
        "id": "XJ_oAdp3S1-h"
      },
      "source": [
        "df = df.astype(float)\n",
        "# df.shape()\n",
        "# df.info()"
      ],
      "execution_count": 253,
      "outputs": []
    },
    {
      "cell_type": "code",
      "metadata": {
        "pycharm": {
          "name": "#%%\n"
        },
        "id": "xxHrdKFzCR6x"
      },
      "source": [
        "CorrKoeff = df.corr()"
      ],
      "execution_count": 254,
      "outputs": []
    },
    {
      "cell_type": "code",
      "metadata": {
        "pycharm": {
          "name": "#%%\n"
        },
        "id": "2eL4uQYGS1-h"
      },
      "source": [
        "# CorrKoeff"
      ],
      "execution_count": 255,
      "outputs": []
    },
    {
      "cell_type": "code",
      "metadata": {
        "pycharm": {
          "name": "#%%\n"
        },
        "id": "L_a4CbYAS1-h"
      },
      "source": [
        "colnames = 0"
      ],
      "execution_count": 256,
      "outputs": []
    },
    {
      "cell_type": "code",
      "metadata": {
        "pycharm": {
          "name": "#%%\n"
        },
        "id": "zk-uPauKCR6z"
      },
      "source": [
        "colnames = CorrKoeff.columns.values.tolist()"
      ],
      "execution_count": 257,
      "outputs": []
    },
    {
      "cell_type": "code",
      "metadata": {
        "pycharm": {
          "name": "#%%\n"
        },
        "id": "TOKdOwKtCR60"
      },
      "source": [
        "Feature_Drop = list(())\n",
        "Feature_DropSoft = list(())"
      ],
      "execution_count": 258,
      "outputs": []
    },
    {
      "cell_type": "code",
      "metadata": {
        "pycharm": {
          "name": "#%%\n"
        },
        "id": "ClZqmB66CR61"
      },
      "source": [
        "# checking the correlation between the features\n",
        "for each in colnames:\n",
        "    i = len(CorrKoeff[each])\n",
        "    for i in range(i):\n",
        "        if (CorrKoeff.iloc[i][each]  > 0.95) and (CorrKoeff.index[i] != each):\n",
        "            # print('\\n* *XX*|||*XX* * !!WARNING!! ['+str(each)+'] IS CORRELATED WITH '+str(CorrKoeff.index[i])+' BY '+str(CorrKoeff.iloc[i][each])+' * *XX*|||*XX* *')\n",
        "            Feature_Drop.append(each)\n",
        "            pass\n",
        "        elif (CorrKoeff.iloc[i][each]  < -0.95) and (CorrKoeff.index[i] != each):\n",
        "            # print('\\n- *XX*XX* - Attention: ['+str(each)+'] is correlated with ['+str(CorrKoeff.index[i])+'] by '+str(CorrKoeff.iloc[i][each])+' - *XX*XX* -\\n')\n",
        "            Feature_DropSoft.append(each)\n",
        "            pass\n",
        "        else:\n",
        "            pass\n",
        "    # print('----- * ----- '+str(each)+' is [COMPLETE] ----- * -----')"
      ],
      "execution_count": 259,
      "outputs": []
    },
    {
      "cell_type": "code",
      "metadata": {
        "pycharm": {
          "name": "#%%\n"
        },
        "id": "gnqYsHvPCR62"
      },
      "source": [
        "# there is a correlation > 95% and <-95% between the features in df"
      ],
      "execution_count": 260,
      "outputs": []
    },
    {
      "cell_type": "code",
      "metadata": {
        "pycharm": {
          "name": "#%%\n"
        },
        "id": "Ph-NDaTWS1-h"
      },
      "source": [
        "# todo: drop the unnecessary features (columns)"
      ],
      "execution_count": 261,
      "outputs": []
    },
    {
      "cell_type": "code",
      "metadata": {
        "pycharm": {
          "name": "#%%\n"
        },
        "id": "_AOTXF5qCR65"
      },
      "source": [
        "# writing the Purchase data (targeted for prediction) into a separate dataset\n",
        "target = df0['Purchase']\n",
        "# dropping the unnecessary features\n"
      ],
      "execution_count": 262,
      "outputs": []
    },
    {
      "cell_type": "code",
      "metadata": {
        "id": "Z2a8oc2vEeUs"
      },
      "source": [
        "# FieldDrop1 = ['Purchase']"
      ],
      "execution_count": 263,
      "outputs": []
    },
    {
      "cell_type": "code",
      "metadata": {
        "id": "P1FoDFw2EgsJ"
      },
      "source": [
        "# df = df.drop(FieldDrop1, axis=1)"
      ],
      "execution_count": 264,
      "outputs": []
    },
    {
      "cell_type": "code",
      "metadata": {
        "id": "0CBxt78kH_I4"
      },
      "source": [
        "# df"
      ],
      "execution_count": 265,
      "outputs": []
    },
    {
      "cell_type": "code",
      "metadata": {
        "colab": {
          "base_uri": "https://localhost:8080/"
        },
        "id": "ZmBgt32AYPWx",
        "outputId": "1648a880-34c8-417b-ec2f-0071ada7fb01"
      },
      "source": [
        "len(Feature_Drop) # these are features that are absolutely certain to be removed"
      ],
      "execution_count": 266,
      "outputs": [
        {
          "output_type": "execute_result",
          "data": {
            "text/plain": [
              "0"
            ]
          },
          "metadata": {
            "tags": []
          },
          "execution_count": 266
        }
      ]
    },
    {
      "cell_type": "code",
      "metadata": {
        "pycharm": {
          "name": "#%%\n"
        },
        "colab": {
          "base_uri": "https://localhost:8080/"
        },
        "id": "jEPAR0zSCR65",
        "outputId": "8c657d37-71a3-4c8f-b114-29ca8840f00b"
      },
      "source": [
        "len(Feature_DropSoft) # these are features that are not certain to be removed"
      ],
      "execution_count": 267,
      "outputs": [
        {
          "output_type": "execute_result",
          "data": {
            "text/plain": [
              "2"
            ]
          },
          "metadata": {
            "tags": []
          },
          "execution_count": 267
        }
      ]
    },
    {
      "cell_type": "code",
      "metadata": {
        "pycharm": {
          "name": "#%%\n"
        },
        "id": "RSUHchuACR67"
      },
      "source": [
        "# Feature_DropSoft = Feature_DropSoft + Feature_Drop\n",
        "# len(Feature_DropSoft)"
      ],
      "execution_count": 268,
      "outputs": []
    },
    {
      "cell_type": "code",
      "metadata": {
        "pycharm": {
          "name": "#%%\n"
        },
        "id": "hnPDBM2BCR67"
      },
      "source": [
        "UFeatures_Drop = list(())\n",
        "UFeatures_DropSoft = list(())"
      ],
      "execution_count": 269,
      "outputs": []
    },
    {
      "cell_type": "code",
      "metadata": {
        "pycharm": {
          "name": "#%%\n"
        },
        "colab": {
          "base_uri": "https://localhost:8080/"
        },
        "id": "whNlhDoiCR67",
        "outputId": "796a6dae-cf98-4744-c6f2-a2312fb0bfb0"
      },
      "source": [
        "[UFeatures_Drop.append(x) for x in Feature_Drop if x not in UFeatures_Drop]\n",
        "[UFeatures_DropSoft.append(z) for z in Feature_DropSoft if z not in UFeatures_DropSoft]"
      ],
      "execution_count": 270,
      "outputs": [
        {
          "output_type": "execute_result",
          "data": {
            "text/plain": [
              "[None, None]"
            ]
          },
          "metadata": {
            "tags": []
          },
          "execution_count": 270
        }
      ]
    },
    {
      "cell_type": "code",
      "metadata": {
        "pycharm": {
          "name": "#%%\n"
        },
        "id": "IZIs8ETJCR68"
      },
      "source": [
        "length = len(UFeatures_Drop)\n",
        "lengthSoft = len(UFeatures_DropSoft)"
      ],
      "execution_count": 271,
      "outputs": []
    },
    {
      "cell_type": "code",
      "metadata": {
        "id": "wYpgexxIWG--"
      },
      "source": [
        "middle_index = length//2 # source code URL: https://www.kite.com/python/answers/how-to-split-a-list-in-half-in-python\n",
        "middle_indexSoft = lengthSoft//2"
      ],
      "execution_count": 272,
      "outputs": []
    },
    {
      "cell_type": "code",
      "metadata": {
        "id": "tJya3vUCWbX5"
      },
      "source": [
        "UFeatures_Droph = UFeatures_Drop[:middle_index]\n",
        "UFeatures_DropSofth = UFeatures_DropSoft[:middle_index]"
      ],
      "execution_count": 273,
      "outputs": []
    },
    {
      "cell_type": "code",
      "metadata": {
        "pycharm": {
          "name": "#%%\n"
        },
        "id": "CUHlXXZRCR69"
      },
      "source": [
        "UFeatures_Drop_United = UFeatures_Droph + UFeatures_DropSofth"
      ],
      "execution_count": 274,
      "outputs": []
    },
    {
      "cell_type": "code",
      "metadata": {
        "pycharm": {
          "name": "#%%\n"
        },
        "colab": {
          "base_uri": "https://localhost:8080/"
        },
        "id": "14VCvVifCR69",
        "outputId": "c61b3200-7e4c-43ff-eaab-e60f8d8a6825"
      },
      "source": [
        "len(UFeatures_Drop_United)"
      ],
      "execution_count": 275,
      "outputs": [
        {
          "output_type": "execute_result",
          "data": {
            "text/plain": [
              "0"
            ]
          },
          "metadata": {
            "tags": []
          },
          "execution_count": 275
        }
      ]
    },
    {
      "cell_type": "code",
      "metadata": {
        "pycharm": {
          "name": "#%%\n"
        },
        "id": "CFTNQ-cgCR6-"
      },
      "source": [
        "# df"
      ],
      "execution_count": 276,
      "outputs": []
    },
    {
      "cell_type": "code",
      "metadata": {
        "pycharm": {
          "name": "#%%\n"
        },
        "id": "k7zYoS-7S1-i"
      },
      "source": [
        "newdf = df.drop(UFeatures_Drop_United, axis=1).copy()"
      ],
      "execution_count": 277,
      "outputs": []
    },
    {
      "cell_type": "code",
      "metadata": {
        "pycharm": {
          "name": "#%%\n"
        },
        "id": "6HHmvJ2ECR7A"
      },
      "source": [
        "# newdf"
      ],
      "execution_count": 278,
      "outputs": []
    },
    {
      "cell_type": "code",
      "metadata": {
        "pycharm": {
          "name": "#%%\n"
        },
        "id": "MPMCR8huCR7B"
      },
      "source": [
        "# newdf2 = newdf.drop(Feature_DropSoft, axis=1).copy()"
      ],
      "execution_count": 279,
      "outputs": []
    },
    {
      "cell_type": "code",
      "metadata": {
        "pycharm": {
          "name": "#%%\n"
        },
        "id": "HuShJYb8CR7B"
      },
      "source": [
        "# newdf2.shape()"
      ],
      "execution_count": 280,
      "outputs": []
    },
    {
      "cell_type": "code",
      "metadata": {
        "pycharm": {
          "name": "#%%\n"
        },
        "id": "HQfupvdeS1-i"
      },
      "source": [
        "# newtr1 = newtr[['Gender_F','Gender_M','Age_0-17','Age_18-25','Age_26-35','Age_36-45','Age_46-50','Age_51-55','Age_55+','City_Category_A','City_Category_B','City_Category_C','Stay_In_Current_City_Years_0','Stay_In_Current_City_Years_1','Stay_In_Current_City_Years_2','Stay_In_Current_City_Years_3','Stay_In_Current_City_Years_4+']].copy()"
      ],
      "execution_count": 281,
      "outputs": []
    },
    {
      "cell_type": "code",
      "metadata": {
        "id": "wml26P41Tql5"
      },
      "source": [
        "# models = [LinearRegression(), # метод наименьших квадратов\n",
        "#\t          RandomForestRegressor(n_estimators=100, max_features ='sqrt'), # случайный лес\n",
        "#\t          KNeighborsRegressor(n_neighbors=6), # метод ближайших соседей\n",
        "#\t          SVR(kernel='linear'), # метод опорных векторов с линейным ядром\n",
        "#\t          LogisticRegression() # логистическая регрессия\n",
        "#\t          ]\n",
        "\n"
      ],
      "execution_count": 282,
      "outputs": []
    },
    {
      "cell_type": "code",
      "metadata": {
        "id": "9YUaERbqVMtH"
      },
      "source": [
        "from sklearn.model_selection import train_test_split"
      ],
      "execution_count": 283,
      "outputs": []
    },
    {
      "cell_type": "code",
      "metadata": {
        "id": "3a-SpNvtVYuX"
      },
      "source": [
        "Xtrn, Xtest, Ytrn, Ytest = train_test_split(newdf, target, test_size=0.2)\n"
      ],
      "execution_count": 284,
      "outputs": []
    },
    {
      "cell_type": "code",
      "metadata": {
        "colab": {
          "base_uri": "https://localhost:8080/"
        },
        "id": "_zsMbb7egBnt",
        "outputId": "b1159a0b-7291-4d8f-af57-5e85fb32aa98"
      },
      "source": [
        "print (Xtrn.shape)\n",
        "print (Ytrn.shape)\n",
        "print (Xtest.shape)\n",
        "print (Ytest.shape)\n",
        "# print X_test.shape, y_test.shape\n",
        "# source code URL: https://towardsdatascience.com/train-test-split-and-cross-validation-in-python-80b61beca4b6"
      ],
      "execution_count": 285,
      "outputs": [
        {
          "output_type": "stream",
          "text": [
            "(4000, 1790)\n",
            "(4000,)\n",
            "(1000, 1790)\n",
            "(1000,)\n"
          ],
          "name": "stdout"
        }
      ]
    },
    {
      "cell_type": "code",
      "metadata": {
        "id": "nbCfPyz0Y5wY"
      },
      "source": [
        "# fit a model\n",
        "lm = LinearRegression()\n",
        "model = lm.fit(Xtrn, Ytrn)\n",
        "predictions = lm.predict(Xtest)\n"
      ],
      "execution_count": 286,
      "outputs": []
    },
    {
      "cell_type": "code",
      "metadata": {
        "colab": {
          "base_uri": "https://localhost:8080/"
        },
        "id": "-QbSHDNrhEqk",
        "outputId": "23b0135f-fad9-4805-81e6-06ffe658a969"
      },
      "source": [
        "# Let’s see what (some of) the predictions are:\n",
        "predictions[0:5]"
      ],
      "execution_count": 287,
      "outputs": [
        {
          "output_type": "execute_result",
          "data": {
            "text/plain": [
              "array([ 6078.        ,  6182.        , 15275.00000576,  6121.99998309,\n",
              "        7037.        ])"
            ]
          },
          "metadata": {
            "tags": []
          },
          "execution_count": 287
        }
      ]
    },
    {
      "cell_type": "code",
      "metadata": {
        "id": "oeOYq4w7lcb9"
      },
      "source": [
        "Ytest = Ytest.astype(float)\n",
        "predictions = predictions.astype(float)"
      ],
      "execution_count": 288,
      "outputs": []
    },
    {
      "cell_type": "code",
      "metadata": {
        "id": "_S7AnOW_hJaF"
      },
      "source": [
        "# source code URL: https://python-school.ru/linear-regression-basis/\n",
        "\n",
        "# Ytest = np.exp(Ytest)\n",
        "# predictions = np.exp(predictions)"
      ],
      "execution_count": 289,
      "outputs": []
    },
    {
      "cell_type": "code",
      "metadata": {
        "colab": {
          "base_uri": "https://localhost:8080/"
        },
        "id": "SZ0coOAwl-RG",
        "outputId": "f21752dc-0d9e-44ea-f575-44f02b59dfb7"
      },
      "source": [
        "# source code URL: https://python-school.ru/linear-regression-basis/\n",
        "from sklearn.metrics import mean_squared_error\n",
        "from sklearn.metrics import mean_absolute_error\n",
        "mse = mean_squared_error(Ytest, predictions)\n",
        "mae = mean_absolute_error(Ytest, predictions)\n",
        "print('Mean Squared Error: %.3f, Mean Squared Error: %.3f' % (mse, mae))"
      ],
      "execution_count": 290,
      "outputs": [
        {
          "output_type": "stream",
          "text": [
            "Mean Squared Error: 0.000, Mean Squared Error: 0.000\n"
          ],
          "name": "stdout"
        }
      ]
    },
    {
      "cell_type": "code",
      "metadata": {
        "id": "SjCt4ncxY86Y",
        "pycharm": {
          "name": "#%%\n"
        }
      },
      "source": [
        "# import seaborn as sns"
      ],
      "execution_count": 291,
      "outputs": []
    },
    {
      "cell_type": "code",
      "metadata": {
        "pycharm": {
          "name": "#%%\n"
        },
        "id": "9ni7JuKyCR7L"
      },
      "source": [
        "# sns.pairplot(newdf)\n"
      ],
      "execution_count": 292,
      "outputs": []
    },
    {
      "cell_type": "code",
      "metadata": {
        "pycharm": {
          "name": "#%%\n"
        },
        "id": "_fQXPkl2CR7M"
      },
      "source": [
        "# features = newdf.columns.values.tolist()"
      ],
      "execution_count": 293,
      "outputs": []
    },
    {
      "cell_type": "code",
      "metadata": {
        "pycharm": {
          "name": "#%%\n"
        },
        "id": "5Sk9Sls4CR7M"
      },
      "source": [
        "# sns.pairplot(newdf, x_vars=[features], y_vars='predictions', kind='reg', height=100)"
      ],
      "execution_count": 294,
      "outputs": []
    },
    {
      "cell_type": "code",
      "metadata": {
        "pycharm": {
          "name": "#%%\n"
        },
        "id": "Ps3KpW0cCR7M"
      },
      "source": [
        ""
      ],
      "execution_count": 294,
      "outputs": []
    }
  ]
}