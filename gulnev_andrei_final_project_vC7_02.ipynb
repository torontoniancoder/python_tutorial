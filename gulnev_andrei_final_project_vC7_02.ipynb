{
  "nbformat": 4,
  "nbformat_minor": 0,
  "metadata": {
    "kernelspec": {
      "name": "python3",
      "language": "python",
      "display_name": "Python 3"
    },
    "colab": {
      "name": "gulnev_andrei_final_project_vC7_02.ipynb",
      "provenance": [],
      "machine_shape": "hm",
      "include_colab_link": true
    }
  },
  "cells": [
    {
      "cell_type": "markdown",
      "metadata": {
        "id": "view-in-github",
        "colab_type": "text"
      },
      "source": [
        "<a href=\"https://colab.research.google.com/github/torontoniancoder/python_tutorial/blob/master/gulnev_andrei_final_project_vC7_02.ipynb\" target=\"_parent\"><img src=\"https://colab.research.google.com/assets/colab-badge.svg\" alt=\"Open In Colab\"/></a>"
      ]
    },
    {
      "cell_type": "code",
      "metadata": {
        "pycharm": {
          "name": "#%%\n"
        },
        "id": "5OszHs2JSNNx"
      },
      "source": [
        "# importing pandas and numpy\n",
        "import pandas as pd\n",
        "import numpy as np"
      ],
      "execution_count": 102,
      "outputs": []
    },
    {
      "cell_type": "markdown",
      "metadata": {
        "collapsed": false,
        "id": "k4PVMXYJSNOG"
      },
      "source": [
        "A. Data cleaning"
      ]
    },
    {
      "cell_type": "code",
      "metadata": {
        "pycharm": {
          "name": "#%%\n"
        },
        "id": "O3NwrDj-SNOI"
      },
      "source": [
        "def clean_data(df):\n",
        "    pd.set_option('mode.use_inf_as_na', True) # to recognise inf as a NaN in calculations: from here: https://stackoverflow.com/questions/58225701/change-pandas-default-fillna-setting\n",
        "    # todo: replace the nan values with relevant (??) values (MEAN?) -> replaced with 0-es\n",
        "    # selecting the columns for conversion from categorical data into columns of binary data\n",
        "    df_temp = df[['Gender','Age','Occupation', 'City_Category','Stay_In_Current_City_Years']]\n",
        "    # integer encoding\n",
        "    # source for instructions: https://towardsdatascience.com/the-dummys-guide-to-creating-dummy-variables-f21faddb1d40\n",
        "    # turning the type columns into the dummy variables\n",
        "    # No nan values therefore dummy_na=False\n",
        "    dummy = pd.get_dummies(df_temp, dummy_na=False, columns=['Gender','Age','Occupation', 'City_Category','Stay_In_Current_City_Years'], prefix=['Gender','Age','Occupation', 'City_Category','Stay_In_Current_City_Years'], dtype=int, drop_first=False)\n",
        "    # concatenating binary data into the initial dataframe\n",
        "    df = pd.concat([df,dummy], axis=1)\n",
        "    # dropping the unnecessary fields\n",
        "    # FieldDrop0 = ['User_ID','Product_ID','Gender','Age','Occupation','City_Category','Stay_In_Current_City_Years']\n",
        "    # df = df.drop(FieldDrop0, axis=1)\n",
        "    colnames = df.columns.values.tolist() #converting column names into a list\n",
        "    # colnames\n",
        "    # counting nan values and removing columns with nan values more than 50% (threshold can be modified *there -> <-*)\n",
        "    for each in colnames:\n",
        "        # print(type(df[each]))\n",
        "        if (( df[each].isna().sum() / len(df[each]) ) > 0.5): # *-> <-* here! the threshold can be modified | source URL: https://stackoverflow.com/questions/26266362/how-to-count-the-nan-values-in-a-column-in-pandas-dataframe\n",
        "            print ('Due to low data quality\\n(data not available for more than 50% of data points)\\nI am deleting this column: '+each)\n",
        "            # *-> <-* here! in the line above the threshold must be modified if it si changed in the previous line\n",
        "            del df[each]\n",
        "        else:\n",
        "            df[each] = df[each].fillna(0)\n",
        "            # df[each] = df[each].astype('string')\n",
        "            pass\n",
        "            # z = ( df[each].isna().sum() / len(df[each]) )*100\n",
        "            # print('For column '+str(each)+' unknown datapoints are '+str(z)+'% of series')\n",
        "    # df.info()\n",
        "    # df = df.astype('string') # source URL: https://stackoverflow.com/questions/22005911/convert-columns-to-string-in-pandas\n",
        "    # df[[\"D\", \"E\"]] = df[[\"D\", \"E\"]].astype(int)\n",
        "    #   cleaning temporary data\n",
        "    df_temp = 0\n",
        "    return df"
      ],
      "execution_count": 103,
      "outputs": []
    },
    {
      "cell_type": "code",
      "metadata": {
        "pycharm": {
          "name": "#%%\n"
        },
        "id": "LAOTEuvKSNOM"
      },
      "source": [
        "df = pd.read_csv('Black_Friday.csv') #loading data into a dataframe"
      ],
      "execution_count": 104,
      "outputs": []
    },
    {
      "cell_type": "code",
      "metadata": {
        "pycharm": {
          "name": "#%%\n"
        },
        "colab": {
          "base_uri": "https://localhost:8080/"
        },
        "id": "Wozt7volSNOP",
        "outputId": "54ca42c3-6fb4-4f9c-8599-05cf2c280bbb"
      },
      "source": [
        "# *** REMOVE BEFORE ASSEMBLY *** BEGIN\n",
        "df = df.iloc[:100] # slicing dataframe for test&dev performance\n",
        "df.shape\n",
        "# *** REMOVE BEFORE ASSEMBLY *** END"
      ],
      "execution_count": 105,
      "outputs": [
        {
          "output_type": "execute_result",
          "data": {
            "text/plain": [
              "(100, 12)"
            ]
          },
          "metadata": {
            "tags": []
          },
          "execution_count": 105
        }
      ]
    },
    {
      "cell_type": "code",
      "metadata": {
        "pycharm": {
          "name": "#%%\n"
        },
        "id": "KgIOKVPLSNOV"
      },
      "source": [
        "# keeping a control copy of the source dataset in variable df0\n",
        "df0 = df.copy()"
      ],
      "execution_count": 106,
      "outputs": []
    },
    {
      "cell_type": "code",
      "metadata": {
        "pycharm": {
          "name": "#%%\n"
        },
        "colab": {
          "base_uri": "https://localhost:8080/"
        },
        "id": "CRODFW28SNOX",
        "outputId": "c967e661-bfeb-4b96-9844-29561bb15df0"
      },
      "source": [
        "df = clean_data(df) # running function clean_data on a dataframe"
      ],
      "execution_count": 107,
      "outputs": [
        {
          "output_type": "stream",
          "text": [
            "Due to low data quality\n",
            "(data not available for more than 50% of data points)\n",
            "I am deleting this column: Product_Category_3\n"
          ],
          "name": "stdout"
        }
      ]
    },
    {
      "cell_type": "markdown",
      "metadata": {
        "collapsed": false,
        "id": "0qQWuICFSNOY"
      },
      "source": [
        "B. Data Analysis"
      ]
    },
    {
      "cell_type": "code",
      "metadata": {
        "pycharm": {
          "name": "#%%\n"
        },
        "id": "PrAZuytaSNOa"
      },
      "source": [
        "# 1- Compare number of customers, and total amount of purchase for each gender? Is this a balance dataset with respect to gender? (5%)\n",
        "# 2- Compare total amount of purchase for different cities. (5%)\n",
        "# 3- Compare total amount of purchase for combinations of gender and age. Which gender and age is better target for marketing campaign? (5%)\n",
        "# 4- Using box and whisker plot, compare distribution of purchase amounts among combinations of genders and age. (5%)\n",
        "# 5- Using box and whisker plot, compare distribution of purchase amounts among different occupations. (5%)\n",
        "# 6- (Optional) Create a heatmap or scatter plot showing correlation matrix of all of two numerical features. Which features are positively correlated with purchase amount? (+10%)"
      ],
      "execution_count": 108,
      "outputs": []
    },
    {
      "cell_type": "code",
      "metadata": {
        "pycharm": {
          "name": "#%%\n"
        },
        "id": "sexmCs3dSNOb"
      },
      "source": [
        "# 1- Compare number of customers,\n",
        "# and total amount of purchase for each gender?\n",
        "# Is this a balance dataset with respect to gender? (5%)\n",
        "\n",
        "# Columns: User_ID, Gender, Purchase"
      ],
      "execution_count": 109,
      "outputs": []
    },
    {
      "cell_type": "code",
      "metadata": {
        "pycharm": {
          "name": "#%%\n"
        },
        "id": "XkkkbN1CSNOd"
      },
      "source": [
        "# building Multi-Index\n",
        "a = df.User_ID.tolist()\n",
        "b = df.Gender.tolist()\n",
        "arrays = np.array([a,b])\n",
        "index = pd.MultiIndex.from_arrays(arrays, names =['customer','gender'])"
      ],
      "execution_count": 110,
      "outputs": []
    },
    {
      "cell_type": "code",
      "metadata": {
        "pycharm": {
          "name": "#%%\n"
        },
        "id": "rTQEINacSNOh"
      },
      "source": [
        "# loading Purchase amounts data into c\n",
        "c = df['Purchase'].tolist()"
      ],
      "execution_count": 111,
      "outputs": []
    },
    {
      "cell_type": "code",
      "metadata": {
        "pycharm": {
          "name": "#%%\n"
        },
        "id": "IrvSfATrSNOj"
      },
      "source": [
        "# applying Multi-Index to data\n",
        "s = pd.Series(c, index=index)"
      ],
      "execution_count": 112,
      "outputs": []
    },
    {
      "cell_type": "code",
      "metadata": {
        "pycharm": {
          "name": "#%%\n"
        },
        "id": "KFV7VuSvSNOk"
      },
      "source": [
        "# grouping by gender\n",
        "most = s.groupby(level=['gender']).sum()\n",
        "# print(most)"
      ],
      "execution_count": 113,
      "outputs": []
    },
    {
      "cell_type": "code",
      "metadata": {
        "pycharm": {
          "name": "#%%\n"
        },
        "id": "w8HUdU7nSNOm"
      },
      "source": [
        "# double-check\n",
        "# summa = df.Purchase.sum()\n",
        "# most.sum()"
      ],
      "execution_count": 114,
      "outputs": []
    },
    {
      "cell_type": "code",
      "metadata": {
        "pycharm": {
          "name": "#%%\n"
        },
        "id": "oBPCIPq0SNOn"
      },
      "source": [
        "# grouping by amount of unique customers\n",
        "s2 = s.groupby([pd.Grouper(level=1), 'customer']).count().copy() # grouping by customer and copying into new variable s2\n",
        "customers_by_genger = s2.groupby(level=['gender']).count() #counting unique customers and grouping them by gender"
      ],
      "execution_count": 115,
      "outputs": []
    },
    {
      "cell_type": "markdown",
      "metadata": {
        "collapsed": false,
        "id": "NEhTGChQSNOo"
      },
      "source": [
        "B1. Comparing number of customers,\n",
        " and total amount of purchase for each gender?\n",
        " Is this a balance dataset with respect to gender?\n",
        "\n",
        "Number of customers by gender:"
      ]
    },
    {
      "cell_type": "code",
      "metadata": {
        "pycharm": {
          "name": "#%%\n"
        },
        "colab": {
          "base_uri": "https://localhost:8080/"
        },
        "id": "6az0HuNpSNOp",
        "outputId": "477eac8e-6ab7-439d-c2ca-12ccf187e5c1"
      },
      "source": [
        "print(customers_by_genger)"
      ],
      "execution_count": 116,
      "outputs": [
        {
          "output_type": "stream",
          "text": [
            "gender\n",
            "F     6\n",
            "M    15\n",
            "dtype: int64\n"
          ],
          "name": "stdout"
        }
      ]
    },
    {
      "cell_type": "markdown",
      "metadata": {
        "collapsed": false,
        "id": "SiqYjFuOSNOq"
      },
      "source": [
        "Total amount of purchase (sum of purchases) for each gender:"
      ]
    },
    {
      "cell_type": "code",
      "metadata": {
        "pycharm": {
          "name": "#%%\n"
        },
        "colab": {
          "base_uri": "https://localhost:8080/"
        },
        "id": "79L3iI5iSNOr",
        "outputId": "13da3a5f-7266-42f5-e742-4e9206e5fcec"
      },
      "source": [
        "print (most)"
      ],
      "execution_count": 117,
      "outputs": [
        {
          "output_type": "stream",
          "text": [
            "gender\n",
            "F    473435\n",
            "M    534059\n",
            "dtype: int64\n"
          ],
          "name": "stdout"
        }
      ]
    },
    {
      "cell_type": "markdown",
      "metadata": {
        "collapsed": false,
        "id": "-uOqjgstSNOs"
      },
      "source": [
        "Average amount of cumulative purchases by gender:"
      ]
    },
    {
      "cell_type": "code",
      "metadata": {
        "pycharm": {
          "name": "#%%\n"
        },
        "colab": {
          "base_uri": "https://localhost:8080/"
        },
        "id": "z90r2syjSNOs",
        "outputId": "9b3b4c4b-8915-4c3a-d535-467ead99a51d"
      },
      "source": [
        "avg_purchase = (most/customers_by_genger)\n",
        "print(avg_purchase)"
      ],
      "execution_count": 118,
      "outputs": [
        {
          "output_type": "stream",
          "text": [
            "gender\n",
            "F    78905.833333\n",
            "M    35603.933333\n",
            "dtype: float64\n"
          ],
          "name": "stdout"
        }
      ]
    },
    {
      "cell_type": "code",
      "metadata": {
        "pycharm": {
          "name": "#%%\n"
        },
        "id": "WkL663nRSNOv"
      },
      "source": [
        "# B2- Compare total amount of purchase for different cities. (5%)\n",
        "# building Multi-Index\n",
        "# df.groupby\n",
        "# print(most)"
      ],
      "execution_count": 119,
      "outputs": []
    },
    {
      "cell_type": "code",
      "metadata": {
        "pycharm": {
          "name": "#%%\n"
        },
        "id": "hUnYKI2zSNOw"
      },
      "source": [
        "# index_b2 = df['City_Category'].tolist() # preparing index\n"
      ],
      "execution_count": 120,
      "outputs": []
    },
    {
      "cell_type": "code",
      "metadata": {
        "pycharm": {
          "name": "#%%\n"
        },
        "id": "I0OydfXVSNOw"
      },
      "source": [
        "# df_b2 = pd.DataFrame(data=df, index=index_b2).copy() # copying the dataframe and indexing by City_Category\n",
        "a_b2 = df.City_Category.tolist()\n",
        "b_b2 = df.Purchase.tolist()\n",
        "arrays_b2 = np.array([a_b2, b_b2])\n",
        "index_b2 = pd.MultiIndex.from_arrays(arrays_b2, names=['City_Category','Purchase'])\n",
        "c_b2 = df['Purchase'].tolist() # loading purchase data into list\n",
        "s_b2 = pd.Series (c_b2, index=index_b2)# applying multi-index to data"
      ],
      "execution_count": 121,
      "outputs": []
    },
    {
      "cell_type": "code",
      "metadata": {
        "pycharm": {
          "name": "#%%\n"
        },
        "id": "Ruo1NNjmSNOx"
      },
      "source": [
        "# grouping sales by City Category\n",
        "Sales_By_City = s_b2.groupby(['City_Category']).sum()\n",
        "# sorting\n",
        "Sales_By_City = Sales_By_City.sort_values()"
      ],
      "execution_count": 122,
      "outputs": []
    },
    {
      "cell_type": "markdown",
      "metadata": {
        "collapsed": false,
        "id": "EFcQcV4CSNOz"
      },
      "source": [
        "B2. Total amount of purchase for different cities:"
      ]
    },
    {
      "cell_type": "code",
      "metadata": {
        "pycharm": {
          "name": "#%%\n"
        },
        "colab": {
          "base_uri": "https://localhost:8080/"
        },
        "id": "aw1wwn9ESNO0",
        "outputId": "c330c0bd-7a71-4c00-e7dc-27868cfe3e6b"
      },
      "source": [
        "Sales_By_City"
      ],
      "execution_count": 123,
      "outputs": [
        {
          "output_type": "execute_result",
          "data": {
            "text/plain": [
              "City_Category\n",
              "C    264056\n",
              "A    313799\n",
              "B    429639\n",
              "dtype: int64"
            ]
          },
          "metadata": {
            "tags": []
          },
          "execution_count": 123
        }
      ]
    },
    {
      "cell_type": "code",
      "metadata": {
        "pycharm": {
          "name": "#%%\n"
        },
        "id": "XIgirZuMSNO2"
      },
      "source": [
        "# B3. Compare total amount of purchase for combinations of gender and age.\n",
        "# Which gender and age is better target for marketing campaign? (5%)\n",
        "# df_b2 = pd.DataFrame(data=df, index=index_b2).copy() # copying the dataframe and indexing by City_Category"
      ],
      "execution_count": 124,
      "outputs": []
    },
    {
      "cell_type": "code",
      "metadata": {
        "pycharm": {
          "name": "#%%\n"
        },
        "id": "PTRDF_vrSNO2"
      },
      "source": [
        "a_b3 = df.Age.tolist()\n",
        "b_b3 = df.Gender.tolist()\n",
        "arrays_b3 = np.array([a_b3, b_b3])\n",
        "index_b3 = pd.MultiIndex.from_arrays(arrays_b3, names=['age','gender'])\n",
        "c_b3 = df['Purchase'].tolist() # loading purchase data into list\n",
        "s_b3 = pd.Series (c_b3, index=index_b3)# applying multi-index to data"
      ],
      "execution_count": 125,
      "outputs": []
    },
    {
      "cell_type": "code",
      "metadata": {
        "pycharm": {
          "name": "#%%\n"
        },
        "id": "jwvpjhpvSNO2"
      },
      "source": [
        "# s_b3.groupby(level=['age','gender']).sum()"
      ],
      "execution_count": 126,
      "outputs": []
    },
    {
      "cell_type": "code",
      "metadata": {
        "pycharm": {
          "name": "#%%\n"
        },
        "colab": {
          "base_uri": "https://localhost:8080/",
          "height": 800
        },
        "id": "UEpkqgJMSNO3",
        "outputId": "11431198-9485-4225-8a5d-716973840018"
      },
      "source": [
        "sales_b3_mln = (s_b3.groupby(level=['gender','age']).sum())/1000000\n",
        "sales_b3_mln_totals = sales_b3_mln.sum()\n",
        "print(sales_b3_mln_totals)\n",
        "sales_b3_rltv = (sales_b3_mln / sales_b3_mln_totals)*100\n",
        "print(sales_b3_mln)\n",
        "print(sales_b3_rltv)\n",
        "sales_b3_rltv.plot()"
      ],
      "execution_count": 127,
      "outputs": [
        {
          "output_type": "stream",
          "text": [
            "1.0074940000000001\n",
            "gender  age  \n",
            "F       0-17     0.026049\n",
            "        18-25    0.162046\n",
            "        26-35    0.033525\n",
            "        36-45    0.222452\n",
            "        51-55    0.029363\n",
            "M       0-17     0.108567\n",
            "        18-25    0.023951\n",
            "        26-35    0.251670\n",
            "        36-45    0.017636\n",
            "        46-50    0.084613\n",
            "        51-55    0.039653\n",
            "        55+      0.007969\n",
            "dtype: float64\n",
            "gender  age  \n",
            "F       0-17      2.585524\n",
            "        18-25    16.084066\n",
            "        26-35     3.327563\n",
            "        36-45    22.079734\n",
            "        51-55     2.914459\n",
            "M       0-17     10.775945\n",
            "        18-25     2.377285\n",
            "        26-35    24.979801\n",
            "        36-45     1.750482\n",
            "        46-50     8.398363\n",
            "        51-55     3.935805\n",
            "        55+       0.790972\n",
            "dtype: float64\n"
          ],
          "name": "stdout"
        },
        {
          "output_type": "execute_result",
          "data": {
            "text/plain": [
              "<matplotlib.axes._subplots.AxesSubplot at 0x7f14afe6c048>"
            ]
          },
          "metadata": {
            "tags": []
          },
          "execution_count": 127
        },
        {
          "output_type": "display_data",
          "data": {
            "image/png": "[encoded data removed]",
            "text/plain": [
              "<Figure size 432x288 with 1 Axes>"
            ]
          },
          "metadata": {
            "tags": [],
            "needs_background": "light"
          }
        }
      ]
    },
    {
      "cell_type": "markdown",
      "metadata": {
        "collapsed": false,
        "id": "8w7G81ovSNO4"
      },
      "source": [
        "B3. Compare total amount of purchase for combinations of gender and age.\n",
        "\n",
        "Which gender and age is better target for marketing campaign? (5%)\n",
        "\n",
        "Males aged 26-35 years represent one third of total sales\n",
        "Three groups combined (males 18-45 years old) are largest spenders\n",
        "and represent 60.51% of total sales."
      ]
    },
    {
      "cell_type": "code",
      "metadata": {
        "pycharm": {
          "name": "#%%\n"
        },
        "id": "K5Jlx1MfSNO5"
      },
      "source": [
        "# B4- Using box and whisker plot, compare distribution of purchase amounts\n",
        "# among combinations of genders and age. (5%)\n",
        "# Source URL: https://www.geeksforgeeks.org/box-plot-in-python-using-matplotlib/\n",
        "\n",
        "# we can use the series from the previous question,\n",
        "# let's make a copy under variable s_b4\n",
        "\n",
        "s_b4 = s_b3.copy()"
      ],
      "execution_count": 128,
      "outputs": []
    },
    {
      "cell_type": "code",
      "metadata": {
        "pycharm": {
          "name": "#%%\n"
        },
        "id": "YaQvgehDSNO5"
      },
      "source": [
        "# print(s_b4)"
      ],
      "execution_count": 129,
      "outputs": []
    },
    {
      "cell_type": "code",
      "metadata": {
        "pycharm": {
          "name": "#%%\n"
        },
        "id": "86oyvW7PSNO6"
      },
      "source": [
        "x = s_b4.groupby(['age','gender']).sum()"
      ],
      "execution_count": 130,
      "outputs": []
    },
    {
      "cell_type": "code",
      "metadata": {
        "pycharm": {
          "name": "#%%\n"
        },
        "id": "9qdiAP6ASNO6"
      },
      "source": [
        "x_df = pd.DataFrame(data=x, columns=['purchase'], copy=True)"
      ],
      "execution_count": 131,
      "outputs": []
    },
    {
      "cell_type": "code",
      "metadata": {
        "pycharm": {
          "name": "#%%\n"
        },
        "id": "tGWCxfMeSNO6"
      },
      "source": [
        "# x_df.groupby(by='gender').sum()\n",
        "x_a = x.copy() # copying data for x axis\n",
        "x_a = x_a.sort_values() # sotring\n",
        "x_a = x_a / 1000000 # converting data into millions"
      ],
      "execution_count": 132,
      "outputs": []
    },
    {
      "cell_type": "code",
      "metadata": {
        "pycharm": {
          "name": "#%%\n"
        },
        "id": "lyh0VanySNO7"
      },
      "source": [
        ""
      ],
      "execution_count": 132,
      "outputs": []
    },
    {
      "cell_type": "code",
      "metadata": {
        "pycharm": {
          "name": "#%%\n"
        },
        "id": "ScuBpJqYSNO8"
      },
      "source": [
        "# selecting the data for x axis for different genders\n",
        "x_m = x_df.filter(like = 'M', axis=0) # source code URL: https://datatofish.com/filter-pandas-dataframe/\n",
        "x_f = x_df.filter(like = 'F', axis=0)"
      ],
      "execution_count": 133,
      "outputs": []
    },
    {
      "cell_type": "code",
      "metadata": {
        "pycharm": {
          "name": "#%%\n"
        },
        "id": "zaV6U4-wSNO8"
      },
      "source": [
        "x_mlist = x_m.purchase.tolist()\n",
        "x_flist = x_f.purchase.tolist()\n",
        "x_axislist = x_a.tolist()"
      ],
      "execution_count": 134,
      "outputs": []
    },
    {
      "cell_type": "code",
      "metadata": {
        "pycharm": {
          "name": "#%%\n"
        },
        "id": "6THCOe2jSNO8"
      },
      "source": [
        "# plotting the data, source URL: https://www.geeksforgeeks.org/box-plot-in-python-using-matplotlib/\n",
        "\n",
        "# Import libraries\n",
        "import matplotlib.pyplot as plt\n",
        "# import numpy as np"
      ],
      "execution_count": 135,
      "outputs": []
    },
    {
      "cell_type": "code",
      "metadata": {
        "pycharm": {
          "name": "#%%\n"
        },
        "colab": {
          "base_uri": "https://localhost:8080/",
          "height": 70
        },
        "id": "RtzmF0eGSNO8",
        "outputId": "aa648edc-6d76-4dfb-c39a-cb3d6a071420"
      },
      "source": [
        "'''\n",
        "# Creating dataset\n",
        "np.random.seed(10)\n",
        "\n",
        "data_1 = x_mlist\n",
        "data_2 = x_flist\n",
        "# data_3 = np.random.normal(80, 30, 200)\n",
        "# data_4 = np.random.normal(70, 40, 200)\n",
        "data = [data_1, data_2] # , data_3, data_4]\n",
        "\n",
        "fig = plt.figure(figsize =(10, 7))\n",
        "\n",
        "# Creating axes instance\n",
        "ax = fig.add_axes([0, 0, 1, 1])\n",
        "\n",
        "# Creating plot\n",
        "bp = ax.boxplot(data)\n",
        "\n",
        "# show plot\n",
        "plt.show()\n",
        "'''"
      ],
      "execution_count": 136,
      "outputs": [
        {
          "output_type": "execute_result",
          "data": {
            "application/vnd.google.colaboratory.intrinsic+json": {
              "type": "string"
            },
            "text/plain": [
              "'\\n# Creating dataset\\nnp.random.seed(10)\\n\\ndata_1 = x_mlist\\ndata_2 = x_flist\\n# data_3 = np.random.normal(80, 30, 200)\\n# data_4 = np.random.normal(70, 40, 200)\\ndata = [data_1, data_2] # , data_3, data_4]\\n\\nfig = plt.figure(figsize =(10, 7))\\n\\n# Creating axes instance\\nax = fig.add_axes([0, 0, 1, 1])\\n\\n# Creating plot\\nbp = ax.boxplot(data)\\n\\n# show plot\\nplt.show()\\n'"
            ]
          },
          "metadata": {
            "tags": []
          },
          "execution_count": 136
        }
      ]
    },
    {
      "cell_type": "markdown",
      "metadata": {
        "collapsed": false,
        "id": "wK2Alr7SSNO9"
      },
      "source": [
        "B4 - Using box and whisker plot, compare distribution of purchase amounts\n",
        " among combinations of genders and age."
      ]
    },
    {
      "cell_type": "code",
      "metadata": {
        "pycharm": {
          "name": "#%%\n"
        },
        "colab": {
          "base_uri": "https://localhost:8080/",
          "height": 534
        },
        "id": "bSbIB7TMSNO9",
        "outputId": "c31d90a3-120c-434e-ebe9-0e62a2da7c09"
      },
      "source": [
        "# Creating dataset\n",
        "data_1 = x_mlist\n",
        "data_2 = x_flist\n",
        "# data_3 = np.random.normal(80, 30, 200)\n",
        "# data_4 = np.random.normal(70, 40, 200)\n",
        "data = [data_1, data_2]\n",
        "\n",
        "fig = plt.figure(figsize =(10, 7))\n",
        "ax = fig.add_subplot(111)\n",
        "\n",
        "# Creating axes instance\n",
        "bp = ax.boxplot(data, patch_artist = True,\n",
        "                notch ='True', vert = 0)\n",
        "\n",
        "colors = ['#0000FF', '#00FF00']\n",
        "          # '#FFFF00', '#FF00FF']\n",
        "\n",
        "for patch, color in zip(bp['boxes'], colors):\n",
        "    patch.set_facecolor(color)\n",
        "\n",
        "# changing color and line width of\n",
        "# whiskers\n",
        "for whisker in bp['whiskers']:\n",
        "    whisker.set(color ='#8B008B',\n",
        "                linewidth = 1.5,\n",
        "                linestyle =\":\")\n",
        "\n",
        "# changing color and linewidth of\n",
        "# caps\n",
        "for cap in bp['caps']:\n",
        "    cap.set(color ='#8B008B',\n",
        "            linewidth = 2)\n",
        "\n",
        "# changing color and linewidth of\n",
        "# medians\n",
        "for median in bp['medians']:\n",
        "    median.set(color ='red',\n",
        "               linewidth = 3)\n",
        "\n",
        "# changing style of fliers\n",
        "for flier in bp['fliers']:\n",
        "    flier.set(marker ='D',\n",
        "              color ='#e7298a',\n",
        "              alpha = 0.5)\n",
        "\n",
        "# x-axis labels\n",
        "ax.set_yticklabels(['MALE', 'FEMALE'])\n",
        "                    # 'data_3', 'data_4'])\n",
        "ax.set_xticklabels(x_axislist)\n",
        "\n",
        "# Adding title\n",
        "plt.title(\"Distribution of Purchase Amounts (in Millions)\")\n",
        "fig.suptitle('Combinations of Genders and Age', color='orange', fontsize=24)\n",
        "# Removing top axes and right axes\n",
        "# ticks\n",
        "# ax.get_xaxis().tick_bottom()\n",
        "# ax.get_yaxis().tick_left()\n",
        "\n",
        "# show plot\n",
        "plt.show(bp)\n",
        "\n",
        "# todo: figure our mapping the age distribution data to axis and labels on the graph"
      ],
      "execution_count": 137,
      "outputs": [
        {
          "output_type": "stream",
          "text": [
            "/usr/local/lib/python3.6/dist-packages/numpy/core/_asarray.py:83: VisibleDeprecationWarning: Creating an ndarray from ragged nested sequences (which is a list-or-tuple of lists-or-tuples-or ndarrays with different lengths or shapes) is deprecated. If you meant to do this, you must specify 'dtype=object' when creating the ndarray\n",
            "  return array(a, dtype, copy=False, order=order)\n"
          ],
          "name": "stderr"
        },
        {
          "output_type": "display_data",
          "data": {
            "image/png": "[encoded data removed]",
            "text/plain": [
              "<Figure size 720x504 with 1 Axes>"
            ]
          },
          "metadata": {
            "tags": [],
            "needs_background": "light"
          }
        }
      ]
    },
    {
      "cell_type": "code",
      "metadata": {
        "pycharm": {
          "name": "#%%\n"
        },
        "id": "3DXteXNYSNO-"
      },
      "source": [
        "# B5- Using box and whisker plot, compare distribution of purchase amounts\n",
        "# among different occupations."
      ],
      "execution_count": 138,
      "outputs": []
    },
    {
      "cell_type": "code",
      "metadata": {
        "pycharm": {
          "name": "#%%\n"
        },
        "id": "OY1RSMWISNPA"
      },
      "source": [
        "a_b5 = df.Occupation.tolist()\n",
        "b_b5 = df.Gender.tolist()\n",
        "arrays_b5 = np.array([a_b5, b_b5])\n",
        "index_b5 = pd.MultiIndex.from_arrays(arrays_b5, names=['occupation','gender'])\n",
        "c_b5 = df['Purchase'].tolist() # loading purchase data into list\n",
        "s_b5 = pd.Series (c_b5, index=index_b5)# applying multi-index to data\n",
        "\n"
      ],
      "execution_count": 139,
      "outputs": []
    },
    {
      "cell_type": "code",
      "metadata": {
        "pycharm": {
          "name": "#%%\n"
        },
        "id": "kQis3tUQSNPA"
      },
      "source": [
        "x_b5 = s_b5.groupby(['occupation']).sum().copy() # getting data for x axis"
      ],
      "execution_count": 140,
      "outputs": []
    },
    {
      "cell_type": "code",
      "metadata": {
        "pycharm": {
          "name": "#%%\n"
        },
        "colab": {
          "base_uri": "https://localhost:8080/"
        },
        "id": "wKbMJn4qSNPB",
        "outputId": "cabf4f28-5130-4da0-c749-9742f8e91385"
      },
      "source": [
        "x_b5.sort_values() # sorting"
      ],
      "execution_count": 141,
      "outputs": [
        {
          "output_type": "execute_result",
          "data": {
            "text/plain": [
              "occupation\n",
              "16     11024\n",
              "0      26305\n",
              "9      29363\n",
              "17     34913\n",
              "15     36123\n",
              "20     38820\n",
              "12     87833\n",
              "7     125632\n",
              "10    134616\n",
              "3     162046\n",
              "1     320819\n",
              "dtype: int64"
            ]
          },
          "metadata": {
            "tags": []
          },
          "execution_count": 141
        }
      ]
    },
    {
      "cell_type": "code",
      "metadata": {
        "pycharm": {
          "name": "#%%\n"
        },
        "id": "wRd1EFvCSNPD"
      },
      "source": [
        "x_b5 = x_b5 / 1000000 # converting data into millions"
      ],
      "execution_count": 142,
      "outputs": []
    },
    {
      "cell_type": "code",
      "metadata": {
        "pycharm": {
          "name": "#%%\n"
        },
        "id": "p320bjQMSNPF"
      },
      "source": [
        "b5_index = x_b5.index.tolist() # getting index into list"
      ],
      "execution_count": 143,
      "outputs": []
    },
    {
      "cell_type": "markdown",
      "metadata": {
        "collapsed": false,
        "id": "e-XP3_AzSNPF"
      },
      "source": [
        "B5 - Using box and whisker plot, compare distribution of purchase amounts among different occupations."
      ]
    },
    {
      "cell_type": "code",
      "metadata": {
        "pycharm": {
          "name": "#%%\n"
        },
        "colab": {
          "base_uri": "https://localhost:8080/",
          "height": 507
        },
        "id": "RBg9NORJSNPF",
        "outputId": "3c39cb7c-b9e1-4783-c4db-720464b460a0"
      },
      "source": [
        "# plotting the data, source URL: https://www.geeksforgeeks.org/box-plot-in-python-using-matplotlib/\n",
        "\n",
        "# Creating dataset\n",
        "data_b5 = x_b5\n",
        "# data_2 = x_flist\n",
        "# data_3 = np.random.normal(80, 30, 200)\n",
        "# data_4 = np.random.normal(70, 40, 200)\n",
        "data = [data_b5]\n",
        "\n",
        "fig = plt.figure(figsize =(10, 7))\n",
        "ax = fig.add_subplot(111)\n",
        "\n",
        "# Creating axes instance\n",
        "bp = ax.boxplot(data, patch_artist = True,\n",
        "                notch ='True', vert = 0)\n",
        "\n",
        "colors = ['#0000FF', '#00FF00']\n",
        "          # '#FFFF00', '#FF00FF']\n",
        "\n",
        "for patch, color in zip(bp['boxes'], colors):\n",
        "    patch.set_facecolor(color)\n",
        "\n",
        "# changing color and line width of\n",
        "# whiskers\n",
        "for whisker in bp['whiskers']:\n",
        "    whisker.set(color ='#8B008B',\n",
        "                linewidth = 1.5,\n",
        "                linestyle =\":\")\n",
        "\n",
        "# changing color and linewidth of\n",
        "# caps\n",
        "for cap in bp['caps']:\n",
        "    cap.set(color ='#8B008B',\n",
        "            linewidth = 2)\n",
        "\n",
        "# changing color and linewidth of\n",
        "# medians\n",
        "for median in bp['medians']:\n",
        "    median.set(color ='red',\n",
        "               linewidth = 3)\n",
        "\n",
        "# changing style of fliers\n",
        "for flier in bp['fliers']:\n",
        "    flier.set(marker ='D',\n",
        "              color ='#e7298a',\n",
        "              alpha = 0.5)\n",
        "\n",
        "# x-axis labels\n",
        "ax.set_yticklabels(['Purchase Amounts'])\n",
        "                    # 'data_3', 'data_4'])\n",
        "ax.set_xticklabels(b5_index)\n",
        "\n",
        "# Adding title\n",
        "plt.title(\"Purchase Amounts (in Millions)\")\n",
        "fig.suptitle('Distribution across different Occupations (codes)', color='orange', fontsize=24)\n",
        "plt.xlabel('OCCUPATIONS (codes)', color='orange', fontsize=24)\n",
        "# Removing top axes and right axes\n",
        "# ticks\n",
        "# ax.get_xaxis().tick_bottom()\n",
        "# ax.get_yaxis().tick_left()\n",
        "\n",
        "# show plot\n",
        "plt.show(bp)\n",
        "# todo: figure our mapping the occupations codes to axis and labels on the graph"
      ],
      "execution_count": 144,
      "outputs": [
        {
          "output_type": "display_data",
          "data": {
            "image/png": "[encoded data removed]",
            "text/plain": [
              "<Figure size 720x504 with 1 Axes>"
            ]
          },
          "metadata": {
            "tags": [],
            "needs_background": "light"
          }
        }
      ]
    },
    {
      "cell_type": "code",
      "metadata": {
        "pycharm": {
          "name": "#%% md B6 - Heatmap with correlation matrix of all of two numerical features\n"
        },
        "id": "TdsboxT-SNPH"
      },
      "source": [
        ""
      ],
      "execution_count": 144,
      "outputs": []
    },
    {
      "cell_type": "code",
      "metadata": {
        "pycharm": {
          "name": "#%%\n"
        },
        "id": "pt23Nm7GSNPH"
      },
      "source": [
        " # dropping the unnecessary fields\n",
        "FieldDrop0 = ['User_ID','Product_ID','Gender','Age','Occupation','City_Category','Stay_In_Current_City_Years']\n",
        "df = df.drop(FieldDrop0, axis=1)\n",
        "\n",
        "df_corr = df.corr() # creating the correlation matrix with the .corr() function"
      ],
      "execution_count": 145,
      "outputs": []
    },
    {
      "cell_type": "code",
      "metadata": {
        "pycharm": {
          "name": "#%%\n"
        },
        "id": "_zMybTRhSNPI"
      },
      "source": [
        "import seaborn as sb"
      ],
      "execution_count": 146,
      "outputs": []
    },
    {
      "cell_type": "code",
      "metadata": {
        "pycharm": {
          "name": "#%%\n"
        },
        "colab": {
          "base_uri": "https://localhost:8080/",
          "height": 685
        },
        "id": "XZtgHir1SNPI",
        "outputId": "82b7df5e-0150-460d-f5e7-2f3a06daebee"
      },
      "source": [
        "fig_sb, ax_sb = plt.subplots(figsize=(11, 9))\n",
        "sb.heatmap(df_corr)\n",
        "plt.show()"
      ],
      "execution_count": 147,
      "outputs": [
        {
          "output_type": "display_data",
          "data": {
            "image/png": "[encoded data removed]",
            "text/plain": [
              "<Figure size 792x648 with 2 Axes>"
            ]
          },
          "metadata": {
            "tags": [],
            "needs_background": "light"
          }
        }
      ]
    },
    {
      "cell_type": "code",
      "metadata": {
        "pycharm": {
          "name": "#%% md Which features are positively correlated with the purchase amount?\n"
        },
        "id": "Rz45fBIiSNPJ"
      },
      "source": [
        ""
      ],
      "execution_count": 147,
      "outputs": []
    },
    {
      "cell_type": "code",
      "metadata": {
        "pycharm": {
          "name": "#%%\n"
        },
        "id": "uUoH7EgpSNPJ"
      },
      "source": [
        "colnames = 0 # empty variable for column names\n",
        "colnames = df_corr.columns.values.tolist() # writing column names into the iterable variable\n",
        "Feature_Positive_Corr = list(()) # creating an empty list for positively correlated features\n",
        "Feature_Negative_Corr = list(()) # creating an empty list for negatively correlated features\n",
        "# for each in colnames:\n",
        "length = len(df_corr['Purchase'])\n",
        "for i in range(0,length):\n",
        "    if (df_corr.iloc[i]['Purchase']  > 0.1) and (df_corr.index[i] != 'Purchase'):\n",
        "        # print('\\n* *XX*|||*XX* * !!WARNING!! ['+str(each)+'] IS CORRELATED WITH '+str(CorrKoeff.index[i])+' BY '+str(CorrKoeff.iloc[i][each])+' * *XX*|||*XX* *')\n",
        "        Feature_Positive_Corr.append(df_corr.index[i])\n",
        "        # pass\n",
        "    elif (df_corr.iloc[i]['Purchase']  < -0.1) and (df_corr.index[i] != 'Purchase'):\n",
        "            # print('\\n- *XX*XX* - Attention: ['+str(each)+'] is correlated with ['+str(CorrKoeff.index[i])+'] by '+str(CorrKoeff.iloc[i][each])+' - *XX*XX* -\\n')\n",
        "            Feature_Negative_Corr.append(df_corr.index[i])\n",
        "            # pass\n",
        "    else:\n",
        "        pass\n",
        "# print('----- * ----- '+str(each)+' is [COMPLETE] ----- * -----')"
      ],
      "execution_count": 148,
      "outputs": []
    },
    {
      "cell_type": "code",
      "metadata": {
        "pycharm": {
          "name": "#%%\n"
        },
        "id": "62APK0AwSNPK"
      },
      "source": [
        "UFeatures_Pos = list(())\n",
        "UFeatures_Neg = list(())"
      ],
      "execution_count": 149,
      "outputs": []
    },
    {
      "cell_type": "code",
      "metadata": {
        "pycharm": {
          "name": "#%%\n"
        },
        "colab": {
          "base_uri": "https://localhost:8080/"
        },
        "id": "XZ9caMW-SNPK",
        "outputId": "c8667be6-a49a-4508-f2ba-86b88f9c9f64"
      },
      "source": [
        "[UFeatures_Pos.append(x) for x in Feature_Positive_Corr if x not in UFeatures_Pos]"
      ],
      "execution_count": 150,
      "outputs": [
        {
          "output_type": "execute_result",
          "data": {
            "text/plain": [
              "[None, None, None, None, None]"
            ]
          },
          "metadata": {
            "tags": []
          },
          "execution_count": 150
        }
      ]
    },
    {
      "cell_type": "code",
      "metadata": {
        "pycharm": {
          "name": "#%%\n"
        },
        "colab": {
          "base_uri": "https://localhost:8080/"
        },
        "id": "xNcaqJZeSNPL",
        "outputId": "46fa8387-ad5c-4863-ec26-8deeeaa4ca07"
      },
      "source": [
        "[UFeatures_Neg.append(z) for z in Feature_Negative_Corr if z not in UFeatures_Neg]"
      ],
      "execution_count": 151,
      "outputs": [
        {
          "output_type": "execute_result",
          "data": {
            "text/plain": [
              "[None, None, None, None, None, None, None, None]"
            ]
          },
          "metadata": {
            "tags": []
          },
          "execution_count": 151
        }
      ]
    },
    {
      "cell_type": "markdown",
      "metadata": {
        "collapsed": false,
        "id": "RaQL6AFDSNPL"
      },
      "source": [
        "Here is a list of features that are positively correlated\n",
        "with the purchase amount:"
      ]
    },
    {
      "cell_type": "code",
      "metadata": {
        "pycharm": {
          "name": "#%%\n"
        },
        "colab": {
          "base_uri": "https://localhost:8080/",
          "height": 104
        },
        "id": "G6WHnqWoSNPL",
        "outputId": "f8b74baa-7cdd-4900-a7f7-491769ee7624"
      },
      "source": [
        "display(UFeatures_Pos)"
      ],
      "execution_count": 152,
      "outputs": [
        {
          "output_type": "display_data",
          "data": {
            "text/plain": [
              "['Marital_Status',\n",
              " 'Age_46-50',\n",
              " 'Occupation_1',\n",
              " 'City_Category_B',\n",
              " 'Stay_In_Current_City_Years_4+']"
            ]
          },
          "metadata": {
            "tags": []
          }
        }
      ]
    },
    {
      "cell_type": "markdown",
      "metadata": {
        "collapsed": false,
        "id": "YwfYiPTuSNPL"
      },
      "source": [
        "Here is a list of features that are negatively correlated\n",
        "with the purchase amount:"
      ]
    },
    {
      "cell_type": "code",
      "metadata": {
        "pycharm": {
          "name": "#%%\n"
        },
        "colab": {
          "base_uri": "https://localhost:8080/",
          "height": 156
        },
        "id": "vrzd-wTKSNPM",
        "outputId": "2a0201ab-0262-4798-8f36-25ed1abff706"
      },
      "source": [
        "display(UFeatures_Neg)"
      ],
      "execution_count": 153,
      "outputs": [
        {
          "output_type": "display_data",
          "data": {
            "text/plain": [
              "['Product_Category_1',\n",
              " 'Age_0-17',\n",
              " 'Occupation_9',\n",
              " 'Occupation_10',\n",
              " 'Occupation_16',\n",
              " 'Occupation_20',\n",
              " 'City_Category_A',\n",
              " 'Stay_In_Current_City_Years_1']"
            ]
          },
          "metadata": {
            "tags": []
          }
        }
      ]
    },
    {
      "cell_type": "code",
      "metadata": {
        "pycharm": {
          "name": "#%%\n"
        },
        "id": "eHYUdt-6SNPM"
      },
      "source": [
        ""
      ],
      "execution_count": 153,
      "outputs": []
    },
    {
      "cell_type": "markdown",
      "metadata": {
        "collapsed": false,
        "id": "ktdVfLeXSNPN"
      },
      "source": [
        "C. Data Modeling"
      ]
    },
    {
      "cell_type": "code",
      "metadata": {
        "pycharm": {
          "name": "#%%\n"
        },
        "id": "5CjDLDgzSNPN"
      },
      "source": [
        "# source code URL: https://habr.com/ru/post/206306/\n",
        "# and here, URL: https://habr.com/ru/post/202090/\n",
        "\n",
        "# importing libraries\n",
        "\n",
        "from pandas import read_csv, DataFrame\n",
        "# from sklearn.neighbors import KNeighborsRegressor\n",
        "from sklearn.linear_model import LinearRegression, LogisticRegression\n",
        "# from sklearn.svm import SVR\n",
        "# from sklearn.ensemble import RandomForestRegressor\n",
        "# from sklearn.metrics import r2_score\n",
        "# from sklearn import cross_validation, svm\n",
        "# from sklearn.cross_validation import train_test_split"
      ],
      "execution_count": 154,
      "outputs": []
    },
    {
      "cell_type": "code",
      "metadata": {
        "pycharm": {
          "name": "#%%\n"
        },
        "id": "JD4A-R4MSNPO"
      },
      "source": [
        "# creating dataset with summary data per UserID\n",
        "\n",
        "# df_c1 = df.copy() #loading data into a dataframe"
      ],
      "execution_count": 155,
      "outputs": []
    },
    {
      "cell_type": "code",
      "metadata": {
        "pycharm": {
          "name": "#%%\n"
        },
        "id": "V6ZxcNwPSNPO"
      },
      "source": [
        "# df_c1 = clean_data(df_c1) #\n",
        "# PreFinal_df = df.groupby('User_ID').sum()"
      ],
      "execution_count": 156,
      "outputs": []
    },
    {
      "cell_type": "code",
      "metadata": {
        "pycharm": {
          "name": "#%%\n"
        },
        "id": "2EV_mFVzSNPO"
      },
      "source": [
        "# df_c1.info()"
      ],
      "execution_count": 157,
      "outputs": []
    },
    {
      "cell_type": "code",
      "metadata": {
        "pycharm": {
          "name": "#%%\n"
        },
        "id": "F1a-TJzXSNPP"
      },
      "source": [
        "# df_c1 = df_c1.astype(str)"
      ],
      "execution_count": 158,
      "outputs": []
    },
    {
      "cell_type": "code",
      "metadata": {
        "pycharm": {
          "name": "#%%\n"
        },
        "id": "R9ZzXpNVSNPQ"
      },
      "source": [
        "# df_c1.info()"
      ],
      "execution_count": 159,
      "outputs": []
    },
    {
      "cell_type": "code",
      "metadata": {
        "pycharm": {
          "name": "#%%\n"
        },
        "id": "PE9BIRcGSNPR"
      },
      "source": [
        "# To begin with, we need to divide our training sample\n",
        "# into the indicator that we are examining, and its defining features:\n",
        "# todo: check features for cross-correlation, see source code\n",
        "#  here, URL: http://espressocode.top/python-pandas-dataframe-corr/\n",
        "\n",
        "# PreFinal_df"
      ],
      "execution_count": 160,
      "outputs": []
    },
    {
      "cell_type": "code",
      "metadata": {
        "pycharm": {
          "name": "#%%\n"
        },
        "id": "qO2RAFNWSNPS"
      },
      "source": [
        "# FieldDrop_PID = ['User_ID','Product_ID','Gender','Age','Occupation','City_Category','Stay_In_Current_City_Years']\n",
        "# df = df.drop(FieldDrop_PID, axis=1)"
      ],
      "execution_count": 161,
      "outputs": []
    },
    {
      "cell_type": "code",
      "metadata": {
        "pycharm": {
          "name": "#%%\n"
        },
        "colab": {
          "base_uri": "https://localhost:8080/"
        },
        "id": "-HJm6bljSNPT",
        "outputId": "011b372c-2b6c-4e45-aa56-9e8e57e2312e"
      },
      "source": [
        "df.info()"
      ],
      "execution_count": 162,
      "outputs": [
        {
          "output_type": "stream",
          "text": [
            "<class 'pandas.core.frame.DataFrame'>\n",
            "RangeIndex: 100 entries, 0 to 99\n",
            "Data columns (total 32 columns):\n",
            " #   Column                         Non-Null Count  Dtype  \n",
            "---  ------                         --------------  -----  \n",
            " 0   Marital_Status                 100 non-null    int64  \n",
            " 1   Product_Category_1             100 non-null    int64  \n",
            " 2   Product_Category_2             100 non-null    float64\n",
            " 3   Purchase                       100 non-null    int64  \n",
            " 4   Gender_F                       100 non-null    int64  \n",
            " 5   Gender_M                       100 non-null    int64  \n",
            " 6   Age_0-17                       100 non-null    int64  \n",
            " 7   Age_18-25                      100 non-null    int64  \n",
            " 8   Age_26-35                      100 non-null    int64  \n",
            " 9   Age_36-45                      100 non-null    int64  \n",
            " 10  Age_46-50                      100 non-null    int64  \n",
            " 11  Age_51-55                      100 non-null    int64  \n",
            " 12  Age_55+                        100 non-null    int64  \n",
            " 13  Occupation_0                   100 non-null    int64  \n",
            " 14  Occupation_1                   100 non-null    int64  \n",
            " 15  Occupation_3                   100 non-null    int64  \n",
            " 16  Occupation_7                   100 non-null    int64  \n",
            " 17  Occupation_9                   100 non-null    int64  \n",
            " 18  Occupation_10                  100 non-null    int64  \n",
            " 19  Occupation_12                  100 non-null    int64  \n",
            " 20  Occupation_15                  100 non-null    int64  \n",
            " 21  Occupation_16                  100 non-null    int64  \n",
            " 22  Occupation_17                  100 non-null    int64  \n",
            " 23  Occupation_20                  100 non-null    int64  \n",
            " 24  City_Category_A                100 non-null    int64  \n",
            " 25  City_Category_B                100 non-null    int64  \n",
            " 26  City_Category_C                100 non-null    int64  \n",
            " 27  Stay_In_Current_City_Years_0   100 non-null    int64  \n",
            " 28  Stay_In_Current_City_Years_1   100 non-null    int64  \n",
            " 29  Stay_In_Current_City_Years_2   100 non-null    int64  \n",
            " 30  Stay_In_Current_City_Years_3   100 non-null    int64  \n",
            " 31  Stay_In_Current_City_Years_4+  100 non-null    int64  \n",
            "dtypes: float64(1), int64(31)\n",
            "memory usage: 25.1 KB\n"
          ],
          "name": "stdout"
        }
      ]
    },
    {
      "cell_type": "code",
      "metadata": {
        "pycharm": {
          "name": "#%%\n"
        },
        "id": "VnKU4gq8SNPT"
      },
      "source": [
        "df = df.astype(float)\n",
        "# df.shape()\n",
        "# df.info()"
      ],
      "execution_count": 163,
      "outputs": []
    },
    {
      "cell_type": "code",
      "metadata": {
        "pycharm": {
          "name": "#%%\n"
        },
        "id": "_0ku2do-SNPU"
      },
      "source": [
        "# checking the correlation between the features\n",
        "CorrKoeff = df.corr()"
      ],
      "execution_count": 164,
      "outputs": []
    },
    {
      "cell_type": "code",
      "metadata": {
        "pycharm": {
          "name": "#%%\n"
        },
        "id": "ZIHzZ45kSNPV"
      },
      "source": [
        "colnames = 0"
      ],
      "execution_count": 165,
      "outputs": []
    },
    {
      "cell_type": "code",
      "metadata": {
        "pycharm": {
          "name": "#%%\n"
        },
        "id": "dGDL2ff4SNPW"
      },
      "source": [
        "colnames = CorrKoeff.columns.values.tolist()"
      ],
      "execution_count": 166,
      "outputs": []
    },
    {
      "cell_type": "code",
      "metadata": {
        "pycharm": {
          "name": "#%%\n"
        },
        "id": "0rXfzrCxSNPW"
      },
      "source": [
        "Feature_Drop = list(())\n",
        "Feature_DropNeg = list(())"
      ],
      "execution_count": 167,
      "outputs": []
    },
    {
      "cell_type": "code",
      "metadata": {
        "pycharm": {
          "name": "#%%\n"
        },
        "id": "uqGdJsUdSNPW"
      },
      "source": [
        "for each in colnames:\n",
        "    i = len(CorrKoeff[each])\n",
        "    for i in range(i):\n",
        "        if (CorrKoeff.iloc[i][each]  > 0.8) and (CorrKoeff.index[i] != each):\n",
        "            # print('\\n* *XX*|||*XX* * !!WARNING!! ['+str(each)+'] IS CORRELATED WITH '+str(CorrKoeff.index[i])+' BY '+str(CorrKoeff.iloc[i][each])+' * *XX*|||*XX* *')\n",
        "            Feature_Drop.append(each)\n",
        "            # pass\n",
        "        elif (CorrKoeff.iloc[i][each]  < -0.8) and (CorrKoeff.index[i] != each):\n",
        "            # print('\\n- *XX*XX* - Attention: ['+str(each)+'] is correlated with ['+str(CorrKoeff.index[i])+'] by '+str(CorrKoeff.iloc[i][each])+' - *XX*XX* -\\n')\n",
        "            Feature_DropNeg.append(each)\n",
        "            # pass\n",
        "        else:\n",
        "            pass\n",
        "    # print('----- * ----- '+str(each)+' is [COMPLETE] ----- * -----')"
      ],
      "execution_count": 168,
      "outputs": []
    },
    {
      "cell_type": "code",
      "metadata": {
        "pycharm": {
          "name": "#%%\n"
        },
        "id": "pyWACezUSNPX"
      },
      "source": [
        "# there is a correlation > 80% and <-80% between the features in df"
      ],
      "execution_count": 169,
      "outputs": []
    },
    {
      "cell_type": "code",
      "metadata": {
        "pycharm": {
          "name": "#%%\n"
        },
        "id": "NMxqEDdQSNPY"
      },
      "source": [
        "# todo: drop the unnecessary features (columns)"
      ],
      "execution_count": 170,
      "outputs": []
    },
    {
      "cell_type": "code",
      "metadata": {
        "pycharm": {
          "name": "#%%\n"
        },
        "colab": {
          "base_uri": "https://localhost:8080/"
        },
        "id": "FVyC2C9wSNPY",
        "outputId": "fbc7d10f-352e-4764-b787-7cd41fc3b34b"
      },
      "source": [
        "len(Feature_Drop) # these are features that are absolutely certain\n",
        "# to be removed"
      ],
      "execution_count": 171,
      "outputs": [
        {
          "output_type": "execute_result",
          "data": {
            "text/plain": [
              "4"
            ]
          },
          "metadata": {
            "tags": []
          },
          "execution_count": 171
        }
      ]
    },
    {
      "cell_type": "code",
      "metadata": {
        "pycharm": {
          "name": "#%%\n"
        },
        "colab": {
          "base_uri": "https://localhost:8080/"
        },
        "id": "PRF-ZWRCSNPZ",
        "outputId": "ad225d0d-a394-4241-b47d-cd14dc21ec55"
      },
      "source": [
        "len(Feature_DropNeg) # these are features that are\n",
        "# negatively correlated"
      ],
      "execution_count": 172,
      "outputs": [
        {
          "output_type": "execute_result",
          "data": {
            "text/plain": [
              "2"
            ]
          },
          "metadata": {
            "tags": []
          },
          "execution_count": 172
        }
      ]
    },
    {
      "cell_type": "code",
      "metadata": {
        "pycharm": {
          "name": "#%%\n"
        },
        "id": "x-kntsDNSNPZ"
      },
      "source": [
        "UFeatures_Drop = list(())\n",
        "UFeatures_DropNeg = list(())"
      ],
      "execution_count": 173,
      "outputs": []
    },
    {
      "cell_type": "code",
      "metadata": {
        "pycharm": {
          "name": "#%%\n"
        },
        "colab": {
          "base_uri": "https://localhost:8080/"
        },
        "id": "6jGURH-9SNPa",
        "outputId": "2d693f5b-c926-4c85-ba7d-bc4733e8e382"
      },
      "source": [
        "[UFeatures_Drop.append(x) for x in Feature_Drop if x not in UFeatures_Drop]"
      ],
      "execution_count": 174,
      "outputs": [
        {
          "output_type": "execute_result",
          "data": {
            "text/plain": [
              "[None, None, None, None]"
            ]
          },
          "metadata": {
            "tags": []
          },
          "execution_count": 174
        }
      ]
    },
    {
      "cell_type": "code",
      "metadata": {
        "pycharm": {
          "name": "#%%\n"
        },
        "colab": {
          "base_uri": "https://localhost:8080/"
        },
        "id": "hdq9fio8SNPb",
        "outputId": "d6596fc9-6aa6-4f92-fa21-f6b17b30801c"
      },
      "source": [
        "[UFeatures_DropNeg.append(z) for z in Feature_DropNeg if z not in UFeatures_DropNeg]"
      ],
      "execution_count": 175,
      "outputs": [
        {
          "output_type": "execute_result",
          "data": {
            "text/plain": [
              "[None, None]"
            ]
          },
          "metadata": {
            "tags": []
          },
          "execution_count": 175
        }
      ]
    },
    {
      "cell_type": "code",
      "metadata": {
        "pycharm": {
          "name": "#%%\n"
        },
        "id": "yAFqU_VqSNPb"
      },
      "source": [
        "length = len(UFeatures_Drop)\n",
        "lengthNeg = len(UFeatures_DropNeg)"
      ],
      "execution_count": 176,
      "outputs": []
    },
    {
      "cell_type": "code",
      "metadata": {
        "pycharm": {
          "name": "#%%\n"
        },
        "id": "NtSmNZ4HSNPb"
      },
      "source": [
        "middle_index = length//2 # source code URL: https://www.kite.com/python/answers/how-to-split-a-list-in-half-in-python\n",
        "middle_indexNeg = lengthNeg//2"
      ],
      "execution_count": 177,
      "outputs": []
    },
    {
      "cell_type": "code",
      "metadata": {
        "pycharm": {
          "name": "#%%\n"
        },
        "colab": {
          "base_uri": "https://localhost:8080/"
        },
        "id": "2e7VRiu5SNPc",
        "outputId": "e10bfb2d-5bfb-4c6c-90be-1659f6b9d40f"
      },
      "source": [
        "len(UFeatures_Drop)"
      ],
      "execution_count": 178,
      "outputs": [
        {
          "output_type": "execute_result",
          "data": {
            "text/plain": [
              "4"
            ]
          },
          "metadata": {
            "tags": []
          },
          "execution_count": 178
        }
      ]
    },
    {
      "cell_type": "code",
      "metadata": {
        "pycharm": {
          "name": "#%%\n"
        },
        "colab": {
          "base_uri": "https://localhost:8080/"
        },
        "id": "XV2jFPU-SNPc",
        "outputId": "fc43f52d-fd75-4d3e-ba02-12ae85abf972"
      },
      "source": [
        "len(UFeatures_DropNeg)"
      ],
      "execution_count": 179,
      "outputs": [
        {
          "output_type": "execute_result",
          "data": {
            "text/plain": [
              "2"
            ]
          },
          "metadata": {
            "tags": []
          },
          "execution_count": 179
        }
      ]
    },
    {
      "cell_type": "code",
      "metadata": {
        "pycharm": {
          "name": "#%%\n"
        },
        "id": "Lh_ipjJWSNPc"
      },
      "source": [
        "UFeatures_Droph = UFeatures_Drop[:middle_index]\n",
        "UFeatures_DropNegh = UFeatures_DropNeg[:middle_indexNeg]"
      ],
      "execution_count": 180,
      "outputs": []
    },
    {
      "cell_type": "code",
      "metadata": {
        "pycharm": {
          "name": "#%%\n"
        },
        "colab": {
          "base_uri": "https://localhost:8080/"
        },
        "id": "T0E781KiSNPd",
        "outputId": "cfd037e0-66d9-4922-cf7c-0540b68a71f9"
      },
      "source": [
        "len(UFeatures_Droph)"
      ],
      "execution_count": 181,
      "outputs": [
        {
          "output_type": "execute_result",
          "data": {
            "text/plain": [
              "2"
            ]
          },
          "metadata": {
            "tags": []
          },
          "execution_count": 181
        }
      ]
    },
    {
      "cell_type": "code",
      "metadata": {
        "pycharm": {
          "name": "#%%\n"
        },
        "colab": {
          "base_uri": "https://localhost:8080/"
        },
        "id": "eFn1SRUBSNPd",
        "outputId": "f433e8e8-59ea-41d2-b597-ae9a32e0bfa2"
      },
      "source": [
        "len(UFeatures_DropNegh)"
      ],
      "execution_count": 182,
      "outputs": [
        {
          "output_type": "execute_result",
          "data": {
            "text/plain": [
              "1"
            ]
          },
          "metadata": {
            "tags": []
          },
          "execution_count": 182
        }
      ]
    },
    {
      "cell_type": "code",
      "metadata": {
        "pycharm": {
          "name": "#%%\n"
        },
        "id": "fRjuEuWbSNPd"
      },
      "source": [
        "UFeatures_Drop_United = UFeatures_Droph + UFeatures_DropNegh"
      ],
      "execution_count": 183,
      "outputs": []
    },
    {
      "cell_type": "code",
      "metadata": {
        "pycharm": {
          "name": "#%%\n"
        },
        "colab": {
          "base_uri": "https://localhost:8080/"
        },
        "id": "qQyD3rQmSNPf",
        "outputId": "134b20e0-dd73-4c9e-9600-27ac68565f6a"
      },
      "source": [
        "len(UFeatures_Drop_United)"
      ],
      "execution_count": 184,
      "outputs": [
        {
          "output_type": "execute_result",
          "data": {
            "text/plain": [
              "3"
            ]
          },
          "metadata": {
            "tags": []
          },
          "execution_count": 184
        }
      ]
    },
    {
      "cell_type": "code",
      "metadata": {
        "pycharm": {
          "name": "#%%\n"
        },
        "id": "8ea1LRiDSNPg"
      },
      "source": [
        "# df"
      ],
      "execution_count": 185,
      "outputs": []
    },
    {
      "cell_type": "code",
      "metadata": {
        "pycharm": {
          "name": "#%%\n"
        },
        "id": "wYE0ahdPSNPj"
      },
      "source": [
        "newdf = df.drop(UFeatures_Drop_United, axis=1).copy()"
      ],
      "execution_count": 186,
      "outputs": []
    },
    {
      "cell_type": "code",
      "metadata": {
        "pycharm": {
          "name": "#%%\n"
        },
        "id": "WTlsAQjHSNPj"
      },
      "source": [
        "# writing the Purchase data (targeted for prediction) into a separate dataset\n",
        "target = df0['Purchase']\n",
        "# dropping the unnecessary features\n",
        "# todo: drop 'Purchase' from dataset"
      ],
      "execution_count": 187,
      "outputs": []
    },
    {
      "cell_type": "code",
      "metadata": {
        "pycharm": {
          "name": "#%%\n"
        },
        "colab": {
          "base_uri": "https://localhost:8080/"
        },
        "id": "-SFzG_XhSNPk",
        "outputId": "6b4a94e8-3da4-4275-e215-edfc355a7c43"
      },
      "source": [
        "newdf.info()"
      ],
      "execution_count": 188,
      "outputs": [
        {
          "output_type": "stream",
          "text": [
            "<class 'pandas.core.frame.DataFrame'>\n",
            "RangeIndex: 100 entries, 0 to 99\n",
            "Data columns (total 29 columns):\n",
            " #   Column                         Non-Null Count  Dtype  \n",
            "---  ------                         --------------  -----  \n",
            " 0   Marital_Status                 100 non-null    float64\n",
            " 1   Product_Category_1             100 non-null    float64\n",
            " 2   Product_Category_2             100 non-null    float64\n",
            " 3   Purchase                       100 non-null    float64\n",
            " 4   Gender_M                       100 non-null    float64\n",
            " 5   Age_26-35                      100 non-null    float64\n",
            " 6   Age_36-45                      100 non-null    float64\n",
            " 7   Age_46-50                      100 non-null    float64\n",
            " 8   Age_51-55                      100 non-null    float64\n",
            " 9   Age_55+                        100 non-null    float64\n",
            " 10  Occupation_0                   100 non-null    float64\n",
            " 11  Occupation_1                   100 non-null    float64\n",
            " 12  Occupation_3                   100 non-null    float64\n",
            " 13  Occupation_7                   100 non-null    float64\n",
            " 14  Occupation_9                   100 non-null    float64\n",
            " 15  Occupation_10                  100 non-null    float64\n",
            " 16  Occupation_12                  100 non-null    float64\n",
            " 17  Occupation_15                  100 non-null    float64\n",
            " 18  Occupation_16                  100 non-null    float64\n",
            " 19  Occupation_17                  100 non-null    float64\n",
            " 20  Occupation_20                  100 non-null    float64\n",
            " 21  City_Category_A                100 non-null    float64\n",
            " 22  City_Category_B                100 non-null    float64\n",
            " 23  City_Category_C                100 non-null    float64\n",
            " 24  Stay_In_Current_City_Years_0   100 non-null    float64\n",
            " 25  Stay_In_Current_City_Years_1   100 non-null    float64\n",
            " 26  Stay_In_Current_City_Years_2   100 non-null    float64\n",
            " 27  Stay_In_Current_City_Years_3   100 non-null    float64\n",
            " 28  Stay_In_Current_City_Years_4+  100 non-null    float64\n",
            "dtypes: float64(29)\n",
            "memory usage: 22.8 KB\n"
          ],
          "name": "stdout"
        }
      ]
    },
    {
      "cell_type": "code",
      "metadata": {
        "pycharm": {
          "name": "#%%\n"
        },
        "id": "JSH_eyEvSNPm"
      },
      "source": [
        "colnamesP = newdf.columns.values.tolist()\n",
        "DropColPurchase = ['Purchase']\n",
        "Purchase = str('Purchase')"
      ],
      "execution_count": 189,
      "outputs": []
    },
    {
      "cell_type": "code",
      "metadata": {
        "pycharm": {
          "name": "#%%\n"
        },
        "id": "3gvVoyd9SNPm"
      },
      "source": [
        "for sublist in colnamesP:\n",
        "  if Purchase in sublist:\n",
        "    newdf = newdf.drop(DropColPurchase, axis=1).copy()\n",
        "  else:\n",
        "    pass"
      ],
      "execution_count": 190,
      "outputs": []
    },
    {
      "cell_type": "code",
      "metadata": {
        "pycharm": {
          "name": "#%%\n"
        },
        "colab": {
          "base_uri": "https://localhost:8080/"
        },
        "id": "EAxMlO6gSNPn",
        "outputId": "720c003c-e8c7-4164-ea3e-b248c4f48e57"
      },
      "source": [
        "newdf.info()"
      ],
      "execution_count": 191,
      "outputs": [
        {
          "output_type": "stream",
          "text": [
            "<class 'pandas.core.frame.DataFrame'>\n",
            "RangeIndex: 100 entries, 0 to 99\n",
            "Data columns (total 28 columns):\n",
            " #   Column                         Non-Null Count  Dtype  \n",
            "---  ------                         --------------  -----  \n",
            " 0   Marital_Status                 100 non-null    float64\n",
            " 1   Product_Category_1             100 non-null    float64\n",
            " 2   Product_Category_2             100 non-null    float64\n",
            " 3   Gender_M                       100 non-null    float64\n",
            " 4   Age_26-35                      100 non-null    float64\n",
            " 5   Age_36-45                      100 non-null    float64\n",
            " 6   Age_46-50                      100 non-null    float64\n",
            " 7   Age_51-55                      100 non-null    float64\n",
            " 8   Age_55+                        100 non-null    float64\n",
            " 9   Occupation_0                   100 non-null    float64\n",
            " 10  Occupation_1                   100 non-null    float64\n",
            " 11  Occupation_3                   100 non-null    float64\n",
            " 12  Occupation_7                   100 non-null    float64\n",
            " 13  Occupation_9                   100 non-null    float64\n",
            " 14  Occupation_10                  100 non-null    float64\n",
            " 15  Occupation_12                  100 non-null    float64\n",
            " 16  Occupation_15                  100 non-null    float64\n",
            " 17  Occupation_16                  100 non-null    float64\n",
            " 18  Occupation_17                  100 non-null    float64\n",
            " 19  Occupation_20                  100 non-null    float64\n",
            " 20  City_Category_A                100 non-null    float64\n",
            " 21  City_Category_B                100 non-null    float64\n",
            " 22  City_Category_C                100 non-null    float64\n",
            " 23  Stay_In_Current_City_Years_0   100 non-null    float64\n",
            " 24  Stay_In_Current_City_Years_1   100 non-null    float64\n",
            " 25  Stay_In_Current_City_Years_2   100 non-null    float64\n",
            " 26  Stay_In_Current_City_Years_3   100 non-null    float64\n",
            " 27  Stay_In_Current_City_Years_4+  100 non-null    float64\n",
            "dtypes: float64(28)\n",
            "memory usage: 22.0 KB\n"
          ],
          "name": "stdout"
        }
      ]
    },
    {
      "cell_type": "code",
      "metadata": {
        "pycharm": {
          "name": "#%%\n"
        },
        "colab": {
          "base_uri": "https://localhost:8080/"
        },
        "id": "85Z_cVm8SNPn",
        "outputId": "17b1d740-e6bd-4b8e-879e-2db6fd73134d"
      },
      "source": [
        "df0.info()"
      ],
      "execution_count": 192,
      "outputs": [
        {
          "output_type": "stream",
          "text": [
            "<class 'pandas.core.frame.DataFrame'>\n",
            "RangeIndex: 100 entries, 0 to 99\n",
            "Data columns (total 12 columns):\n",
            " #   Column                      Non-Null Count  Dtype  \n",
            "---  ------                      --------------  -----  \n",
            " 0   User_ID                     100 non-null    int64  \n",
            " 1   Product_ID                  100 non-null    object \n",
            " 2   Gender                      100 non-null    object \n",
            " 3   Age                         100 non-null    object \n",
            " 4   Occupation                  100 non-null    int64  \n",
            " 5   City_Category               100 non-null    object \n",
            " 6   Stay_In_Current_City_Years  100 non-null    object \n",
            " 7   Marital_Status              100 non-null    int64  \n",
            " 8   Product_Category_1          100 non-null    int64  \n",
            " 9   Product_Category_2          77 non-null     float64\n",
            " 10  Product_Category_3          38 non-null     float64\n",
            " 11  Purchase                    100 non-null    int64  \n",
            "dtypes: float64(2), int64(5), object(5)\n",
            "memory usage: 9.5+ KB\n"
          ],
          "name": "stdout"
        }
      ]
    },
    {
      "cell_type": "code",
      "metadata": {
        "pycharm": {
          "name": "#%%\n"
        },
        "id": "Qvz5DSXNSNPn"
      },
      "source": [
        "# newdf2.shape()"
      ],
      "execution_count": 193,
      "outputs": []
    },
    {
      "cell_type": "code",
      "metadata": {
        "pycharm": {
          "name": "#%%\n"
        },
        "id": "Ie8xBVJuSNPo"
      },
      "source": [
        "# newtr1 = newtr[['Gender_F','Gender_M','Age_0-17','Age_18-25','Age_26-35','Age_36-45','Age_46-50','Age_51-55','Age_55+','City_Category_A','City_Category_B','City_Category_C','Stay_In_Current_City_Years_0','Stay_In_Current_City_Years_1','Stay_In_Current_City_Years_2','Stay_In_Current_City_Years_3','Stay_In_Current_City_Years_4+']].copy()"
      ],
      "execution_count": 194,
      "outputs": []
    },
    {
      "cell_type": "code",
      "metadata": {
        "pycharm": {
          "name": "#%%\n"
        },
        "id": "78kV3KhlSNPo"
      },
      "source": [
        "# models = [LinearRegression(), # метод наименьших квадратов\n",
        "#\t          RandomForestRegressor(n_estimators=100, max_features ='sqrt'), # случайный лес\n",
        "#\t          KNeighborsRegressor(n_neighbors=6), # метод ближайших соседей\n",
        "#\t          SVR(kernel='linear'), # метод опорных векторов с линейным ядром\n",
        "#\t          LogisticRegression() # логистическая регрессия\n",
        "#\t          ]\n",
        "\n"
      ],
      "execution_count": 195,
      "outputs": []
    },
    {
      "cell_type": "code",
      "metadata": {
        "pycharm": {
          "name": "#%%\n"
        },
        "id": "7213T58FSNPp"
      },
      "source": [
        "from sklearn.model_selection import train_test_split"
      ],
      "execution_count": 196,
      "outputs": []
    },
    {
      "cell_type": "code",
      "metadata": {
        "pycharm": {
          "name": "#%%\n"
        },
        "id": "gnXlBRqkSNPp"
      },
      "source": [
        "Xtrn, Xtest, Ytrn, Ytest = train_test_split(newdf, target, test_size=0.2)\n"
      ],
      "execution_count": 197,
      "outputs": []
    },
    {
      "cell_type": "code",
      "metadata": {
        "pycharm": {
          "name": "#%%\n"
        },
        "colab": {
          "base_uri": "https://localhost:8080/"
        },
        "id": "iVAj9QakSNPr",
        "outputId": "39f602e6-50c4-4239-81bf-47bda9773c69"
      },
      "source": [
        "print ('--- Xtrn SHAPE ---')\n",
        "print (Xtrn.shape)\n",
        "print (Ytrn.shape)\n",
        "print (Xtest.shape)\n",
        "print (Ytest.shape)\n",
        "# print X_test.shape, y_test.shape\n",
        "# source code URL: https://towardsdatascience.com/train-test-split-and-cross-validation-in-python-80b61beca4b6"
      ],
      "execution_count": 198,
      "outputs": [
        {
          "output_type": "stream",
          "text": [
            "--- Xtrn SHAPE ---\n",
            "(80, 28)\n",
            "(80,)\n",
            "(20, 28)\n",
            "(20,)\n"
          ],
          "name": "stdout"
        }
      ]
    },
    {
      "cell_type": "code",
      "metadata": {
        "pycharm": {
          "name": "#%%\n"
        },
        "id": "ZTs6dN5vSNPr"
      },
      "source": [
        "# re-indexation of datasets for consistency\n",
        "# in the future operations of normalization\n",
        "# Xtrn.reindex\n",
        "# Ytrn.reindex\n",
        "# Xtest.reindex\n",
        "# Ytest.reindex"
      ],
      "execution_count": 199,
      "outputs": []
    },
    {
      "cell_type": "code",
      "metadata": {
        "pycharm": {
          "name": "#%%\n"
        },
        "id": "PMAIdU7wSNPr"
      },
      "source": [
        "# *** Normalization of numerical columns with use of mean normalization ***\n",
        "# We will normalize columns Product_Category_1 and Product_Category_2 in\n",
        "# datasets Xtrn and Xtest (separately after having split the data between\n",
        "# Xtrn and Xtest),\n",
        "# so that the normalization in this way should NOT lead to\n",
        "# the trained model being impacted by the\n",
        "# normalization of the testing data together (in one set) with the training data"
      ],
      "execution_count": 200,
      "outputs": []
    },
    {
      "cell_type": "code",
      "metadata": {
        "pycharm": {
          "name": "#%%\n"
        },
        "colab": {
          "base_uri": "https://localhost:8080/"
        },
        "id": "nKYWzC3OSNPr",
        "outputId": "652bbb42-2b67-4de5-edf4-ba7db2c35975"
      },
      "source": [
        "Xtrn.info()"
      ],
      "execution_count": 201,
      "outputs": [
        {
          "output_type": "stream",
          "text": [
            "<class 'pandas.core.frame.DataFrame'>\n",
            "Int64Index: 80 entries, 95 to 80\n",
            "Data columns (total 28 columns):\n",
            " #   Column                         Non-Null Count  Dtype  \n",
            "---  ------                         --------------  -----  \n",
            " 0   Marital_Status                 80 non-null     float64\n",
            " 1   Product_Category_1             80 non-null     float64\n",
            " 2   Product_Category_2             80 non-null     float64\n",
            " 3   Gender_M                       80 non-null     float64\n",
            " 4   Age_26-35                      80 non-null     float64\n",
            " 5   Age_36-45                      80 non-null     float64\n",
            " 6   Age_46-50                      80 non-null     float64\n",
            " 7   Age_51-55                      80 non-null     float64\n",
            " 8   Age_55+                        80 non-null     float64\n",
            " 9   Occupation_0                   80 non-null     float64\n",
            " 10  Occupation_1                   80 non-null     float64\n",
            " 11  Occupation_3                   80 non-null     float64\n",
            " 12  Occupation_7                   80 non-null     float64\n",
            " 13  Occupation_9                   80 non-null     float64\n",
            " 14  Occupation_10                  80 non-null     float64\n",
            " 15  Occupation_12                  80 non-null     float64\n",
            " 16  Occupation_15                  80 non-null     float64\n",
            " 17  Occupation_16                  80 non-null     float64\n",
            " 18  Occupation_17                  80 non-null     float64\n",
            " 19  Occupation_20                  80 non-null     float64\n",
            " 20  City_Category_A                80 non-null     float64\n",
            " 21  City_Category_B                80 non-null     float64\n",
            " 22  City_Category_C                80 non-null     float64\n",
            " 23  Stay_In_Current_City_Years_0   80 non-null     float64\n",
            " 24  Stay_In_Current_City_Years_1   80 non-null     float64\n",
            " 25  Stay_In_Current_City_Years_2   80 non-null     float64\n",
            " 26  Stay_In_Current_City_Years_3   80 non-null     float64\n",
            " 27  Stay_In_Current_City_Years_4+  80 non-null     float64\n",
            "dtypes: float64(28)\n",
            "memory usage: 18.1 KB\n"
          ],
          "name": "stdout"
        }
      ]
    },
    {
      "cell_type": "code",
      "metadata": {
        "pycharm": {
          "name": "#%%\n"
        },
        "id": "efojDF-jSNPr"
      },
      "source": [
        "# extracting numeric data into the working arrays\n",
        "numeric_data_Xtrn1 = Xtrn['Product_Category_1'].copy().to_numpy()\n",
        "numeric_data_Xtrn2 = Xtrn['Product_Category_2'].copy().to_numpy()\n",
        "numeric_data_Xtest1 = Xtest['Product_Category_1'].copy().to_numpy()\n",
        "numeric_data_Xtest2 = Xtest['Product_Category_2'].copy().to_numpy()"
      ],
      "execution_count": 202,
      "outputs": []
    },
    {
      "cell_type": "code",
      "metadata": {
        "pycharm": {
          "name": "#%%\n"
        },
        "id": "X93v3WrtSNPt"
      },
      "source": [
        "# running normalize() from seaborn\n",
        "# normalization function\n",
        "# Source code URL: https://www.educative.io/edpresso/data-normalization-in-python\n",
        "# and here URL: https://dev-gang.ru/article/-prostyh-sposoba-normalizovat-dannye-v-python-7qqrhmlppl/\n",
        "from sklearn import preprocessing\n",
        "\n",
        "normalized_data_Xtrn1 = preprocessing.normalize([numeric_data_Xtrn1])\n",
        "normalized_data_Xtrn2 = preprocessing.normalize([numeric_data_Xtrn2])\n",
        "normalized_data_Xtest1 = preprocessing.normalize([numeric_data_Xtest1])\n",
        "normalized_data_Xtest2 = preprocessing.normalize([numeric_data_Xtest2])"
      ],
      "execution_count": 203,
      "outputs": []
    },
    {
      "cell_type": "code",
      "metadata": {
        "pycharm": {
          "name": "#%%\n"
        },
        "colab": {
          "base_uri": "https://localhost:8080/"
        },
        "id": "r5MbBDp1SNPt",
        "outputId": "4f29d0af-347c-4846-d21e-0372a9fbd97f"
      },
      "source": [
        "# returning normalized data into the datasets and dropping numeric data\n",
        "normalized_data_Xtrn1"
      ],
      "execution_count": 204,
      "outputs": [
        {
          "output_type": "execute_result",
          "data": {
            "text/plain": [
              "array([[0.02161689, 0.02161689, 0.10808443, 0.04323377, 0.17293508,\n",
              "        0.02161689, 0.06485066, 0.17293508, 0.10808443, 0.17293508,\n",
              "        0.10808443, 0.02161689, 0.02161689, 0.10808443, 0.02161689,\n",
              "        0.17293508, 0.04323377, 0.10808443, 0.17293508, 0.02161689,\n",
              "        0.02161689, 0.02161689, 0.17293508, 0.23778574, 0.23778574,\n",
              "        0.10808443, 0.02161689, 0.02161689, 0.25940262, 0.10808443,\n",
              "        0.02161689, 0.10808443, 0.02161689, 0.17293508, 0.17293508,\n",
              "        0.02161689, 0.02161689, 0.12970131, 0.02161689, 0.10808443,\n",
              "        0.02161689, 0.02161689, 0.10808443, 0.10808443, 0.17293508,\n",
              "        0.10808443, 0.10808443, 0.17293508, 0.17293508, 0.23778574,\n",
              "        0.10808443, 0.06485066, 0.02161689, 0.02161689, 0.04323377,\n",
              "        0.02161689, 0.02161689, 0.02161689, 0.02161689, 0.10808443,\n",
              "        0.06485066, 0.02161689, 0.02161689, 0.17293508, 0.10808443,\n",
              "        0.17293508, 0.17293508, 0.17293508, 0.02161689, 0.02161689,\n",
              "        0.10808443, 0.02161689, 0.04323377, 0.02161689, 0.17293508,\n",
              "        0.06485066, 0.06485066, 0.08646754, 0.10808443, 0.08646754]])"
            ]
          },
          "metadata": {
            "tags": []
          },
          "execution_count": 204
        }
      ]
    },
    {
      "cell_type": "code",
      "metadata": {
        "pycharm": {
          "name": "#%%\n"
        },
        "id": "LlVvcZh7SNPt"
      },
      "source": [
        "rshp_trn=int(len(numeric_data_Xtrn1)) # determining the length to reshape\n",
        "rshp_test=int(len(numeric_data_Xtest1))"
      ],
      "execution_count": 205,
      "outputs": []
    },
    {
      "cell_type": "code",
      "metadata": {
        "pycharm": {
          "name": "#%%\n"
        },
        "id": "mFFab8LVSNPt"
      },
      "source": [
        "# len(normalized_data_Xtrn1)"
      ],
      "execution_count": 206,
      "outputs": []
    },
    {
      "cell_type": "code",
      "metadata": {
        "pycharm": {
          "name": "#%%\n"
        },
        "id": "PtvsHlssSNPu"
      },
      "source": [
        "normalized_data_Xtrn1 = normalized_data_Xtrn1.reshape(rshp_trn,1) #reshaping the array to fit into a dataframe column"
      ],
      "execution_count": 207,
      "outputs": []
    },
    {
      "cell_type": "code",
      "metadata": {
        "pycharm": {
          "name": "#%%\n"
        },
        "id": "14Y4rhMTSNPu"
      },
      "source": [
        "normalized_data_Xtrn2 = normalized_data_Xtrn2.reshape(rshp_trn,1)"
      ],
      "execution_count": 208,
      "outputs": []
    },
    {
      "cell_type": "code",
      "metadata": {
        "pycharm": {
          "name": "#%%\n"
        },
        "id": "3uoidZJsSNPu"
      },
      "source": [
        "normalized_data_Xtest1 = normalized_data_Xtest1.reshape(rshp_test,1)"
      ],
      "execution_count": 209,
      "outputs": []
    },
    {
      "cell_type": "code",
      "metadata": {
        "pycharm": {
          "name": "#%%\n"
        },
        "id": "uuj2DM8KSNPv"
      },
      "source": [
        "normalized_data_Xtest2 = normalized_data_Xtest2.reshape(rshp_test,1)"
      ],
      "execution_count": 210,
      "outputs": []
    },
    {
      "cell_type": "code",
      "metadata": {
        "pycharm": {
          "name": "#%%\n"
        },
        "id": "Zc0QGXXoSNPv"
      },
      "source": [
        ""
      ],
      "execution_count": 210,
      "outputs": []
    },
    {
      "cell_type": "code",
      "metadata": {
        "pycharm": {
          "name": "#%%\n"
        },
        "colab": {
          "base_uri": "https://localhost:8080/"
        },
        "id": "JApxu0dkSNPv",
        "outputId": "7956f313-4b6b-4f85-a9ef-0ca18ad1c042"
      },
      "source": [
        "print ('--- Xtrn SHAPE ---')\n",
        "print (Xtrn.shape)"
      ],
      "execution_count": 211,
      "outputs": [
        {
          "output_type": "stream",
          "text": [
            "--- Xtrn SHAPE ---\n",
            "(80, 28)\n"
          ],
          "name": "stdout"
        }
      ]
    },
    {
      "cell_type": "code",
      "metadata": {
        "pycharm": {
          "name": "#%%\n"
        },
        "id": "j-KHcXmQSNPx"
      },
      "source": [
        "normalized_data_Xtrn1_df = pd.DataFrame(data=normalized_data_Xtrn1, columns=['Qty_Prod_Cat_1_Nrmd'])"
      ],
      "execution_count": 212,
      "outputs": []
    },
    {
      "cell_type": "code",
      "metadata": {
        "pycharm": {
          "name": "#%%\n"
        },
        "id": "fjLniTdXSNPy"
      },
      "source": [
        "normalized_data_Xtrn2_df = pd.DataFrame(data=normalized_data_Xtrn2, columns=['Qty_Prod_Cat_2_Nrmd'])"
      ],
      "execution_count": 213,
      "outputs": []
    },
    {
      "cell_type": "code",
      "metadata": {
        "pycharm": {
          "name": "#%%\n"
        },
        "id": "2QpQ44zlSNPz"
      },
      "source": [
        "normalized_data_Xtest1_df = pd.DataFrame(data=normalized_data_Xtest1, columns=['Qty_Prod_Cat_1_Nrmd'])\n",
        "normalized_data_Xtest2_df = pd.DataFrame(data=normalized_data_Xtest2, columns=['Qty_Prod_Cat_2_Nrmd'])"
      ],
      "execution_count": 214,
      "outputs": []
    },
    {
      "cell_type": "code",
      "metadata": {
        "pycharm": {
          "name": "#%%\n"
        },
        "id": "sj1pCVrESNPz"
      },
      "source": [
        ""
      ],
      "execution_count": 214,
      "outputs": []
    },
    {
      "cell_type": "code",
      "metadata": {
        "pycharm": {
          "name": "#%%\n"
        },
        "id": "5coPQrBoSNP1"
      },
      "source": [
        "# normalized_data_Xtrn1_df.info()\n",
        "# normalized_data_Xtrn2_df.info()\n",
        "# normalized_data_Xtest1_df.info()\n",
        "# normalized_data_Xtest2_df.info()"
      ],
      "execution_count": 215,
      "outputs": []
    },
    {
      "cell_type": "code",
      "metadata": {
        "pycharm": {
          "name": "#%%\n"
        },
        "colab": {
          "base_uri": "https://localhost:8080/"
        },
        "id": "bLxzlGe-SNP1",
        "outputId": "0600dd11-4d2d-436b-c20f-f0a5a218b3d8"
      },
      "source": [
        "print ('--- Xtrn SHAPE ---')\n",
        "print (Xtrn.shape)"
      ],
      "execution_count": 216,
      "outputs": [
        {
          "output_type": "stream",
          "text": [
            "--- Xtrn SHAPE ---\n",
            "(80, 28)\n"
          ],
          "name": "stdout"
        }
      ]
    },
    {
      "cell_type": "code",
      "metadata": {
        "pycharm": {
          "name": "#%%\n"
        },
        "id": "dVrwKWI0SNP3"
      },
      "source": [
        "Qty_Prod_Cat_1_Nrmd = normalized_data_Xtrn1_df['Qty_Prod_Cat_1_Nrmd'].tolist()"
      ],
      "execution_count": 217,
      "outputs": []
    },
    {
      "cell_type": "code",
      "metadata": {
        "pycharm": {
          "name": "#%%\n"
        },
        "id": "UYuBS8y3SNP3"
      },
      "source": [
        "# Qty_Prod_Cat_1_Nrmd"
      ],
      "execution_count": 218,
      "outputs": []
    },
    {
      "cell_type": "code",
      "metadata": {
        "pycharm": {
          "name": "#%%\n"
        },
        "colab": {
          "base_uri": "https://localhost:8080/"
        },
        "id": "fv5vy1kmSNP5",
        "outputId": "d9b929b3-26de-48ec-c450-e1070b3c12fc"
      },
      "source": [
        "Xtrn.loc[:,'Qty_Prod_Cat_1_Nrmd'] = Qty_Prod_Cat_1_Nrmd  # adding normalized"
      ],
      "execution_count": 219,
      "outputs": [
        {
          "output_type": "stream",
          "text": [
            "/usr/local/lib/python3.6/dist-packages/pandas/core/indexing.py:1596: SettingWithCopyWarning: \n",
            "A value is trying to be set on a copy of a slice from a DataFrame.\n",
            "Try using .loc[row_indexer,col_indexer] = value instead\n",
            "\n",
            "See the caveats in the documentation: https://pandas.pydata.org/pandas-docs/stable/user_guide/indexing.html#returning-a-view-versus-a-copy\n",
            "  self.obj[key] = _infer_fill_value(value)\n",
            "/usr/local/lib/python3.6/dist-packages/pandas/core/indexing.py:1781: SettingWithCopyWarning: \n",
            "A value is trying to be set on a copy of a slice from a DataFrame.\n",
            "Try using .loc[row_indexer,col_indexer] = value instead\n",
            "\n",
            "See the caveats in the documentation: https://pandas.pydata.org/pandas-docs/stable/user_guide/indexing.html#returning-a-view-versus-a-copy\n",
            "  self.obj[item_labels[indexer[info_axis]]] = value\n"
          ],
          "name": "stderr"
        }
      ]
    },
    {
      "cell_type": "code",
      "metadata": {
        "pycharm": {
          "name": "#%%\n"
        },
        "colab": {
          "base_uri": "https://localhost:8080/"
        },
        "id": "8WkZ3FupSNP5",
        "outputId": "c447ebef-ef6e-4d5d-cc36-9fd3fbd7718e"
      },
      "source": [
        "print ('--- Xtrn SHAPE ---')\n",
        "print (Xtrn.shape)"
      ],
      "execution_count": 220,
      "outputs": [
        {
          "output_type": "stream",
          "text": [
            "--- Xtrn SHAPE ---\n",
            "(80, 29)\n"
          ],
          "name": "stdout"
        }
      ]
    },
    {
      "cell_type": "code",
      "metadata": {
        "pycharm": {
          "name": "#%%\n"
        },
        "colab": {
          "base_uri": "https://localhost:8080/",
          "height": 444
        },
        "id": "lIWm6WrOSNP6",
        "outputId": "95adca05-ad40-447f-94cc-10a0703f8d06"
      },
      "source": [
        "Xtrn"
      ],
      "execution_count": 221,
      "outputs": [
        {
          "output_type": "execute_result",
          "data": {
            "text/html": [
              "<div>\n",
              "<style scoped>\n",
              "    .dataframe tbody tr th:only-of-type {\n",
              "        vertical-align: middle;\n",
              "    }\n",
              "\n",
              "    .dataframe tbody tr th {\n",
              "        vertical-align: top;\n",
              "    }\n",
              "\n",
              "    .dataframe thead th {\n",
              "        text-align: right;\n",
              "    }\n",
              "</style>\n",
              "<table border=\"1\" class=\"dataframe\">\n",
              "  <thead>\n",
              "    <tr style=\"text-align: right;\">\n",
              "      <th></th>\n",
              "      <th>Marital_Status</th>\n",
              "      <th>Product_Category_1</th>\n",
              "      <th>Product_Category_2</th>\n",
              "      <th>Gender_M</th>\n",
              "      <th>Age_26-35</th>\n",
              "      <th>Age_36-45</th>\n",
              "      <th>Age_46-50</th>\n",
              "      <th>Age_51-55</th>\n",
              "      <th>Age_55+</th>\n",
              "      <th>Occupation_0</th>\n",
              "      <th>Occupation_1</th>\n",
              "      <th>Occupation_3</th>\n",
              "      <th>Occupation_7</th>\n",
              "      <th>Occupation_9</th>\n",
              "      <th>Occupation_10</th>\n",
              "      <th>Occupation_12</th>\n",
              "      <th>Occupation_15</th>\n",
              "      <th>Occupation_16</th>\n",
              "      <th>Occupation_17</th>\n",
              "      <th>Occupation_20</th>\n",
              "      <th>City_Category_A</th>\n",
              "      <th>City_Category_B</th>\n",
              "      <th>City_Category_C</th>\n",
              "      <th>Stay_In_Current_City_Years_0</th>\n",
              "      <th>Stay_In_Current_City_Years_1</th>\n",
              "      <th>Stay_In_Current_City_Years_2</th>\n",
              "      <th>Stay_In_Current_City_Years_3</th>\n",
              "      <th>Stay_In_Current_City_Years_4+</th>\n",
              "      <th>Qty_Prod_Cat_1_Nrmd</th>\n",
              "    </tr>\n",
              "  </thead>\n",
              "  <tbody>\n",
              "    <tr>\n",
              "      <th>95</th>\n",
              "      <td>0.0</td>\n",
              "      <td>1.0</td>\n",
              "      <td>2.0</td>\n",
              "      <td>1.0</td>\n",
              "      <td>0.0</td>\n",
              "      <td>0.0</td>\n",
              "      <td>0.0</td>\n",
              "      <td>0.0</td>\n",
              "      <td>0.0</td>\n",
              "      <td>0.0</td>\n",
              "      <td>0.0</td>\n",
              "      <td>0.0</td>\n",
              "      <td>0.0</td>\n",
              "      <td>0.0</td>\n",
              "      <td>1.0</td>\n",
              "      <td>0.0</td>\n",
              "      <td>0.0</td>\n",
              "      <td>0.0</td>\n",
              "      <td>0.0</td>\n",
              "      <td>0.0</td>\n",
              "      <td>1.0</td>\n",
              "      <td>0.0</td>\n",
              "      <td>0.0</td>\n",
              "      <td>0.0</td>\n",
              "      <td>0.0</td>\n",
              "      <td>0.0</td>\n",
              "      <td>1.0</td>\n",
              "      <td>0.0</td>\n",
              "      <td>0.021617</td>\n",
              "    </tr>\n",
              "    <tr>\n",
              "      <th>18</th>\n",
              "      <td>1.0</td>\n",
              "      <td>1.0</td>\n",
              "      <td>14.0</td>\n",
              "      <td>1.0</td>\n",
              "      <td>0.0</td>\n",
              "      <td>1.0</td>\n",
              "      <td>0.0</td>\n",
              "      <td>0.0</td>\n",
              "      <td>0.0</td>\n",
              "      <td>0.0</td>\n",
              "      <td>1.0</td>\n",
              "      <td>0.0</td>\n",
              "      <td>0.0</td>\n",
              "      <td>0.0</td>\n",
              "      <td>0.0</td>\n",
              "      <td>0.0</td>\n",
              "      <td>0.0</td>\n",
              "      <td>0.0</td>\n",
              "      <td>0.0</td>\n",
              "      <td>0.0</td>\n",
              "      <td>0.0</td>\n",
              "      <td>1.0</td>\n",
              "      <td>0.0</td>\n",
              "      <td>0.0</td>\n",
              "      <td>1.0</td>\n",
              "      <td>0.0</td>\n",
              "      <td>0.0</td>\n",
              "      <td>0.0</td>\n",
              "      <td>0.021617</td>\n",
              "    </tr>\n",
              "    <tr>\n",
              "      <th>20</th>\n",
              "      <td>1.0</td>\n",
              "      <td>5.0</td>\n",
              "      <td>14.0</td>\n",
              "      <td>1.0</td>\n",
              "      <td>1.0</td>\n",
              "      <td>0.0</td>\n",
              "      <td>0.0</td>\n",
              "      <td>0.0</td>\n",
              "      <td>0.0</td>\n",
              "      <td>0.0</td>\n",
              "      <td>0.0</td>\n",
              "      <td>0.0</td>\n",
              "      <td>0.0</td>\n",
              "      <td>0.0</td>\n",
              "      <td>0.0</td>\n",
              "      <td>1.0</td>\n",
              "      <td>0.0</td>\n",
              "      <td>0.0</td>\n",
              "      <td>0.0</td>\n",
              "      <td>0.0</td>\n",
              "      <td>0.0</td>\n",
              "      <td>0.0</td>\n",
              "      <td>1.0</td>\n",
              "      <td>0.0</td>\n",
              "      <td>0.0</td>\n",
              "      <td>0.0</td>\n",
              "      <td>0.0</td>\n",
              "      <td>1.0</td>\n",
              "      <td>0.108084</td>\n",
              "    </tr>\n",
              "    <tr>\n",
              "      <th>77</th>\n",
              "      <td>0.0</td>\n",
              "      <td>2.0</td>\n",
              "      <td>3.0</td>\n",
              "      <td>0.0</td>\n",
              "      <td>0.0</td>\n",
              "      <td>0.0</td>\n",
              "      <td>0.0</td>\n",
              "      <td>0.0</td>\n",
              "      <td>0.0</td>\n",
              "      <td>0.0</td>\n",
              "      <td>0.0</td>\n",
              "      <td>1.0</td>\n",
              "      <td>0.0</td>\n",
              "      <td>0.0</td>\n",
              "      <td>0.0</td>\n",
              "      <td>0.0</td>\n",
              "      <td>0.0</td>\n",
              "      <td>0.0</td>\n",
              "      <td>0.0</td>\n",
              "      <td>0.0</td>\n",
              "      <td>0.0</td>\n",
              "      <td>1.0</td>\n",
              "      <td>0.0</td>\n",
              "      <td>0.0</td>\n",
              "      <td>0.0</td>\n",
              "      <td>0.0</td>\n",
              "      <td>1.0</td>\n",
              "      <td>0.0</td>\n",
              "      <td>0.043234</td>\n",
              "    </tr>\n",
              "    <tr>\n",
              "      <th>49</th>\n",
              "      <td>0.0</td>\n",
              "      <td>8.0</td>\n",
              "      <td>13.0</td>\n",
              "      <td>0.0</td>\n",
              "      <td>1.0</td>\n",
              "      <td>0.0</td>\n",
              "      <td>0.0</td>\n",
              "      <td>0.0</td>\n",
              "      <td>0.0</td>\n",
              "      <td>0.0</td>\n",
              "      <td>1.0</td>\n",
              "      <td>0.0</td>\n",
              "      <td>0.0</td>\n",
              "      <td>0.0</td>\n",
              "      <td>0.0</td>\n",
              "      <td>0.0</td>\n",
              "      <td>0.0</td>\n",
              "      <td>0.0</td>\n",
              "      <td>0.0</td>\n",
              "      <td>0.0</td>\n",
              "      <td>0.0</td>\n",
              "      <td>0.0</td>\n",
              "      <td>1.0</td>\n",
              "      <td>0.0</td>\n",
              "      <td>1.0</td>\n",
              "      <td>0.0</td>\n",
              "      <td>0.0</td>\n",
              "      <td>0.0</td>\n",
              "      <td>0.172935</td>\n",
              "    </tr>\n",
              "    <tr>\n",
              "      <th>...</th>\n",
              "      <td>...</td>\n",
              "      <td>...</td>\n",
              "      <td>...</td>\n",
              "      <td>...</td>\n",
              "      <td>...</td>\n",
              "      <td>...</td>\n",
              "      <td>...</td>\n",
              "      <td>...</td>\n",
              "      <td>...</td>\n",
              "      <td>...</td>\n",
              "      <td>...</td>\n",
              "      <td>...</td>\n",
              "      <td>...</td>\n",
              "      <td>...</td>\n",
              "      <td>...</td>\n",
              "      <td>...</td>\n",
              "      <td>...</td>\n",
              "      <td>...</td>\n",
              "      <td>...</td>\n",
              "      <td>...</td>\n",
              "      <td>...</td>\n",
              "      <td>...</td>\n",
              "      <td>...</td>\n",
              "      <td>...</td>\n",
              "      <td>...</td>\n",
              "      <td>...</td>\n",
              "      <td>...</td>\n",
              "      <td>...</td>\n",
              "      <td>...</td>\n",
              "    </tr>\n",
              "    <tr>\n",
              "      <th>0</th>\n",
              "      <td>0.0</td>\n",
              "      <td>3.0</td>\n",
              "      <td>0.0</td>\n",
              "      <td>0.0</td>\n",
              "      <td>0.0</td>\n",
              "      <td>0.0</td>\n",
              "      <td>0.0</td>\n",
              "      <td>0.0</td>\n",
              "      <td>0.0</td>\n",
              "      <td>0.0</td>\n",
              "      <td>0.0</td>\n",
              "      <td>0.0</td>\n",
              "      <td>0.0</td>\n",
              "      <td>0.0</td>\n",
              "      <td>1.0</td>\n",
              "      <td>0.0</td>\n",
              "      <td>0.0</td>\n",
              "      <td>0.0</td>\n",
              "      <td>0.0</td>\n",
              "      <td>0.0</td>\n",
              "      <td>1.0</td>\n",
              "      <td>0.0</td>\n",
              "      <td>0.0</td>\n",
              "      <td>0.0</td>\n",
              "      <td>0.0</td>\n",
              "      <td>1.0</td>\n",
              "      <td>0.0</td>\n",
              "      <td>0.0</td>\n",
              "      <td>0.064851</td>\n",
              "    </tr>\n",
              "    <tr>\n",
              "      <th>71</th>\n",
              "      <td>0.0</td>\n",
              "      <td>3.0</td>\n",
              "      <td>4.0</td>\n",
              "      <td>0.0</td>\n",
              "      <td>0.0</td>\n",
              "      <td>0.0</td>\n",
              "      <td>0.0</td>\n",
              "      <td>0.0</td>\n",
              "      <td>0.0</td>\n",
              "      <td>0.0</td>\n",
              "      <td>0.0</td>\n",
              "      <td>1.0</td>\n",
              "      <td>0.0</td>\n",
              "      <td>0.0</td>\n",
              "      <td>0.0</td>\n",
              "      <td>0.0</td>\n",
              "      <td>0.0</td>\n",
              "      <td>0.0</td>\n",
              "      <td>0.0</td>\n",
              "      <td>0.0</td>\n",
              "      <td>0.0</td>\n",
              "      <td>1.0</td>\n",
              "      <td>0.0</td>\n",
              "      <td>0.0</td>\n",
              "      <td>0.0</td>\n",
              "      <td>0.0</td>\n",
              "      <td>1.0</td>\n",
              "      <td>0.0</td>\n",
              "      <td>0.064851</td>\n",
              "    </tr>\n",
              "    <tr>\n",
              "      <th>15</th>\n",
              "      <td>0.0</td>\n",
              "      <td>4.0</td>\n",
              "      <td>5.0</td>\n",
              "      <td>0.0</td>\n",
              "      <td>0.0</td>\n",
              "      <td>0.0</td>\n",
              "      <td>0.0</td>\n",
              "      <td>1.0</td>\n",
              "      <td>0.0</td>\n",
              "      <td>0.0</td>\n",
              "      <td>0.0</td>\n",
              "      <td>0.0</td>\n",
              "      <td>0.0</td>\n",
              "      <td>1.0</td>\n",
              "      <td>0.0</td>\n",
              "      <td>0.0</td>\n",
              "      <td>0.0</td>\n",
              "      <td>0.0</td>\n",
              "      <td>0.0</td>\n",
              "      <td>0.0</td>\n",
              "      <td>1.0</td>\n",
              "      <td>0.0</td>\n",
              "      <td>0.0</td>\n",
              "      <td>0.0</td>\n",
              "      <td>1.0</td>\n",
              "      <td>0.0</td>\n",
              "      <td>0.0</td>\n",
              "      <td>0.0</td>\n",
              "      <td>0.086468</td>\n",
              "    </tr>\n",
              "    <tr>\n",
              "      <th>68</th>\n",
              "      <td>0.0</td>\n",
              "      <td>5.0</td>\n",
              "      <td>15.0</td>\n",
              "      <td>1.0</td>\n",
              "      <td>0.0</td>\n",
              "      <td>0.0</td>\n",
              "      <td>0.0</td>\n",
              "      <td>1.0</td>\n",
              "      <td>0.0</td>\n",
              "      <td>0.0</td>\n",
              "      <td>1.0</td>\n",
              "      <td>0.0</td>\n",
              "      <td>0.0</td>\n",
              "      <td>0.0</td>\n",
              "      <td>0.0</td>\n",
              "      <td>0.0</td>\n",
              "      <td>0.0</td>\n",
              "      <td>0.0</td>\n",
              "      <td>0.0</td>\n",
              "      <td>0.0</td>\n",
              "      <td>0.0</td>\n",
              "      <td>0.0</td>\n",
              "      <td>1.0</td>\n",
              "      <td>1.0</td>\n",
              "      <td>0.0</td>\n",
              "      <td>0.0</td>\n",
              "      <td>0.0</td>\n",
              "      <td>0.0</td>\n",
              "      <td>0.108084</td>\n",
              "    </tr>\n",
              "    <tr>\n",
              "      <th>80</th>\n",
              "      <td>0.0</td>\n",
              "      <td>4.0</td>\n",
              "      <td>5.0</td>\n",
              "      <td>0.0</td>\n",
              "      <td>0.0</td>\n",
              "      <td>0.0</td>\n",
              "      <td>0.0</td>\n",
              "      <td>0.0</td>\n",
              "      <td>0.0</td>\n",
              "      <td>0.0</td>\n",
              "      <td>0.0</td>\n",
              "      <td>1.0</td>\n",
              "      <td>0.0</td>\n",
              "      <td>0.0</td>\n",
              "      <td>0.0</td>\n",
              "      <td>0.0</td>\n",
              "      <td>0.0</td>\n",
              "      <td>0.0</td>\n",
              "      <td>0.0</td>\n",
              "      <td>0.0</td>\n",
              "      <td>0.0</td>\n",
              "      <td>1.0</td>\n",
              "      <td>0.0</td>\n",
              "      <td>0.0</td>\n",
              "      <td>0.0</td>\n",
              "      <td>0.0</td>\n",
              "      <td>1.0</td>\n",
              "      <td>0.0</td>\n",
              "      <td>0.086468</td>\n",
              "    </tr>\n",
              "  </tbody>\n",
              "</table>\n",
              "<p>80 rows × 29 columns</p>\n",
              "</div>"
            ],
            "text/plain": [
              "    Marital_Status  ...  Qty_Prod_Cat_1_Nrmd\n",
              "95             0.0  ...             0.021617\n",
              "18             1.0  ...             0.021617\n",
              "20             1.0  ...             0.108084\n",
              "77             0.0  ...             0.043234\n",
              "49             0.0  ...             0.172935\n",
              "..             ...  ...                  ...\n",
              "0              0.0  ...             0.064851\n",
              "71             0.0  ...             0.064851\n",
              "15             0.0  ...             0.086468\n",
              "68             0.0  ...             0.108084\n",
              "80             0.0  ...             0.086468\n",
              "\n",
              "[80 rows x 29 columns]"
            ]
          },
          "metadata": {
            "tags": []
          },
          "execution_count": 221
        }
      ]
    },
    {
      "cell_type": "code",
      "metadata": {
        "pycharm": {
          "name": "#%%\n"
        },
        "id": "wlGUshjaSNP7"
      },
      "source": [
        ""
      ],
      "execution_count": 221,
      "outputs": []
    },
    {
      "cell_type": "code",
      "metadata": {
        "pycharm": {
          "name": "#%%\n"
        },
        "id": "QgvnFTMaSNP7"
      },
      "source": [
        "Xtrn = Xtrn.drop(['Product_Category_1'], axis=1).copy() # dropping numeric data"
      ],
      "execution_count": 222,
      "outputs": []
    },
    {
      "cell_type": "code",
      "metadata": {
        "pycharm": {
          "name": "#%%\n"
        },
        "colab": {
          "base_uri": "https://localhost:8080/"
        },
        "id": "sQEvLKgGSNP8",
        "outputId": "a69a8802-743c-4bfc-a15c-9c6a8aced8ee"
      },
      "source": [
        "print ('--- Xtrn SHAPE ---')\n",
        "print (Xtrn.shape)"
      ],
      "execution_count": 223,
      "outputs": [
        {
          "output_type": "stream",
          "text": [
            "--- Xtrn SHAPE ---\n",
            "(80, 28)\n"
          ],
          "name": "stdout"
        }
      ]
    },
    {
      "cell_type": "code",
      "metadata": {
        "pycharm": {
          "name": "#%%\n"
        },
        "id": "cynLS6JMSNP9"
      },
      "source": [
        ""
      ],
      "execution_count": 223,
      "outputs": []
    },
    {
      "cell_type": "code",
      "metadata": {
        "pycharm": {
          "name": "#%%\n"
        },
        "id": "OfSazs7DSNP-"
      },
      "source": [
        "Qty_Prod_Cat_2_Nrmd = normalized_data_Xtrn2_df['Qty_Prod_Cat_2_Nrmd'].tolist()"
      ],
      "execution_count": 224,
      "outputs": []
    },
    {
      "cell_type": "code",
      "metadata": {
        "pycharm": {
          "name": "#%%\n"
        },
        "id": "GWqC2_TdSNP-"
      },
      "source": [
        "# Qty_Prod_Cat_2_Nrmd"
      ],
      "execution_count": 225,
      "outputs": []
    },
    {
      "cell_type": "code",
      "metadata": {
        "pycharm": {
          "name": "#%%\n"
        },
        "id": "NXBTwasnSNP-"
      },
      "source": [
        "Xtrn.loc[:,'Qty_Prod_Cat_2_Nrmd'] = Qty_Prod_Cat_2_Nrmd  # adding normalized"
      ],
      "execution_count": 226,
      "outputs": []
    },
    {
      "cell_type": "code",
      "metadata": {
        "pycharm": {
          "name": "#%%\n"
        },
        "id": "aVdiyxFzSNQA"
      },
      "source": [
        "# ne rabotaet: Xtrn =  pd.concat([Xtrn,normalized_data_Xtrn2_df], axis=1) # adding normalized"
      ],
      "execution_count": 227,
      "outputs": []
    },
    {
      "cell_type": "code",
      "metadata": {
        "pycharm": {
          "name": "#%%\n"
        },
        "id": "8rWDwcGaSNQA"
      },
      "source": [
        "Xtrn = Xtrn.drop(['Product_Category_2'], axis=1).copy() # dropping numeric data"
      ],
      "execution_count": 228,
      "outputs": []
    },
    {
      "cell_type": "code",
      "metadata": {
        "pycharm": {
          "name": "#%%\n"
        },
        "id": "l7ymxYZ_SNQA"
      },
      "source": [
        ""
      ],
      "execution_count": 228,
      "outputs": []
    },
    {
      "cell_type": "code",
      "metadata": {
        "pycharm": {
          "name": "#%%\n"
        },
        "colab": {
          "base_uri": "https://localhost:8080/"
        },
        "id": "8zVZgMhXSNQA",
        "outputId": "1c0177f9-1d81-4df2-9047-a9a23cf53ffe"
      },
      "source": [
        "print ('--- Xtrn SHAPE ---')\n",
        "print (Xtrn.shape)"
      ],
      "execution_count": 229,
      "outputs": [
        {
          "output_type": "stream",
          "text": [
            "--- Xtrn SHAPE ---\n",
            "(80, 28)\n"
          ],
          "name": "stdout"
        }
      ]
    },
    {
      "cell_type": "code",
      "metadata": {
        "pycharm": {
          "name": "#%%\n"
        },
        "id": "rBleUIQaSNQB"
      },
      "source": [
        "# ne rabotaet: Xtest = pd.concat([Xtest,normalized_data_Xtest1_df], axis=1) # adding normalized"
      ],
      "execution_count": 230,
      "outputs": []
    },
    {
      "cell_type": "code",
      "metadata": {
        "pycharm": {
          "name": "#%%\n"
        },
        "id": "om7bICAhSNQC"
      },
      "source": [
        "Qty_Prod_Cat_1_Nrmd_test = normalized_data_Xtest1_df['Qty_Prod_Cat_1_Nrmd'].tolist()"
      ],
      "execution_count": 231,
      "outputs": []
    },
    {
      "cell_type": "code",
      "metadata": {
        "pycharm": {
          "name": "#%%\n"
        },
        "colab": {
          "base_uri": "https://localhost:8080/"
        },
        "id": "t3g5gMzqSNQD",
        "outputId": "9a748e98-b57d-470e-b498-5c3c1cc698ac"
      },
      "source": [
        "Xtest.loc[:,'Qty_Prod_Cat_1_Nrmd_test'] = Qty_Prod_Cat_1_Nrmd_test  # adding normalized\n",
        "\n",
        "Xtest = Xtest.drop(['Product_Category_1'], axis=1).copy() # dropping numeric data"
      ],
      "execution_count": 232,
      "outputs": [
        {
          "output_type": "stream",
          "text": [
            "/usr/local/lib/python3.6/dist-packages/pandas/core/indexing.py:1596: SettingWithCopyWarning: \n",
            "A value is trying to be set on a copy of a slice from a DataFrame.\n",
            "Try using .loc[row_indexer,col_indexer] = value instead\n",
            "\n",
            "See the caveats in the documentation: https://pandas.pydata.org/pandas-docs/stable/user_guide/indexing.html#returning-a-view-versus-a-copy\n",
            "  self.obj[key] = _infer_fill_value(value)\n",
            "/usr/local/lib/python3.6/dist-packages/pandas/core/indexing.py:1781: SettingWithCopyWarning: \n",
            "A value is trying to be set on a copy of a slice from a DataFrame.\n",
            "Try using .loc[row_indexer,col_indexer] = value instead\n",
            "\n",
            "See the caveats in the documentation: https://pandas.pydata.org/pandas-docs/stable/user_guide/indexing.html#returning-a-view-versus-a-copy\n",
            "  self.obj[item_labels[indexer[info_axis]]] = value\n"
          ],
          "name": "stderr"
        }
      ]
    },
    {
      "cell_type": "code",
      "metadata": {
        "pycharm": {
          "name": "#%%\n"
        },
        "id": "7SI8yWwuSNQE"
      },
      "source": [
        "# ne rabotaet: Xtest = pd.concat([Xtest,normalized_data_Xtest2_df], axis=1) # adding normalized\n",
        "Qty_Prod_Cat_2_Nrmd_test = normalized_data_Xtest2_df['Qty_Prod_Cat_2_Nrmd'].tolist()"
      ],
      "execution_count": 233,
      "outputs": []
    },
    {
      "cell_type": "code",
      "metadata": {
        "pycharm": {
          "name": "#%%\n"
        },
        "id": "kKkcVVoqSNQE"
      },
      "source": [
        "Xtest.loc[:,'Qty_Prod_Cat_2_Nrmd_test'] = Qty_Prod_Cat_2_Nrmd_test  # adding normalized\n",
        "Xtest = Xtest.drop(['Product_Category_2'], axis=1).copy() # dropping numeric data"
      ],
      "execution_count": 234,
      "outputs": []
    },
    {
      "cell_type": "code",
      "metadata": {
        "pycharm": {
          "name": "#%%\n"
        },
        "id": "cBpqO6_VSNQF"
      },
      "source": [
        "# df = df.astype('string')"
      ],
      "execution_count": 235,
      "outputs": []
    },
    {
      "cell_type": "code",
      "metadata": {
        "pycharm": {
          "name": "#%%\n"
        },
        "id": "pLxP8WnGSNQG"
      },
      "source": [
        ""
      ],
      "execution_count": 235,
      "outputs": []
    },
    {
      "cell_type": "code",
      "metadata": {
        "pycharm": {
          "name": "#%%\n"
        },
        "colab": {
          "base_uri": "https://localhost:8080/"
        },
        "id": "91odNKGESNQG",
        "outputId": "82f9167d-2621-4323-fcab-639a92095734"
      },
      "source": [
        "print ('--- Xtrn SHAPE ---')\n",
        "print (Xtrn.shape)"
      ],
      "execution_count": 236,
      "outputs": [
        {
          "output_type": "stream",
          "text": [
            "--- Xtrn SHAPE ---\n",
            "(80, 28)\n"
          ],
          "name": "stdout"
        }
      ]
    },
    {
      "cell_type": "code",
      "metadata": {
        "pycharm": {
          "name": "#%%\n"
        },
        "id": "qFOhk3yWSNQI"
      },
      "source": [
        "# Xtrn.isna().sum()\n",
        "# Xtrn = Xtrn.fillna(0)"
      ],
      "execution_count": 237,
      "outputs": []
    },
    {
      "cell_type": "code",
      "metadata": {
        "pycharm": {
          "name": "#%%\n"
        },
        "id": "jmKPu0twSNQI"
      },
      "source": [
        ""
      ],
      "execution_count": 237,
      "outputs": []
    },
    {
      "cell_type": "code",
      "metadata": {
        "pycharm": {
          "name": "#%%\n"
        },
        "colab": {
          "base_uri": "https://localhost:8080/"
        },
        "id": "JLEZ5qsYSNQI",
        "outputId": "2654c40f-b203-4c1e-d18a-727ba0abccf5"
      },
      "source": [
        "print ('--- Xtrn SHAPE ---')\n",
        "print (Xtrn.shape)"
      ],
      "execution_count": 238,
      "outputs": [
        {
          "output_type": "stream",
          "text": [
            "--- Xtrn SHAPE ---\n",
            "(80, 28)\n"
          ],
          "name": "stdout"
        }
      ]
    },
    {
      "cell_type": "code",
      "metadata": {
        "pycharm": {
          "name": "#%%\n"
        },
        "id": "2r-XuENxSNQJ"
      },
      "source": [
        "# Xtrn\n",
        "# Ytrn"
      ],
      "execution_count": 239,
      "outputs": []
    },
    {
      "cell_type": "code",
      "metadata": {
        "pycharm": {
          "name": "#%%\n"
        },
        "id": "aDbw9X2sSNQK"
      },
      "source": [
        "# Xtrn.isna().sum()"
      ],
      "execution_count": 240,
      "outputs": []
    },
    {
      "cell_type": "code",
      "metadata": {
        "pycharm": {
          "name": "#%%\n"
        },
        "id": "m6atNziWSNQK"
      },
      "source": [
        "# fit a model\n",
        "lm = LinearRegression()\n",
        "model = lm.fit(Xtrn, Ytrn)\n",
        "predictions = lm.predict(Xtest)\n"
      ],
      "execution_count": 241,
      "outputs": []
    },
    {
      "cell_type": "code",
      "metadata": {
        "pycharm": {
          "name": "#%%\n"
        },
        "colab": {
          "base_uri": "https://localhost:8080/"
        },
        "id": "e04fNM1OSNQK",
        "outputId": "da3c6935-6e3d-492e-ec48-259b249ffeb7"
      },
      "source": [
        "# Let’s see what (some of) the predictions are:\n",
        "predictions[0:5]"
      ],
      "execution_count": 242,
      "outputs": [
        {
          "output_type": "execute_result",
          "data": {
            "text/plain": [
              "array([  3872.49159526,   8091.27400694,  -1769.27770353,  11388.81639708,\n",
              "       -12764.78931307])"
            ]
          },
          "metadata": {
            "tags": []
          },
          "execution_count": 242
        }
      ]
    },
    {
      "cell_type": "code",
      "metadata": {
        "pycharm": {
          "name": "#%%\n"
        },
        "id": "HIpvQbkpSNQK"
      },
      "source": [
        "Ytest = Ytest.astype(float)\n",
        "predictions = predictions.astype(float)"
      ],
      "execution_count": 243,
      "outputs": []
    },
    {
      "cell_type": "code",
      "metadata": {
        "pycharm": {
          "name": "#%%\n"
        },
        "id": "6N7wTGyNSNQL"
      },
      "source": [
        "# source code URL: https://python-school.ru/linear-regression-basis/\n",
        "\n",
        "# Ytest = np.exp(Ytest)\n",
        "# predictions = np.exp(predictions)"
      ],
      "execution_count": 244,
      "outputs": []
    },
    {
      "cell_type": "code",
      "metadata": {
        "pycharm": {
          "name": "#%%\n"
        },
        "colab": {
          "base_uri": "https://localhost:8080/"
        },
        "id": "Hgr29VuYSNQL",
        "outputId": "32554430-385a-4bcb-8bcd-26a4940fb9d3"
      },
      "source": [
        "# source code URL: https://python-school.ru/linear-regression-basis/\n",
        "from sklearn.metrics import mean_squared_error\n",
        "from sklearn.metrics import mean_absolute_error\n",
        "mse = mean_squared_error(Ytest, predictions)\n",
        "mae = mean_absolute_error(Ytest, predictions)\n",
        "print('Mean Squared Error: %.3f, \\nMean Absolute Error: %.3f' % (mse, mae))"
      ],
      "execution_count": 245,
      "outputs": [
        {
          "output_type": "stream",
          "text": [
            "Mean Squared Error: 68249401.189, \n",
            "Mean Absolute Error: 6739.169\n"
          ],
          "name": "stdout"
        }
      ]
    },
    {
      "cell_type": "code",
      "metadata": {
        "pycharm": {
          "name": "#%%\n"
        },
        "id": "vNvXArDzSNQL"
      },
      "source": [
        "# import seaborn as sns"
      ],
      "execution_count": 246,
      "outputs": []
    },
    {
      "cell_type": "code",
      "metadata": {
        "pycharm": {
          "name": "#%%\n"
        },
        "id": "gyM6TYrvSNQL"
      },
      "source": [
        "# sns.pairplot(newdf)\n"
      ],
      "execution_count": 247,
      "outputs": []
    },
    {
      "cell_type": "code",
      "metadata": {
        "pycharm": {
          "name": "#%%\n"
        },
        "id": "Yum8DvlYSNQM"
      },
      "source": [
        "# features = newdf.columns.values.tolist()"
      ],
      "execution_count": 248,
      "outputs": []
    },
    {
      "cell_type": "code",
      "metadata": {
        "pycharm": {
          "name": "#%%\n"
        },
        "id": "g10VAyRFSNQM"
      },
      "source": [
        "# sns.pairplot(newdf, x_vars=[features], y_vars='predictions', kind='reg', height=100)"
      ],
      "execution_count": 249,
      "outputs": []
    },
    {
      "cell_type": "code",
      "metadata": {
        "pycharm": {
          "name": "#%%\n"
        },
        "id": "OXBXd4HgSNQN"
      },
      "source": [
        "# import seaborn as sns\n",
        "# import matplotlib.pyplot as plt\n",
        "# Heatmap(newdf)"
      ],
      "execution_count": 250,
      "outputs": []
    },
    {
      "cell_type": "markdown",
      "metadata": {
        "collapsed": false,
        "id": "SEtf6CN4SNQN"
      },
      "source": [
        "**Model performance without feature selection**"
      ]
    },
    {
      "cell_type": "code",
      "metadata": {
        "pycharm": {
          "name": "#%%\n"
        },
        "colab": {
          "base_uri": "https://localhost:8080/"
        },
        "id": "Emx9DanUSNQN",
        "outputId": "272654d1-77cd-4803-b10d-ced08b52d956"
      },
      "source": [
        "print('Coefficients: {}'.format(model.coef_))\n",
        "print('Intercept: {}'.format(model.intercept_))\n",
        "print('Mean squared error (MSE): {:.10f}'.format(mean_squared_error(Ytest, predictions)))\n",
        "# print('Coefficient of determination (R^2): {:.2f}'.format(r2_score(Ytest, predictions)))\n"
      ],
      "execution_count": 251,
      "outputs": [
        {
          "output_type": "stream",
          "text": [
            "Coefficients: [-1.52968172e+03  1.48537324e+03  6.50839999e+03 -9.03663909e+01\n",
            "  3.72200031e+03  3.79787311e+03  1.86446414e-11  3.92278671e+03\n",
            "  3.01782058e+02  1.49702449e+03 -3.24304227e+02  5.48490459e+02\n",
            "  5.90623214e+03 -4.90721944e+03  1.22651363e+03 -6.72107455e+03\n",
            " -2.38367385e+03  9.33442589e+02 -3.59154053e+03  2.64471197e+03\n",
            "  9.46828563e+02 -1.93257905e+03 -9.60601524e+02  9.41682264e+02\n",
            " -8.39758222e+02  2.79125653e+03 -5.64778928e+04 -3.24592073e+03]\n",
            "Intercept: 11742.426260401724\n",
            "Mean squared error (MSE): 68249401.1893035471\n"
          ],
          "name": "stdout"
        }
      ]
    },
    {
      "cell_type": "markdown",
      "metadata": {
        "collapsed": false,
        "id": "2JHbQATASNQN"
      },
      "source": [
        "**Feature selection**\n",
        "Only those features that were correlated with Purchase amount should stay in the\n",
        "training set"
      ]
    },
    {
      "cell_type": "code",
      "metadata": {
        "pycharm": {
          "name": "#%%\n"
        },
        "id": "AaLVFTFhSNQN"
      },
      "source": [
        ""
      ],
      "execution_count": 251,
      "outputs": []
    },
    {
      "cell_type": "markdown",
      "metadata": {
        "collapsed": false,
        "id": "ARtc1eJ8SNQO"
      },
      "source": [
        "Here is a list of features that are positively correlated\n",
        "with the purchase amount:"
      ]
    },
    {
      "cell_type": "code",
      "metadata": {
        "pycharm": {
          "name": "#%%\n"
        },
        "colab": {
          "base_uri": "https://localhost:8080/",
          "height": 104
        },
        "id": "1CoDjieASNQO",
        "outputId": "5cc60e07-5134-4414-bd91-4151458e510b"
      },
      "source": [
        "display(UFeatures_Pos)"
      ],
      "execution_count": 252,
      "outputs": [
        {
          "output_type": "display_data",
          "data": {
            "text/plain": [
              "['Marital_Status',\n",
              " 'Age_46-50',\n",
              " 'Occupation_1',\n",
              " 'City_Category_B',\n",
              " 'Stay_In_Current_City_Years_4+']"
            ]
          },
          "metadata": {
            "tags": []
          }
        }
      ]
    },
    {
      "cell_type": "markdown",
      "metadata": {
        "collapsed": false,
        "id": "9D3dEwZcSNQP"
      },
      "source": [
        "Here is a list of features that are negatively correlated\n",
        "with the purchase amount:"
      ]
    },
    {
      "cell_type": "code",
      "metadata": {
        "pycharm": {
          "name": "#%%\n"
        },
        "colab": {
          "base_uri": "https://localhost:8080/",
          "height": 156
        },
        "id": "5BNn7xy9SNQP",
        "outputId": "f190b829-5d96-455e-d581-ee1a3ccd6f99"
      },
      "source": [
        "display(UFeatures_Neg)"
      ],
      "execution_count": 253,
      "outputs": [
        {
          "output_type": "display_data",
          "data": {
            "text/plain": [
              "['Product_Category_1',\n",
              " 'Age_0-17',\n",
              " 'Occupation_9',\n",
              " 'Occupation_10',\n",
              " 'Occupation_16',\n",
              " 'Occupation_20',\n",
              " 'City_Category_A',\n",
              " 'Stay_In_Current_City_Years_1']"
            ]
          },
          "metadata": {
            "tags": []
          }
        }
      ]
    },
    {
      "cell_type": "code",
      "metadata": {
        "pycharm": {
          "name": "#%%\n"
        },
        "id": "UIf-HNHXSNQP"
      },
      "source": [
        ""
      ],
      "execution_count": 253,
      "outputs": []
    },
    {
      "cell_type": "markdown",
      "metadata": {
        "collapsed": false,
        "id": "lyO6i5pCSNQP"
      },
      "source": [
        "Here is a list of features, total:"
      ]
    },
    {
      "cell_type": "code",
      "metadata": {
        "pycharm": {
          "name": "#%%\n"
        },
        "colab": {
          "base_uri": "https://localhost:8080/",
          "height": 243
        },
        "id": "-ZJlijQfSNQQ",
        "outputId": "8f60c3eb-a07e-4c96-a073-43be7992e94d"
      },
      "source": [
        "Ufeatures_United = UFeatures_Pos + UFeatures_Neg\n",
        "display(Ufeatures_United)"
      ],
      "execution_count": 254,
      "outputs": [
        {
          "output_type": "display_data",
          "data": {
            "text/plain": [
              "['Marital_Status',\n",
              " 'Age_46-50',\n",
              " 'Occupation_1',\n",
              " 'City_Category_B',\n",
              " 'Stay_In_Current_City_Years_4+',\n",
              " 'Product_Category_1',\n",
              " 'Age_0-17',\n",
              " 'Occupation_9',\n",
              " 'Occupation_10',\n",
              " 'Occupation_16',\n",
              " 'Occupation_20',\n",
              " 'City_Category_A',\n",
              " 'Stay_In_Current_City_Years_1']"
            ]
          },
          "metadata": {
            "tags": []
          }
        }
      ]
    },
    {
      "cell_type": "code",
      "metadata": {
        "pycharm": {
          "name": "#%%\n"
        },
        "id": "AJq0kN3RSNQQ"
      },
      "source": [
        ""
      ],
      "execution_count": 254,
      "outputs": []
    },
    {
      "cell_type": "markdown",
      "metadata": {
        "collapsed": false,
        "id": "PSDqvvWjSNQR"
      },
      "source": [
        "Dropping unnecessary features:"
      ]
    },
    {
      "cell_type": "code",
      "metadata": {
        "pycharm": {
          "name": "#%%\n"
        },
        "id": "1yuFVOLSSNQR"
      },
      "source": [
        "AllFeatures = list(())\n",
        "AllFeatures = newdf.columns.values.tolist()"
      ],
      "execution_count": 255,
      "outputs": []
    },
    {
      "cell_type": "code",
      "metadata": {
        "pycharm": {
          "name": "#%%\n"
        },
        "colab": {
          "base_uri": "https://localhost:8080/"
        },
        "id": "N0YHC6DMSNQR",
        "outputId": "0bf419d9-a50d-4c25-b8a1-034b020c59e2"
      },
      "source": [
        "print(len(AllFeatures))"
      ],
      "execution_count": 256,
      "outputs": [
        {
          "output_type": "stream",
          "text": [
            "28\n"
          ],
          "name": "stdout"
        }
      ]
    },
    {
      "cell_type": "code",
      "metadata": {
        "pycharm": {
          "name": "#%%\n"
        },
        "id": "O3HGca64SNQT"
      },
      "source": [
        "Ufeatures_United\n",
        "UFeatures_Unnecessary = list(())"
      ],
      "execution_count": 257,
      "outputs": []
    },
    {
      "cell_type": "code",
      "metadata": {
        "pycharm": {
          "name": "#%%\n"
        },
        "colab": {
          "base_uri": "https://localhost:8080/"
        },
        "id": "2BE2vHrASNQT",
        "outputId": "5d250027-19f3-4568-dc33-ce44b9e3d18a"
      },
      "source": [
        "[UFeatures_Unnecessary.append(x) for x in AllFeatures if x not in Ufeatures_United]"
      ],
      "execution_count": 258,
      "outputs": [
        {
          "output_type": "execute_result",
          "data": {
            "text/plain": [
              "[None,\n",
              " None,\n",
              " None,\n",
              " None,\n",
              " None,\n",
              " None,\n",
              " None,\n",
              " None,\n",
              " None,\n",
              " None,\n",
              " None,\n",
              " None,\n",
              " None,\n",
              " None,\n",
              " None,\n",
              " None]"
            ]
          },
          "metadata": {
            "tags": []
          },
          "execution_count": 258
        }
      ]
    },
    {
      "cell_type": "code",
      "metadata": {
        "pycharm": {
          "name": "#%%\n"
        },
        "id": "rMY_YITMSNQU"
      },
      "source": [
        "smart_df = newdf.drop(UFeatures_Unnecessary, axis=1).copy()"
      ],
      "execution_count": 259,
      "outputs": []
    },
    {
      "cell_type": "code",
      "metadata": {
        "pycharm": {
          "name": "#%%\n"
        },
        "colab": {
          "base_uri": "https://localhost:8080/"
        },
        "id": "su-qAlmfSNQU",
        "outputId": "dece03ba-3376-410a-b718-d92e823d96fb"
      },
      "source": [
        "smart_df.info()"
      ],
      "execution_count": 260,
      "outputs": [
        {
          "output_type": "stream",
          "text": [
            "<class 'pandas.core.frame.DataFrame'>\n",
            "RangeIndex: 100 entries, 0 to 99\n",
            "Data columns (total 12 columns):\n",
            " #   Column                         Non-Null Count  Dtype  \n",
            "---  ------                         --------------  -----  \n",
            " 0   Marital_Status                 100 non-null    float64\n",
            " 1   Product_Category_1             100 non-null    float64\n",
            " 2   Age_46-50                      100 non-null    float64\n",
            " 3   Occupation_1                   100 non-null    float64\n",
            " 4   Occupation_9                   100 non-null    float64\n",
            " 5   Occupation_10                  100 non-null    float64\n",
            " 6   Occupation_16                  100 non-null    float64\n",
            " 7   Occupation_20                  100 non-null    float64\n",
            " 8   City_Category_A                100 non-null    float64\n",
            " 9   City_Category_B                100 non-null    float64\n",
            " 10  Stay_In_Current_City_Years_1   100 non-null    float64\n",
            " 11  Stay_In_Current_City_Years_4+  100 non-null    float64\n",
            "dtypes: float64(12)\n",
            "memory usage: 9.5 KB\n"
          ],
          "name": "stdout"
        }
      ]
    },
    {
      "cell_type": "code",
      "metadata": {
        "pycharm": {
          "name": "#%%\n"
        },
        "id": "M70YsugTSNQV"
      },
      "source": [
        "# checking the correlation between the features\n",
        "smart_df_corr = smart_df.corr() # creating the correlation matrix with the .corr() function"
      ],
      "execution_count": 261,
      "outputs": []
    },
    {
      "cell_type": "code",
      "metadata": {
        "pycharm": {
          "name": "#%%\n"
        },
        "id": "_xGSIch8SNQW"
      },
      "source": [
        "# import seaborn as sb"
      ],
      "execution_count": 262,
      "outputs": []
    },
    {
      "cell_type": "code",
      "metadata": {
        "pycharm": {
          "name": "#%%\n"
        },
        "colab": {
          "base_uri": "https://localhost:8080/",
          "height": 685
        },
        "id": "OgWmbylHSNQX",
        "outputId": "0ab7a6d8-ea9c-4878-b4ea-0d7796c16d12"
      },
      "source": [
        "fig_sb, ax_sb = plt.subplots(figsize=(11, 9))\n",
        "sb.heatmap(smart_df_corr)\n",
        "plt.show()"
      ],
      "execution_count": 263,
      "outputs": [
        {
          "output_type": "display_data",
          "data": {
            "image/png": "[encoded data removed]",
            "text/plain": [
              "<Figure size 792x648 with 2 Axes>"
            ]
          },
          "metadata": {
            "tags": [],
            "needs_background": "light"
          }
        }
      ]
    },
    {
      "cell_type": "code",
      "metadata": {
        "pycharm": {
          "name": "#%%\n"
        },
        "id": "TVqIKo3fSNQY"
      },
      "source": [
        "CorrKoeff = smart_df_corr"
      ],
      "execution_count": 264,
      "outputs": []
    },
    {
      "cell_type": "code",
      "metadata": {
        "pycharm": {
          "name": "#%%\n"
        },
        "id": "lFamahpVSNQY"
      },
      "source": [
        "colnames = 0"
      ],
      "execution_count": 265,
      "outputs": []
    },
    {
      "cell_type": "code",
      "metadata": {
        "pycharm": {
          "name": "#%%\n"
        },
        "id": "FrZCq__CSNQY"
      },
      "source": [
        "colnames = CorrKoeff.columns.values.tolist()"
      ],
      "execution_count": 266,
      "outputs": []
    },
    {
      "cell_type": "code",
      "metadata": {
        "pycharm": {
          "name": "#%%\n"
        },
        "id": "5mHUEV0FSNQZ"
      },
      "source": [
        "Feature_Drop = list(())\n",
        "Feature_DropNeg = list(())\n",
        "for each in colnames:\n",
        "    i = len(CorrKoeff[each])\n",
        "    for i in range(i):\n",
        "        if (CorrKoeff.iloc[i][each]  > 0.8) and (CorrKoeff.index[i] != each):\n",
        "            # print('\\n* *XX*|||*XX* * !!WARNING!! ['+str(each)+'] IS CORRELATED WITH '+str(CorrKoeff.index[i])+' BY '+str(CorrKoeff.iloc[i][each])+' * *XX*|||*XX* *')\n",
        "            Feature_Drop.append(each)\n",
        "            # pass\n",
        "        elif (CorrKoeff.iloc[i][each]  < -0.8) and (CorrKoeff.index[i] != each):\n",
        "            # print('\\n- *XX*XX* - Attention: ['+str(each)+'] is correlated with ['+str(CorrKoeff.index[i])+'] by '+str(CorrKoeff.iloc[i][each])+' - *XX*XX* -\\n')\n",
        "            Feature_DropNeg.append(each)\n",
        "            # pass\n",
        "        else:\n",
        "            pass\n",
        "    # print('----- * ----- '+str(each)+' is [COMPLETE] ----- * -----')"
      ],
      "execution_count": 267,
      "outputs": []
    },
    {
      "cell_type": "code",
      "metadata": {
        "pycharm": {
          "name": "#%%\n"
        },
        "colab": {
          "base_uri": "https://localhost:8080/"
        },
        "id": "BfEVBt3hSNQZ",
        "outputId": "579348ef-630c-4f9e-fcb6-68acca68a014"
      },
      "source": [
        "len(Feature_Drop) # these are features that are absolutely certain\n",
        "# to be removed"
      ],
      "execution_count": 268,
      "outputs": [
        {
          "output_type": "execute_result",
          "data": {
            "text/plain": [
              "0"
            ]
          },
          "metadata": {
            "tags": []
          },
          "execution_count": 268
        }
      ]
    },
    {
      "cell_type": "code",
      "metadata": {
        "pycharm": {
          "name": "#%%\n"
        },
        "colab": {
          "base_uri": "https://localhost:8080/"
        },
        "id": "D7CsERAJSNQa",
        "outputId": "e6f51753-4f96-4234-8e4b-d000b85cf340"
      },
      "source": [
        "len(Feature_DropNeg) # these are features that are\n",
        "# negatively correlated"
      ],
      "execution_count": 269,
      "outputs": [
        {
          "output_type": "execute_result",
          "data": {
            "text/plain": [
              "0"
            ]
          },
          "metadata": {
            "tags": []
          },
          "execution_count": 269
        }
      ]
    },
    {
      "cell_type": "code",
      "metadata": {
        "pycharm": {
          "name": "#%%\n"
        },
        "id": "mLwdmAusSNQa"
      },
      "source": [
        "UFeatures_Drop = list(())\n",
        "UFeatures_DropNeg = list(())"
      ],
      "execution_count": 270,
      "outputs": []
    },
    {
      "cell_type": "code",
      "metadata": {
        "pycharm": {
          "name": "#%%\n"
        },
        "colab": {
          "base_uri": "https://localhost:8080/"
        },
        "id": "YCaMwms1SNQb",
        "outputId": "5153044a-a4f1-463a-9d2d-b18463e388be"
      },
      "source": [
        "[UFeatures_Drop.append(x) for x in Feature_Drop if x not in UFeatures_Drop]"
      ],
      "execution_count": 271,
      "outputs": [
        {
          "output_type": "execute_result",
          "data": {
            "text/plain": [
              "[]"
            ]
          },
          "metadata": {
            "tags": []
          },
          "execution_count": 271
        }
      ]
    },
    {
      "cell_type": "code",
      "metadata": {
        "pycharm": {
          "name": "#%%\n"
        },
        "colab": {
          "base_uri": "https://localhost:8080/"
        },
        "id": "QRGKHIn_SNQb",
        "outputId": "155ac0cf-0b65-447f-db8d-8b35684a1b47"
      },
      "source": [
        "[UFeatures_DropNeg.append(z) for z in Feature_DropNeg if z not in UFeatures_DropNeg]"
      ],
      "execution_count": 272,
      "outputs": [
        {
          "output_type": "execute_result",
          "data": {
            "text/plain": [
              "[]"
            ]
          },
          "metadata": {
            "tags": []
          },
          "execution_count": 272
        }
      ]
    },
    {
      "cell_type": "code",
      "metadata": {
        "pycharm": {
          "name": "#%%\n"
        },
        "id": "iVPkeAQcSNQc"
      },
      "source": [
        "length = len(UFeatures_Drop)\n",
        "lengthNeg = len(UFeatures_DropNeg)"
      ],
      "execution_count": 273,
      "outputs": []
    },
    {
      "cell_type": "code",
      "metadata": {
        "pycharm": {
          "name": "#%%\n"
        },
        "id": "X3DX-zaySNQc"
      },
      "source": [
        "middle_index = length//2 # source code URL: https://www.kite.com/python/answers/how-to-split-a-list-in-half-in-python\n",
        "middle_indexNeg = lengthNeg//2"
      ],
      "execution_count": 274,
      "outputs": []
    },
    {
      "cell_type": "code",
      "metadata": {
        "pycharm": {
          "name": "#%%\n"
        },
        "colab": {
          "base_uri": "https://localhost:8080/"
        },
        "id": "n4vQaICESNQd",
        "outputId": "304fce97-d064-4fbe-90de-0301abf90920"
      },
      "source": [
        "len(UFeatures_Drop)"
      ],
      "execution_count": 275,
      "outputs": [
        {
          "output_type": "execute_result",
          "data": {
            "text/plain": [
              "0"
            ]
          },
          "metadata": {
            "tags": []
          },
          "execution_count": 275
        }
      ]
    },
    {
      "cell_type": "code",
      "metadata": {
        "pycharm": {
          "name": "#%%\n"
        },
        "colab": {
          "base_uri": "https://localhost:8080/"
        },
        "id": "klmsvnZ7SNQd",
        "outputId": "b6372c16-b46a-48c5-97f2-84a415bfe465"
      },
      "source": [
        "len(UFeatures_DropNeg)"
      ],
      "execution_count": 276,
      "outputs": [
        {
          "output_type": "execute_result",
          "data": {
            "text/plain": [
              "0"
            ]
          },
          "metadata": {
            "tags": []
          },
          "execution_count": 276
        }
      ]
    },
    {
      "cell_type": "code",
      "metadata": {
        "pycharm": {
          "name": "#%%\n"
        },
        "id": "AUQL9kX7SNQf"
      },
      "source": [
        "UFeatures_Droph = UFeatures_Drop[:middle_index]\n",
        "UFeatures_DropNegh = UFeatures_DropNeg[:middle_indexNeg]"
      ],
      "execution_count": 277,
      "outputs": []
    },
    {
      "cell_type": "code",
      "metadata": {
        "pycharm": {
          "name": "#%%\n"
        },
        "colab": {
          "base_uri": "https://localhost:8080/"
        },
        "id": "U_u2eo0WSNQf",
        "outputId": "e3bbe16b-8313-4c41-ac37-a3b14b280abd"
      },
      "source": [
        "len(UFeatures_Droph)"
      ],
      "execution_count": 278,
      "outputs": [
        {
          "output_type": "execute_result",
          "data": {
            "text/plain": [
              "0"
            ]
          },
          "metadata": {
            "tags": []
          },
          "execution_count": 278
        }
      ]
    },
    {
      "cell_type": "code",
      "metadata": {
        "pycharm": {
          "name": "#%%\n"
        },
        "colab": {
          "base_uri": "https://localhost:8080/"
        },
        "id": "XkBHRCRCSNQg",
        "outputId": "cdaf1d00-53b0-4185-bff8-510353f91c0e"
      },
      "source": [
        "len(UFeatures_DropNegh)"
      ],
      "execution_count": 279,
      "outputs": [
        {
          "output_type": "execute_result",
          "data": {
            "text/plain": [
              "0"
            ]
          },
          "metadata": {
            "tags": []
          },
          "execution_count": 279
        }
      ]
    },
    {
      "cell_type": "code",
      "metadata": {
        "pycharm": {
          "name": "#%%\n"
        },
        "id": "CMLDG9cZSNQg"
      },
      "source": [
        "UFeatures_Drop_United = list(())"
      ],
      "execution_count": 280,
      "outputs": []
    },
    {
      "cell_type": "code",
      "metadata": {
        "pycharm": {
          "name": "#%%\n"
        },
        "id": "x2dZ9KOMSNQg"
      },
      "source": [
        "UFeatures_Drop_United = UFeatures_Droph + UFeatures_DropNegh"
      ],
      "execution_count": 281,
      "outputs": []
    },
    {
      "cell_type": "code",
      "metadata": {
        "pycharm": {
          "name": "#%%\n"
        },
        "colab": {
          "base_uri": "https://localhost:8080/"
        },
        "id": "dzOchiUmSNQh",
        "outputId": "53404a32-54d9-4bb2-c91f-efe34c55f91f"
      },
      "source": [
        "len(UFeatures_Drop_United)"
      ],
      "execution_count": 282,
      "outputs": [
        {
          "output_type": "execute_result",
          "data": {
            "text/plain": [
              "0"
            ]
          },
          "metadata": {
            "tags": []
          },
          "execution_count": 282
        }
      ]
    },
    {
      "cell_type": "code",
      "metadata": {
        "pycharm": {
          "name": "#%%\n"
        },
        "colab": {
          "base_uri": "https://localhost:8080/",
          "height": 52
        },
        "id": "rdqztaY4SNQh",
        "outputId": "046fe301-dfce-40b1-9f9b-e610d6b69636"
      },
      "source": [
        "print('--- FEATURES TO BE REMOVED DUE TO INTERNAL CORRELATION ---')\n",
        "display(UFeatures_Drop_United)"
      ],
      "execution_count": 283,
      "outputs": [
        {
          "output_type": "stream",
          "text": [
            "--- FEATURES TO BE REMOVED DUE TO INTERNAL CORRELATION ---\n"
          ],
          "name": "stdout"
        },
        {
          "output_type": "display_data",
          "data": {
            "text/plain": [
              "[]"
            ]
          },
          "metadata": {
            "tags": []
          }
        }
      ]
    },
    {
      "cell_type": "code",
      "metadata": {
        "pycharm": {
          "name": "#%%\n"
        },
        "id": "NSjK5GyGSNQi"
      },
      "source": [
        "newsmart_df = smart_df.drop(UFeatures_Drop_United, axis=1).copy()\n"
      ],
      "execution_count": 284,
      "outputs": []
    },
    {
      "cell_type": "markdown",
      "metadata": {
        "collapsed": false,
        "id": "TBW31iwUSNQi"
      },
      "source": [
        "**Linear regression after feature selection**"
      ]
    },
    {
      "cell_type": "code",
      "metadata": {
        "pycharm": {
          "name": "#%%\n"
        },
        "id": "zgKjdwL7SNQj"
      },
      "source": [
        ""
      ],
      "execution_count": 284,
      "outputs": []
    },
    {
      "cell_type": "code",
      "metadata": {
        "pycharm": {
          "name": "#%%\n"
        },
        "id": "Nux3J0p3SNQl"
      },
      "source": [
        "Xtrn, Xtest, Ytrn, Ytest = train_test_split(newsmart_df, target, test_size=0.2)"
      ],
      "execution_count": 285,
      "outputs": []
    },
    {
      "cell_type": "code",
      "metadata": {
        "pycharm": {
          "name": "#%%\n"
        },
        "colab": {
          "base_uri": "https://localhost:8080/"
        },
        "id": "5uG9eHkQSNQl",
        "outputId": "a48c3d25-31fc-4339-deb3-8a4acc812e53"
      },
      "source": [
        "print ('--- SHAPES ---')\n",
        "print (Xtrn.shape)\n",
        "print (Ytrn.shape)\n",
        "print (Xtest.shape)\n",
        "print (Ytest.shape)\n",
        "# print X_test.shape, y_test.shape\n",
        "# source code URL: https://towardsdatascience.com/train-test-split-and-cross-validation-in-python-80b61beca4b6"
      ],
      "execution_count": 286,
      "outputs": [
        {
          "output_type": "stream",
          "text": [
            "--- SHAPES ---\n",
            "(80, 12)\n",
            "(80,)\n",
            "(20, 12)\n",
            "(20,)\n"
          ],
          "name": "stdout"
        }
      ]
    },
    {
      "cell_type": "code",
      "metadata": {
        "pycharm": {
          "name": "#%%\n"
        },
        "id": "8WFsEXOHSNQm"
      },
      "source": [
        "# re-indexation of datasets for consistency\n",
        "# in the future operations of normalization\n",
        "# Xtrn.reindex\n",
        "# Ytrn.reindex\n",
        "# Xtest.reindex\n",
        "# Ytest.reindex"
      ],
      "execution_count": 287,
      "outputs": []
    },
    {
      "cell_type": "code",
      "metadata": {
        "pycharm": {
          "name": "#%%\n"
        },
        "id": "ILcWA7K0SNQn"
      },
      "source": [
        "# *** Normalization of numerical columns with use of mean normalization ***\n",
        "# We will normalize columns Product_Category_1 and Product_Category_2 in\n",
        "# datasets Xtrn and Xtest (separately after having split the data between\n",
        "# Xtrn and Xtest),\n",
        "# so that the normalization in this way should NOT lead to\n",
        "# the trained model being impacted by the\n",
        "# normalization of the testing data together (in one set) with the training data"
      ],
      "execution_count": 288,
      "outputs": []
    },
    {
      "cell_type": "code",
      "metadata": {
        "pycharm": {
          "name": "#%%\n"
        },
        "colab": {
          "base_uri": "https://localhost:8080/"
        },
        "id": "bfWr_xlmSNQo",
        "outputId": "c7fde5a6-4df5-4fbb-bf10-5822c8c611da"
      },
      "source": [
        "Xtrn.info()"
      ],
      "execution_count": 289,
      "outputs": [
        {
          "output_type": "stream",
          "text": [
            "<class 'pandas.core.frame.DataFrame'>\n",
            "Int64Index: 80 entries, 51 to 99\n",
            "Data columns (total 12 columns):\n",
            " #   Column                         Non-Null Count  Dtype  \n",
            "---  ------                         --------------  -----  \n",
            " 0   Marital_Status                 80 non-null     float64\n",
            " 1   Product_Category_1             80 non-null     float64\n",
            " 2   Age_46-50                      80 non-null     float64\n",
            " 3   Occupation_1                   80 non-null     float64\n",
            " 4   Occupation_9                   80 non-null     float64\n",
            " 5   Occupation_10                  80 non-null     float64\n",
            " 6   Occupation_16                  80 non-null     float64\n",
            " 7   Occupation_20                  80 non-null     float64\n",
            " 8   City_Category_A                80 non-null     float64\n",
            " 9   City_Category_B                80 non-null     float64\n",
            " 10  Stay_In_Current_City_Years_1   80 non-null     float64\n",
            " 11  Stay_In_Current_City_Years_4+  80 non-null     float64\n",
            "dtypes: float64(12)\n",
            "memory usage: 8.1 KB\n"
          ],
          "name": "stdout"
        }
      ]
    },
    {
      "cell_type": "code",
      "metadata": {
        "pycharm": {
          "name": "#%%\n"
        },
        "id": "STcloywRSNQo"
      },
      "source": [
        "# extracting numeric data into the working arrays\n",
        "numeric_data_Xtrn1 = Xtrn['Product_Category_1'].copy().to_numpy()\n",
        "# numeric_data_Xtrn2 = Xtrn['Product_Category_2'].copy().to_numpy()\n",
        "numeric_data_Xtest1 = Xtest['Product_Category_1'].copy().to_numpy()\n",
        "# numeric_data_Xtest2 = Xtest['Product_Category_2'].copy().to_numpy()"
      ],
      "execution_count": 290,
      "outputs": []
    },
    {
      "cell_type": "code",
      "metadata": {
        "pycharm": {
          "name": "#%%\n"
        },
        "id": "f9kXep8DSNQp"
      },
      "source": [
        "# running normalize() from seaborn\n",
        "# normalization function\n",
        "# Source code URL: https://www.educative.io/edpresso/data-normalization-in-python\n",
        "# and here URL: https://dev-gang.ru/article/-prostyh-sposoba-normalizovat-dannye-v-python-7qqrhmlppl/\n",
        "from sklearn import preprocessing\n",
        "\n",
        "normalized_data_Xtrn1 = preprocessing.normalize([numeric_data_Xtrn1])\n",
        "# normalized_data_Xtrn2 = preprocessing.normalize([numeric_data_Xtrn2])\n",
        "normalized_data_Xtest1 = preprocessing.normalize([numeric_data_Xtest1])\n",
        "# normalized_data_Xtest2 = preprocessing.normalize([numeric_data_Xtest2])"
      ],
      "execution_count": 291,
      "outputs": []
    },
    {
      "cell_type": "code",
      "metadata": {
        "pycharm": {
          "name": "#%%\n"
        },
        "colab": {
          "base_uri": "https://localhost:8080/"
        },
        "id": "a9nkclVcSNQp",
        "outputId": "83d0c11f-13c0-4fd1-bb92-c1459e19e179"
      },
      "source": [
        "# returning normalized data into the datasets and dropping numeric data\n",
        "normalized_data_Xtrn1"
      ],
      "execution_count": 292,
      "outputs": [
        {
          "output_type": "execute_result",
          "data": {
            "text/plain": [
              "array([[0.09862873, 0.01972575, 0.15780597, 0.15780597, 0.09862873,\n",
              "        0.15780597, 0.01972575, 0.09862873, 0.09862873, 0.09862873,\n",
              "        0.15780597, 0.07890298, 0.15780597, 0.21698321, 0.15780597,\n",
              "        0.15780597, 0.15780597, 0.15780597, 0.15780597, 0.05917724,\n",
              "        0.01972575, 0.01972575, 0.15780597, 0.09862873, 0.05917724,\n",
              "        0.15780597, 0.01972575, 0.09862873, 0.01972575, 0.01972575,\n",
              "        0.01972575, 0.01972575, 0.09862873, 0.15780597, 0.09862873,\n",
              "        0.01972575, 0.23670895, 0.15780597, 0.01972575, 0.11835448,\n",
              "        0.01972575, 0.01972575, 0.11835448, 0.01972575, 0.01972575,\n",
              "        0.01972575, 0.15780597, 0.09862873, 0.09862873, 0.21698321,\n",
              "        0.01972575, 0.21698321, 0.01972575, 0.03945149, 0.03945149,\n",
              "        0.09862873, 0.27616045, 0.09862873, 0.23670895, 0.01972575,\n",
              "        0.03945149, 0.01972575, 0.03945149, 0.09862873, 0.01972575,\n",
              "        0.05917724, 0.01972575, 0.09862873, 0.05917724, 0.01972575,\n",
              "        0.07890298, 0.15780597, 0.03945149, 0.01972575, 0.05917724,\n",
              "        0.09862873, 0.01972575, 0.07890298, 0.15780597, 0.09862873]])"
            ]
          },
          "metadata": {
            "tags": []
          },
          "execution_count": 292
        }
      ]
    },
    {
      "cell_type": "code",
      "metadata": {
        "pycharm": {
          "name": "#%%\n"
        },
        "id": "mt4DnGaHSNQq"
      },
      "source": [
        "rshp_trn=int(len(numeric_data_Xtrn1)) # determining the length to reshape\n",
        "rshp_test=int(len(numeric_data_Xtest1))"
      ],
      "execution_count": 293,
      "outputs": []
    },
    {
      "cell_type": "code",
      "metadata": {
        "pycharm": {
          "name": "#%%\n"
        },
        "id": "8ia0yv-USNQr"
      },
      "source": [
        "# len(normalized_data_Xtrn1)"
      ],
      "execution_count": 294,
      "outputs": []
    },
    {
      "cell_type": "code",
      "metadata": {
        "pycharm": {
          "name": "#%%\n"
        },
        "id": "jkE1lGLGSNQr"
      },
      "source": [
        "normalized_data_Xtrn1 = normalized_data_Xtrn1.reshape(rshp_trn,1) #reshaping the array to fit into a dataframe column"
      ],
      "execution_count": 295,
      "outputs": []
    },
    {
      "cell_type": "code",
      "metadata": {
        "pycharm": {
          "name": "#%%\n"
        },
        "id": "-9ANhRMqSNQr"
      },
      "source": [
        "# normalized_data_Xtrn2 = normalized_data_Xtrn2.reshape(rshp_trn,1)"
      ],
      "execution_count": 296,
      "outputs": []
    },
    {
      "cell_type": "code",
      "metadata": {
        "pycharm": {
          "name": "#%%\n"
        },
        "id": "B1pTXN-nSNQr"
      },
      "source": [
        "normalized_data_Xtest1 = normalized_data_Xtest1.reshape(rshp_test,1)"
      ],
      "execution_count": 297,
      "outputs": []
    },
    {
      "cell_type": "code",
      "metadata": {
        "pycharm": {
          "name": "#%%\n"
        },
        "id": "KXm0uxPHSNQr"
      },
      "source": [
        "# normalized_data_Xtest2 = normalized_data_Xtest2.reshape(rshp_test,1)"
      ],
      "execution_count": 298,
      "outputs": []
    },
    {
      "cell_type": "code",
      "metadata": {
        "pycharm": {
          "name": "#%%\n"
        },
        "id": "_z9zsyuzSNQs"
      },
      "source": [
        ""
      ],
      "execution_count": 298,
      "outputs": []
    },
    {
      "cell_type": "code",
      "metadata": {
        "pycharm": {
          "name": "#%%\n"
        },
        "colab": {
          "base_uri": "https://localhost:8080/"
        },
        "id": "yv_XT592SNQs",
        "outputId": "efffd32c-cff9-48c0-f285-ff22dfbf1f1b"
      },
      "source": [
        "print ('--- Xtrn SHAPE ---')\n",
        "print (Xtrn.shape)"
      ],
      "execution_count": 299,
      "outputs": [
        {
          "output_type": "stream",
          "text": [
            "--- Xtrn SHAPE ---\n",
            "(80, 12)\n"
          ],
          "name": "stdout"
        }
      ]
    },
    {
      "cell_type": "code",
      "metadata": {
        "pycharm": {
          "name": "#%%\n"
        },
        "id": "04wX3emtSNQs"
      },
      "source": [
        "normalized_data_Xtrn1_df = pd.DataFrame(data=normalized_data_Xtrn1, columns=['Qty_Prod_Cat_1_Nrmd'])"
      ],
      "execution_count": 300,
      "outputs": []
    },
    {
      "cell_type": "code",
      "metadata": {
        "pycharm": {
          "name": "#%%\n"
        },
        "id": "6s7FVHwQSNQs"
      },
      "source": [
        "# normalized_data_Xtrn2_df = pd.DataFrame(data=normalized_data_Xtrn2, columns=['Qty_Prod_Cat_2_Nrmd'])"
      ],
      "execution_count": 301,
      "outputs": []
    },
    {
      "cell_type": "code",
      "metadata": {
        "pycharm": {
          "name": "#%%\n"
        },
        "id": "CeKdYfHfSNQt"
      },
      "source": [
        "normalized_data_Xtest1_df = pd.DataFrame(data=normalized_data_Xtest1, columns=['Qty_Prod_Cat_1_Nrmd'])\n",
        "# normalized_data_Xtest2_df = pd.DataFrame(data=normalized_data_Xtest2, columns=['Qty_Prod_Cat_2_Nrmd'])"
      ],
      "execution_count": 302,
      "outputs": []
    },
    {
      "cell_type": "code",
      "metadata": {
        "pycharm": {
          "name": "#%%\n"
        },
        "id": "9ZNCZpBwSNQt"
      },
      "source": [
        ""
      ],
      "execution_count": 302,
      "outputs": []
    },
    {
      "cell_type": "code",
      "metadata": {
        "pycharm": {
          "name": "#%%\n"
        },
        "id": "xo8Iaf_NSNQt"
      },
      "source": [
        "# normalized_data_Xtrn1_df.info()\n",
        "# normalized_data_Xtrn2_df.info()\n",
        "# normalized_data_Xtest1_df.info()\n",
        "# normalized_data_Xtest2_df.info()"
      ],
      "execution_count": 303,
      "outputs": []
    },
    {
      "cell_type": "code",
      "metadata": {
        "pycharm": {
          "name": "#%%\n"
        },
        "colab": {
          "base_uri": "https://localhost:8080/"
        },
        "id": "rCWwP8xeSNQt",
        "outputId": "17d01918-1072-488a-e528-e3549a17d0e6"
      },
      "source": [
        "print ('--- Xtrn SHAPE ---')\n",
        "print (Xtrn.shape)"
      ],
      "execution_count": 304,
      "outputs": [
        {
          "output_type": "stream",
          "text": [
            "--- Xtrn SHAPE ---\n",
            "(80, 12)\n"
          ],
          "name": "stdout"
        }
      ]
    },
    {
      "cell_type": "code",
      "metadata": {
        "pycharm": {
          "name": "#%%\n"
        },
        "id": "DteDN5MASNQt"
      },
      "source": [
        "Qty_Prod_Cat_1_Nrmd = normalized_data_Xtrn1_df['Qty_Prod_Cat_1_Nrmd'].tolist()"
      ],
      "execution_count": 305,
      "outputs": []
    },
    {
      "cell_type": "code",
      "metadata": {
        "pycharm": {
          "name": "#%%\n"
        },
        "id": "fFDtF9HRSNQu"
      },
      "source": [
        "# Qty_Prod_Cat_1_Nrmd"
      ],
      "execution_count": 306,
      "outputs": []
    },
    {
      "cell_type": "code",
      "metadata": {
        "pycharm": {
          "name": "#%%\n"
        },
        "colab": {
          "base_uri": "https://localhost:8080/"
        },
        "id": "jCE0LZRkSNQu",
        "outputId": "c5b3731b-2b8a-411a-bfdc-e5e6ec7fd1fb"
      },
      "source": [
        "Xtrn.loc[:,'Qty_Prod_Cat_1_Nrmd'] = Qty_Prod_Cat_1_Nrmd  # adding normalized"
      ],
      "execution_count": 307,
      "outputs": [
        {
          "output_type": "stream",
          "text": [
            "/usr/local/lib/python3.6/dist-packages/pandas/core/indexing.py:1596: SettingWithCopyWarning: \n",
            "A value is trying to be set on a copy of a slice from a DataFrame.\n",
            "Try using .loc[row_indexer,col_indexer] = value instead\n",
            "\n",
            "See the caveats in the documentation: https://pandas.pydata.org/pandas-docs/stable/user_guide/indexing.html#returning-a-view-versus-a-copy\n",
            "  self.obj[key] = _infer_fill_value(value)\n",
            "/usr/local/lib/python3.6/dist-packages/pandas/core/indexing.py:1781: SettingWithCopyWarning: \n",
            "A value is trying to be set on a copy of a slice from a DataFrame.\n",
            "Try using .loc[row_indexer,col_indexer] = value instead\n",
            "\n",
            "See the caveats in the documentation: https://pandas.pydata.org/pandas-docs/stable/user_guide/indexing.html#returning-a-view-versus-a-copy\n",
            "  self.obj[item_labels[indexer[info_axis]]] = value\n"
          ],
          "name": "stderr"
        }
      ]
    },
    {
      "cell_type": "code",
      "metadata": {
        "pycharm": {
          "name": "#%%\n"
        },
        "colab": {
          "base_uri": "https://localhost:8080/"
        },
        "id": "lIh6jrzjSNQu",
        "outputId": "0345f18a-40bc-4c1a-9ec6-e9d552b1ed01"
      },
      "source": [
        "print ('--- Xtrn SHAPE ---')\n",
        "print (Xtrn.shape)"
      ],
      "execution_count": 308,
      "outputs": [
        {
          "output_type": "stream",
          "text": [
            "--- Xtrn SHAPE ---\n",
            "(80, 13)\n"
          ],
          "name": "stdout"
        }
      ]
    },
    {
      "cell_type": "code",
      "metadata": {
        "pycharm": {
          "name": "#%%\n"
        },
        "colab": {
          "base_uri": "https://localhost:8080/",
          "height": 444
        },
        "id": "4fDv8yBASNQv",
        "outputId": "4cee9e16-20a2-40f0-922c-3a3b5e77f212"
      },
      "source": [
        "Xtrn"
      ],
      "execution_count": 309,
      "outputs": [
        {
          "output_type": "execute_result",
          "data": {
            "text/html": [
              "<div>\n",
              "<style scoped>\n",
              "    .dataframe tbody tr th:only-of-type {\n",
              "        vertical-align: middle;\n",
              "    }\n",
              "\n",
              "    .dataframe tbody tr th {\n",
              "        vertical-align: top;\n",
              "    }\n",
              "\n",
              "    .dataframe thead th {\n",
              "        text-align: right;\n",
              "    }\n",
              "</style>\n",
              "<table border=\"1\" class=\"dataframe\">\n",
              "  <thead>\n",
              "    <tr style=\"text-align: right;\">\n",
              "      <th></th>\n",
              "      <th>Marital_Status</th>\n",
              "      <th>Product_Category_1</th>\n",
              "      <th>Age_46-50</th>\n",
              "      <th>Occupation_1</th>\n",
              "      <th>Occupation_9</th>\n",
              "      <th>Occupation_10</th>\n",
              "      <th>Occupation_16</th>\n",
              "      <th>Occupation_20</th>\n",
              "      <th>City_Category_A</th>\n",
              "      <th>City_Category_B</th>\n",
              "      <th>Stay_In_Current_City_Years_1</th>\n",
              "      <th>Stay_In_Current_City_Years_4+</th>\n",
              "      <th>Qty_Prod_Cat_1_Nrmd</th>\n",
              "    </tr>\n",
              "  </thead>\n",
              "  <tbody>\n",
              "    <tr>\n",
              "      <th>51</th>\n",
              "      <td>0.0</td>\n",
              "      <td>5.0</td>\n",
              "      <td>0.0</td>\n",
              "      <td>0.0</td>\n",
              "      <td>0.0</td>\n",
              "      <td>0.0</td>\n",
              "      <td>0.0</td>\n",
              "      <td>0.0</td>\n",
              "      <td>0.0</td>\n",
              "      <td>0.0</td>\n",
              "      <td>0.0</td>\n",
              "      <td>0.0</td>\n",
              "      <td>0.098629</td>\n",
              "    </tr>\n",
              "    <tr>\n",
              "      <th>75</th>\n",
              "      <td>0.0</td>\n",
              "      <td>1.0</td>\n",
              "      <td>0.0</td>\n",
              "      <td>0.0</td>\n",
              "      <td>0.0</td>\n",
              "      <td>0.0</td>\n",
              "      <td>0.0</td>\n",
              "      <td>0.0</td>\n",
              "      <td>0.0</td>\n",
              "      <td>1.0</td>\n",
              "      <td>0.0</td>\n",
              "      <td>0.0</td>\n",
              "      <td>0.019726</td>\n",
              "    </tr>\n",
              "    <tr>\n",
              "      <th>31</th>\n",
              "      <td>1.0</td>\n",
              "      <td>8.0</td>\n",
              "      <td>0.0</td>\n",
              "      <td>1.0</td>\n",
              "      <td>0.0</td>\n",
              "      <td>0.0</td>\n",
              "      <td>0.0</td>\n",
              "      <td>0.0</td>\n",
              "      <td>0.0</td>\n",
              "      <td>1.0</td>\n",
              "      <td>0.0</td>\n",
              "      <td>1.0</td>\n",
              "      <td>0.157806</td>\n",
              "    </tr>\n",
              "    <tr>\n",
              "      <th>47</th>\n",
              "      <td>0.0</td>\n",
              "      <td>8.0</td>\n",
              "      <td>0.0</td>\n",
              "      <td>1.0</td>\n",
              "      <td>0.0</td>\n",
              "      <td>0.0</td>\n",
              "      <td>0.0</td>\n",
              "      <td>0.0</td>\n",
              "      <td>0.0</td>\n",
              "      <td>0.0</td>\n",
              "      <td>1.0</td>\n",
              "      <td>0.0</td>\n",
              "      <td>0.157806</td>\n",
              "    </tr>\n",
              "    <tr>\n",
              "      <th>59</th>\n",
              "      <td>0.0</td>\n",
              "      <td>5.0</td>\n",
              "      <td>0.0</td>\n",
              "      <td>0.0</td>\n",
              "      <td>0.0</td>\n",
              "      <td>0.0</td>\n",
              "      <td>0.0</td>\n",
              "      <td>0.0</td>\n",
              "      <td>1.0</td>\n",
              "      <td>0.0</td>\n",
              "      <td>1.0</td>\n",
              "      <td>0.0</td>\n",
              "      <td>0.098629</td>\n",
              "    </tr>\n",
              "    <tr>\n",
              "      <th>...</th>\n",
              "      <td>...</td>\n",
              "      <td>...</td>\n",
              "      <td>...</td>\n",
              "      <td>...</td>\n",
              "      <td>...</td>\n",
              "      <td>...</td>\n",
              "      <td>...</td>\n",
              "      <td>...</td>\n",
              "      <td>...</td>\n",
              "      <td>...</td>\n",
              "      <td>...</td>\n",
              "      <td>...</td>\n",
              "      <td>...</td>\n",
              "    </tr>\n",
              "    <tr>\n",
              "      <th>27</th>\n",
              "      <td>0.0</td>\n",
              "      <td>5.0</td>\n",
              "      <td>0.0</td>\n",
              "      <td>0.0</td>\n",
              "      <td>0.0</td>\n",
              "      <td>0.0</td>\n",
              "      <td>0.0</td>\n",
              "      <td>0.0</td>\n",
              "      <td>0.0</td>\n",
              "      <td>0.0</td>\n",
              "      <td>0.0</td>\n",
              "      <td>0.0</td>\n",
              "      <td>0.098629</td>\n",
              "    </tr>\n",
              "    <tr>\n",
              "      <th>98</th>\n",
              "      <td>0.0</td>\n",
              "      <td>1.0</td>\n",
              "      <td>0.0</td>\n",
              "      <td>0.0</td>\n",
              "      <td>0.0</td>\n",
              "      <td>0.0</td>\n",
              "      <td>0.0</td>\n",
              "      <td>0.0</td>\n",
              "      <td>1.0</td>\n",
              "      <td>0.0</td>\n",
              "      <td>0.0</td>\n",
              "      <td>1.0</td>\n",
              "      <td>0.019726</td>\n",
              "    </tr>\n",
              "    <tr>\n",
              "      <th>15</th>\n",
              "      <td>0.0</td>\n",
              "      <td>4.0</td>\n",
              "      <td>0.0</td>\n",
              "      <td>0.0</td>\n",
              "      <td>1.0</td>\n",
              "      <td>0.0</td>\n",
              "      <td>0.0</td>\n",
              "      <td>0.0</td>\n",
              "      <td>1.0</td>\n",
              "      <td>0.0</td>\n",
              "      <td>1.0</td>\n",
              "      <td>0.0</td>\n",
              "      <td>0.078903</td>\n",
              "    </tr>\n",
              "    <tr>\n",
              "      <th>57</th>\n",
              "      <td>0.0</td>\n",
              "      <td>8.0</td>\n",
              "      <td>0.0</td>\n",
              "      <td>0.0</td>\n",
              "      <td>0.0</td>\n",
              "      <td>0.0</td>\n",
              "      <td>0.0</td>\n",
              "      <td>0.0</td>\n",
              "      <td>1.0</td>\n",
              "      <td>0.0</td>\n",
              "      <td>1.0</td>\n",
              "      <td>0.0</td>\n",
              "      <td>0.157806</td>\n",
              "    </tr>\n",
              "    <tr>\n",
              "      <th>99</th>\n",
              "      <td>0.0</td>\n",
              "      <td>5.0</td>\n",
              "      <td>0.0</td>\n",
              "      <td>0.0</td>\n",
              "      <td>0.0</td>\n",
              "      <td>0.0</td>\n",
              "      <td>0.0</td>\n",
              "      <td>0.0</td>\n",
              "      <td>1.0</td>\n",
              "      <td>0.0</td>\n",
              "      <td>0.0</td>\n",
              "      <td>1.0</td>\n",
              "      <td>0.098629</td>\n",
              "    </tr>\n",
              "  </tbody>\n",
              "</table>\n",
              "<p>80 rows × 13 columns</p>\n",
              "</div>"
            ],
            "text/plain": [
              "    Marital_Status  ...  Qty_Prod_Cat_1_Nrmd\n",
              "51             0.0  ...             0.098629\n",
              "75             0.0  ...             0.019726\n",
              "31             1.0  ...             0.157806\n",
              "47             0.0  ...             0.157806\n",
              "59             0.0  ...             0.098629\n",
              "..             ...  ...                  ...\n",
              "27             0.0  ...             0.098629\n",
              "98             0.0  ...             0.019726\n",
              "15             0.0  ...             0.078903\n",
              "57             0.0  ...             0.157806\n",
              "99             0.0  ...             0.098629\n",
              "\n",
              "[80 rows x 13 columns]"
            ]
          },
          "metadata": {
            "tags": []
          },
          "execution_count": 309
        }
      ]
    },
    {
      "cell_type": "code",
      "metadata": {
        "pycharm": {
          "name": "#%%\n"
        },
        "id": "xIRKcSw8SNQv"
      },
      "source": [
        ""
      ],
      "execution_count": 309,
      "outputs": []
    },
    {
      "cell_type": "code",
      "metadata": {
        "pycharm": {
          "name": "#%%\n"
        },
        "id": "TiuVsWWPSNQv"
      },
      "source": [
        "Xtrn = Xtrn.drop(['Product_Category_1'], axis=1).copy() # dropping numeric data"
      ],
      "execution_count": 310,
      "outputs": []
    },
    {
      "cell_type": "code",
      "metadata": {
        "pycharm": {
          "name": "#%%\n"
        },
        "colab": {
          "base_uri": "https://localhost:8080/"
        },
        "id": "d6sOcAuiSNQw",
        "outputId": "50c7197e-8cdd-471f-f29a-923935b8591c"
      },
      "source": [
        "print ('--- Xtrn SHAPE ---')\n",
        "print (Xtrn.shape)"
      ],
      "execution_count": 311,
      "outputs": [
        {
          "output_type": "stream",
          "text": [
            "--- Xtrn SHAPE ---\n",
            "(80, 12)\n"
          ],
          "name": "stdout"
        }
      ]
    },
    {
      "cell_type": "code",
      "metadata": {
        "pycharm": {
          "name": "#%%\n"
        },
        "id": "75dBz3HHSNQw"
      },
      "source": [
        ""
      ],
      "execution_count": 311,
      "outputs": []
    },
    {
      "cell_type": "code",
      "metadata": {
        "pycharm": {
          "name": "#%%\n"
        },
        "id": "9XjJNIJlSNQw"
      },
      "source": [
        "# Qty_Prod_Cat_2_Nrmd = normalized_data_Xtrn2_df['Qty_Prod_Cat_2_Nrmd'].tolist()"
      ],
      "execution_count": 312,
      "outputs": []
    },
    {
      "cell_type": "code",
      "metadata": {
        "pycharm": {
          "name": "#%%\n"
        },
        "id": "T_Aux0z4SNQw"
      },
      "source": [
        "# Qty_Prod_Cat_2_Nrmd"
      ],
      "execution_count": 313,
      "outputs": []
    },
    {
      "cell_type": "code",
      "metadata": {
        "pycharm": {
          "name": "#%%\n"
        },
        "id": "9RBOB__pSNQx"
      },
      "source": [
        "# Xtrn.loc[:,'Qty_Prod_Cat_2_Nrmd'] = Qty_Prod_Cat_2_Nrmd  # adding normalized"
      ],
      "execution_count": 314,
      "outputs": []
    },
    {
      "cell_type": "code",
      "metadata": {
        "pycharm": {
          "name": "#%%\n"
        },
        "id": "LimtWwyiSNQy"
      },
      "source": [
        "# ne rabotaet: Xtrn =  pd.concat([Xtrn,normalized_data_Xtrn2_df], axis=1) # adding normalized"
      ],
      "execution_count": 315,
      "outputs": []
    },
    {
      "cell_type": "code",
      "metadata": {
        "pycharm": {
          "name": "#%%\n"
        },
        "id": "34uC45JeSNQy"
      },
      "source": [
        "# Xtrn = Xtrn.drop(['Product_Category_2'], axis=1).copy() # dropping numeric data"
      ],
      "execution_count": 316,
      "outputs": []
    },
    {
      "cell_type": "code",
      "metadata": {
        "pycharm": {
          "name": "#%%\n"
        },
        "id": "MXqvOg36SNQy"
      },
      "source": [
        ""
      ],
      "execution_count": 316,
      "outputs": []
    },
    {
      "cell_type": "code",
      "metadata": {
        "pycharm": {
          "name": "#%%\n"
        },
        "colab": {
          "base_uri": "https://localhost:8080/"
        },
        "id": "glqjoZdvSNQy",
        "outputId": "3065ae60-fd52-41fa-cedb-53ea473c6183"
      },
      "source": [
        "print ('--- Xtrn SHAPE ---')\n",
        "print (Xtrn.shape)"
      ],
      "execution_count": 317,
      "outputs": [
        {
          "output_type": "stream",
          "text": [
            "--- Xtrn SHAPE ---\n",
            "(80, 12)\n"
          ],
          "name": "stdout"
        }
      ]
    },
    {
      "cell_type": "code",
      "metadata": {
        "pycharm": {
          "name": "#%%\n"
        },
        "id": "4urkqyhCSNQy"
      },
      "source": [
        "# ne rabotaet: Xtest = pd.concat([Xtest,normalized_data_Xtest1_df], axis=1) # adding normalized"
      ],
      "execution_count": 318,
      "outputs": []
    },
    {
      "cell_type": "code",
      "metadata": {
        "pycharm": {
          "name": "#%%\n"
        },
        "id": "Bw3W1E5iSNQ0"
      },
      "source": [
        "Qty_Prod_Cat_1_Nrmd_test = normalized_data_Xtest1_df['Qty_Prod_Cat_1_Nrmd'].tolist()"
      ],
      "execution_count": 319,
      "outputs": []
    },
    {
      "cell_type": "code",
      "metadata": {
        "pycharm": {
          "name": "#%%\n"
        },
        "colab": {
          "base_uri": "https://localhost:8080/"
        },
        "id": "YdESaZcHSNQ0",
        "outputId": "1212a6c4-48a8-4462-fdf0-63d00c7c7b24"
      },
      "source": [
        "Xtest.loc[:,'Qty_Prod_Cat_1_Nrmd_test'] = Qty_Prod_Cat_1_Nrmd_test  # adding normalized\n",
        "\n",
        "Xtest = Xtest.drop(['Product_Category_1'], axis=1).copy() # dropping numeric data"
      ],
      "execution_count": 320,
      "outputs": [
        {
          "output_type": "stream",
          "text": [
            "/usr/local/lib/python3.6/dist-packages/pandas/core/indexing.py:1596: SettingWithCopyWarning: \n",
            "A value is trying to be set on a copy of a slice from a DataFrame.\n",
            "Try using .loc[row_indexer,col_indexer] = value instead\n",
            "\n",
            "See the caveats in the documentation: https://pandas.pydata.org/pandas-docs/stable/user_guide/indexing.html#returning-a-view-versus-a-copy\n",
            "  self.obj[key] = _infer_fill_value(value)\n",
            "/usr/local/lib/python3.6/dist-packages/pandas/core/indexing.py:1781: SettingWithCopyWarning: \n",
            "A value is trying to be set on a copy of a slice from a DataFrame.\n",
            "Try using .loc[row_indexer,col_indexer] = value instead\n",
            "\n",
            "See the caveats in the documentation: https://pandas.pydata.org/pandas-docs/stable/user_guide/indexing.html#returning-a-view-versus-a-copy\n",
            "  self.obj[item_labels[indexer[info_axis]]] = value\n"
          ],
          "name": "stderr"
        }
      ]
    },
    {
      "cell_type": "code",
      "metadata": {
        "pycharm": {
          "name": "#%%\n"
        },
        "id": "sec7WONPSNQ2"
      },
      "source": [
        "# ne rabotaet: Xtest = pd.concat([Xtest,normalized_data_Xtest2_df], axis=1) # adding normalized\n",
        "# Qty_Prod_Cat_2_Nrmd_test = normalized_data_Xtest2_df['Qty_Prod_Cat_2_Nrmd'].tolist()"
      ],
      "execution_count": 321,
      "outputs": []
    },
    {
      "cell_type": "code",
      "metadata": {
        "pycharm": {
          "name": "#%%\n"
        },
        "id": "U1IHEhW8SNQ2"
      },
      "source": [
        "# Xtest.loc[:,'Qty_Prod_Cat_2_Nrmd_test'] = Qty_Prod_Cat_2_Nrmd_test  # adding normalized\n",
        "# Xtest = Xtest.drop(['Product_Category_2'], axis=1).copy() # dropping numeric data"
      ],
      "execution_count": 322,
      "outputs": []
    },
    {
      "cell_type": "code",
      "metadata": {
        "pycharm": {
          "name": "#%%\n"
        },
        "id": "GPI19hA5SNQ2"
      },
      "source": [
        "# df = df.astype('string')"
      ],
      "execution_count": 323,
      "outputs": []
    },
    {
      "cell_type": "code",
      "metadata": {
        "pycharm": {
          "name": "#%%\n"
        },
        "id": "_X9htDBzSNQ4"
      },
      "source": [
        ""
      ],
      "execution_count": 323,
      "outputs": []
    },
    {
      "cell_type": "code",
      "metadata": {
        "pycharm": {
          "name": "#%%\n"
        },
        "colab": {
          "base_uri": "https://localhost:8080/"
        },
        "id": "I0tphwVsSNQ4",
        "outputId": "57027e8d-c303-4338-e814-bf1066071fa6"
      },
      "source": [
        "print ('--- Xtrn SHAPE ---')\n",
        "print (Xtrn.shape)"
      ],
      "execution_count": 324,
      "outputs": [
        {
          "output_type": "stream",
          "text": [
            "--- Xtrn SHAPE ---\n",
            "(80, 12)\n"
          ],
          "name": "stdout"
        }
      ]
    },
    {
      "cell_type": "code",
      "metadata": {
        "pycharm": {
          "name": "#%%\n"
        },
        "id": "knCt0TACSNQ4"
      },
      "source": [
        "# Xtrn.isna().sum()\n",
        "# Xtrn = Xtrn.fillna(0)"
      ],
      "execution_count": 325,
      "outputs": []
    },
    {
      "cell_type": "code",
      "metadata": {
        "pycharm": {
          "name": "#%%\n"
        },
        "id": "M3M3gCnnSNQ5"
      },
      "source": [
        "# fit a model\n",
        "lm = LinearRegression()\n",
        "model = lm.fit(Xtrn, Ytrn)\n",
        "predictions = lm.predict(Xtest)"
      ],
      "execution_count": 326,
      "outputs": []
    },
    {
      "cell_type": "code",
      "metadata": {
        "pycharm": {
          "name": "#%%\n"
        },
        "colab": {
          "base_uri": "https://localhost:8080/"
        },
        "id": "HHCnmBifSNQ5",
        "outputId": "d5a9f679-d16f-4d8f-9c1f-ad862feafed4"
      },
      "source": [
        "# Let’s see what (some of) the predictions are:\n",
        "predictions[0:5]"
      ],
      "execution_count": 327,
      "outputs": [
        {
          "output_type": "execute_result",
          "data": {
            "text/plain": [
              "array([12847.24986196, 11882.80117713, 12847.24986196,   733.34802354,\n",
              "       11390.39093308])"
            ]
          },
          "metadata": {
            "tags": []
          },
          "execution_count": 327
        }
      ]
    },
    {
      "cell_type": "code",
      "metadata": {
        "pycharm": {
          "name": "#%%\n"
        },
        "id": "ApD1-RQ8SNQ6"
      },
      "source": [
        "Ytest = Ytest.astype(float)\n",
        "predictions = predictions.astype(float)"
      ],
      "execution_count": 328,
      "outputs": []
    },
    {
      "cell_type": "code",
      "metadata": {
        "pycharm": {
          "name": "#%%\n"
        },
        "id": "85Ff4eqISNQ7"
      },
      "source": [
        "# source code URL: https://python-school.ru/linear-regression-basis/\n",
        "\n",
        "# Ytest = np.exp(Ytest)\n",
        "# predictions = np.exp(predictions)"
      ],
      "execution_count": 329,
      "outputs": []
    },
    {
      "cell_type": "code",
      "metadata": {
        "pycharm": {
          "name": "#%%\n"
        },
        "colab": {
          "base_uri": "https://localhost:8080/"
        },
        "id": "a9GMyCkrSNQ7",
        "outputId": "d3c969c0-cbd5-4499-9b8c-f894b8b4cabf"
      },
      "source": [
        "# source code URL: https://python-school.ru/linear-regression-basis/\n",
        "from sklearn.metrics import mean_squared_error\n",
        "from sklearn.metrics import mean_absolute_error\n",
        "mse = mean_squared_error(Ytest, predictions)\n",
        "mae = mean_absolute_error(Ytest, predictions)\n",
        "print('Mean Squared Error: %.3f, \\nMean Absolute Error: %.3f' % (mse, mae))"
      ],
      "execution_count": 330,
      "outputs": [
        {
          "output_type": "stream",
          "text": [
            "Mean Squared Error: 66053282.110, \n",
            "Mean Absolute Error: 6924.537\n"
          ],
          "name": "stdout"
        }
      ]
    },
    {
      "cell_type": "code",
      "metadata": {
        "pycharm": {
          "name": "#%%\n"
        },
        "id": "IPUgSO4WSNQ7"
      },
      "source": [
        ""
      ],
      "execution_count": 330,
      "outputs": []
    }
  ]
}