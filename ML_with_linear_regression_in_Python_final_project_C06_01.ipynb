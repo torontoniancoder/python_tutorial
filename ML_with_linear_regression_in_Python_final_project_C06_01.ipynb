{
  "nbformat": 4,
  "nbformat_minor": 0,
  "metadata": {
    "kernelspec": {
      "name": "python3",
      "language": "python",
      "display_name": "Python 3"
    },
    "language_info": {
      "codemirror_mode": {
        "name": "ipython",
        "version": 2
      },
      "file_extension": ".py",
      "mimetype": "text/x-python",
      "name": "python",
      "nbconvert_exporter": "python",
      "pygments_lexer": "ipython2",
      "version": "2.7.6"
    },
    "colab": {
      "name": "gulnev_andrei_final_project_C05.ipynb",
      "provenance": [],
      "collapsed_sections": [],
      "machine_shape": "hm",
      "include_colab_link": true
    }
  },
  "cells": [
    {
      "cell_type": "markdown",
      "metadata": {
        "id": "view-in-github",
        "colab_type": "text"
      },
      "source": [
        "<a href=\"https://colab.research.google.com/github/torontoniancoder/python_tutorial/blob/master/ML_with_linear_regression_in_Python_final_project_C06_01.ipynb\" target=\"_parent\"><img src=\"https://colab.research.google.com/assets/colab-badge.svg\" alt=\"Open In Colab\"/></a>"
      ]
    },
    {
      "cell_type": "code",
      "metadata": {
        "pycharm": {
          "name": "#%%\n"
        },
        "id": "fQ7bVgNhS1-Y"
      },
      "source": [
        "import pandas as pd\n",
        "import numpy as np"
      ],
      "execution_count": 1372,
      "outputs": []
    },
    {
      "cell_type": "markdown",
      "metadata": {
        "collapsed": false,
        "id": "z_2iGtFqS1-d"
      },
      "source": [
        "A. Data cleaning"
      ]
    },
    {
      "cell_type": "code",
      "metadata": {
        "pycharm": {
          "name": "#%%\n"
        },
        "id": "YApvIdJLS1-d"
      },
      "source": [
        "def clean_data(df):\n",
        "    pd.set_option('mode.use_inf_as_na', True) # to recognise inf as a NaN in calculations: from here: https://stackoverflow.com/questions/58225701/change-pandas-default-fillna-setting\n",
        "    # todo: replace the nan values with relevant (??) values (MEAN?) -> replaced with 0-es\n",
        "    # selecting the columns for conversion from categorical data into columns of binary data\n",
        "    df_temp = df[['Gender','Age','Occupation', 'City_Category','Stay_In_Current_City_Years']]\n",
        "    # integer encoding\n",
        "    # source for instructions: https://towardsdatascience.com/the-dummys-guide-to-creating-dummy-variables-f21faddb1d40\n",
        "    # turning the type columns into the dummy variables\n",
        "    # No nan values therefore dummy_na=False\n",
        "    dummy = pd.get_dummies(df_temp, dummy_na=False, columns=['Gender','Age','Occupation', 'City_Category','Stay_In_Current_City_Years'], prefix=['Gender','Age','Occupation', 'City_Category','Stay_In_Current_City_Years'], dtype=int, drop_first=False)\n",
        "    # concatenating binary data into the initial dataframe\n",
        "    df = pd.concat([df,dummy], axis=1)\n",
        "    # dropping the unnecessary fields\n",
        "    # FieldDrop0 = ['User_ID','Product_ID','Gender','Age','Occupation','City_Category','Stay_In_Current_City_Years','Purchase']\n",
        "    # df = df.drop(FieldDrop0, axis=1)\n",
        "    colnames = df.columns.values.tolist() #converting column names into a list\n",
        "    # colnames\n",
        "    # counting nan values and removing columns with nan values more than 50% (threshold can be modified *there -> <-*)\n",
        "    for each in colnames:\n",
        "        # print(type(df[each]))\n",
        "        if (( df[each].isna().sum() / len(df[each]) ) > 0.5): # *-> <-* here! the threshold can be modified | source URL: https://stackoverflow.com/questions/26266362/how-to-count-the-nan-values-in-a-column-in-pandas-dataframe\n",
        "            print ('Due to low data quality\\n(data not available for more than 50% of data points)\\nI am deleting this column: '+each)\n",
        "            # *-> <-* here! in the line above the threshold must be modified if it si changed in the previous line\n",
        "            del df[each]\n",
        "        else:\n",
        "            df[each] = df[each].fillna(0)\n",
        "            df[each] = df[each].astype('string')\n",
        "            pass\n",
        "            # z = ( df[each].isna().sum() / len(df[each]) )*100\n",
        "            # print('For column '+str(each)+' unknown datapoints are '+str(z)+'% of series')\n",
        "    # df.info()\n",
        "    # df = df.astype('string') # source URL: https://stackoverflow.com/questions/22005911/convert-columns-to-string-in-pandas\n",
        "    # df[[\"D\", \"E\"]] = df[[\"D\", \"E\"]].astype(int)\n",
        "    #   cleaning temporary data\n",
        "    df_temp = 0\n",
        "    return df"
      ],
      "execution_count": 1373,
      "outputs": []
    },
    {
      "cell_type": "code",
      "metadata": {
        "pycharm": {
          "name": "#%%\n"
        },
        "id": "EVV9iiOmS1-e"
      },
      "source": [
        "df = pd.read_csv('Black_Friday.csv') #loading data into a dataframe"
      ],
      "execution_count": 1374,
      "outputs": []
    },
    {
      "cell_type": "code",
      "metadata": {
        "pycharm": {
          "name": "#%%\n"
        },
        "id": "JE6gL1kPCR6b"
      },
      "source": [
        "# *** REMOVE BEFORE ASSEMBLY *** BEGIN\n",
        "# df = df.iloc[:7000] # slicing dataframe for test&dev performance\n",
        "# df.shape\n",
        "# *** REMOVE BEFORE ASSEMBLY *** END\n"
      ],
      "execution_count": 1375,
      "outputs": []
    },
    {
      "cell_type": "code",
      "metadata": {
        "pycharm": {
          "name": "#%%\n"
        },
        "id": "WZk-MQNkCR6e"
      },
      "source": [
        "# keeping a control copy of the source dataset in variable df0\n",
        "df0 = df.copy()"
      ],
      "execution_count": 1376,
      "outputs": []
    },
    {
      "cell_type": "code",
      "metadata": {
        "pycharm": {
          "name": "#%%\n"
        },
        "colab": {
          "base_uri": "https://localhost:8080/"
        },
        "id": "sL0hTVr1S1-e",
        "outputId": "2f4aca4d-62b2-467e-a64b-57dbbb535c6c"
      },
      "source": [
        "df = clean_data(df) # running function clean_data on a dataframe"
      ],
      "execution_count": 1377,
      "outputs": [
        {
          "output_type": "stream",
          "text": [
            "Due to low data quality\n",
            "(data not available for more than 50% of data points)\n",
            "I am deleting this column: Product_Category_3\n"
          ],
          "name": "stdout"
        }
      ]
    },
    {
      "cell_type": "code",
      "metadata": {
        "pycharm": {
          "name": "#%%\n"
        },
        "id": "mazvxf-KS1-f"
      },
      "source": [
        "# df.info()\n",
        "# display(df.describe())"
      ],
      "execution_count": 1378,
      "outputs": []
    },
    {
      "cell_type": "markdown",
      "metadata": {
        "collapsed": false,
        "pycharm": {
          "name": "#%% md\n"
        },
        "id": "fwl8mPVsS1-f"
      },
      "source": [
        "C. Data Modeling"
      ]
    },
    {
      "cell_type": "code",
      "metadata": {
        "pycharm": {
          "name": "#%%\n"
        },
        "id": "JDCBHa2XS1-f"
      },
      "source": [
        "# source code URL: https://habr.com/ru/post/206306/\n",
        "# and here, URL: https://habr.com/ru/post/202090/\n",
        "\n",
        "# importing libraries\n",
        "\n",
        "from pandas import read_csv, DataFrame\n",
        "# from sklearn.neighbors import KNeighborsRegressor\n",
        "from sklearn.linear_model import LinearRegression, LogisticRegression\n",
        "# from sklearn.svm import SVR\n",
        "# from sklearn.ensemble import RandomForestRegressor\n",
        "# from sklearn.metrics import r2_score\n",
        "# from sklearn import cross_validation, svm\n",
        "# from sklearn.cross_validation import train_test_split"
      ],
      "execution_count": 1379,
      "outputs": []
    },
    {
      "cell_type": "code",
      "metadata": {
        "pycharm": {
          "name": "#%%\n"
        },
        "id": "f_6-rrBlS1-g"
      },
      "source": [
        "# creating dataset with summary data per UserID\n",
        "\n",
        "# df_c1 = df.copy() #loading data into a dataframe"
      ],
      "execution_count": 1380,
      "outputs": []
    },
    {
      "cell_type": "code",
      "metadata": {
        "pycharm": {
          "name": "#%%\n"
        },
        "id": "k-1wDjGiS1-g"
      },
      "source": [
        "# df_c1 = clean_data(df_c1) #\n",
        "# PreFinal_df = df.groupby('User_ID').sum()"
      ],
      "execution_count": 1381,
      "outputs": []
    },
    {
      "cell_type": "code",
      "metadata": {
        "pycharm": {
          "name": "#%%\n"
        },
        "id": "QIcQt5UKS1-g"
      },
      "source": [
        "# df_c1.info()"
      ],
      "execution_count": 1382,
      "outputs": []
    },
    {
      "cell_type": "code",
      "metadata": {
        "pycharm": {
          "name": "#%%\n"
        },
        "id": "O_H3bGG_S1-g"
      },
      "source": [
        "# df_c1 = df_c1.astype(str)"
      ],
      "execution_count": 1383,
      "outputs": []
    },
    {
      "cell_type": "code",
      "metadata": {
        "pycharm": {
          "name": "#%%\n"
        },
        "id": "aexbhetKS1-g"
      },
      "source": [
        "# df_c1.info()"
      ],
      "execution_count": 1384,
      "outputs": []
    },
    {
      "cell_type": "code",
      "metadata": {
        "pycharm": {
          "name": "#%%\n"
        },
        "id": "GRwxEx6BS1-h"
      },
      "source": [
        "# To begin with, we need to divide our training sample\n",
        "# into the indicator that we are examining, and its defining features:\n",
        "# todo: check features for cross-correlation, see source code\n",
        "#  here, URL: http://espressocode.top/python-pandas-dataframe-corr/\n",
        "\n",
        "# PreFinal_df"
      ],
      "execution_count": 1385,
      "outputs": []
    },
    {
      "cell_type": "code",
      "metadata": {
        "id": "kZNx25sSFwuA"
      },
      "source": [
        "FieldDrop_PID = ['User_ID','Product_ID','Gender','Age','Occupation','City_Category','Stay_In_Current_City_Years']\n",
        "df = df.drop(FieldDrop_PID, axis=1)"
      ],
      "execution_count": 1386,
      "outputs": []
    },
    {
      "cell_type": "code",
      "metadata": {
        "colab": {
          "base_uri": "https://localhost:8080/"
        },
        "id": "AXaFwUFdF1Fg",
        "outputId": "0c69fd04-5f85-44d4-ae37-aa5542dd4e73"
      },
      "source": [
        "df.info()"
      ],
      "execution_count": 1387,
      "outputs": [
        {
          "output_type": "stream",
          "text": [
            "<class 'pandas.core.frame.DataFrame'>\n",
            "RangeIndex: 497996 entries, 0 to 497995\n",
            "Data columns (total 42 columns):\n",
            " #   Column                         Non-Null Count   Dtype \n",
            "---  ------                         --------------   ----- \n",
            " 0   Marital_Status                 497996 non-null  string\n",
            " 1   Product_Category_1             497996 non-null  string\n",
            " 2   Product_Category_2             497996 non-null  string\n",
            " 3   Purchase                       497996 non-null  string\n",
            " 4   Gender_F                       497996 non-null  string\n",
            " 5   Gender_M                       497996 non-null  string\n",
            " 6   Age_0-17                       497996 non-null  string\n",
            " 7   Age_18-25                      497996 non-null  string\n",
            " 8   Age_26-35                      497996 non-null  string\n",
            " 9   Age_36-45                      497996 non-null  string\n",
            " 10  Age_46-50                      497996 non-null  string\n",
            " 11  Age_51-55                      497996 non-null  string\n",
            " 12  Age_55+                        497996 non-null  string\n",
            " 13  Occupation_0                   497996 non-null  string\n",
            " 14  Occupation_1                   497996 non-null  string\n",
            " 15  Occupation_2                   497996 non-null  string\n",
            " 16  Occupation_3                   497996 non-null  string\n",
            " 17  Occupation_4                   497996 non-null  string\n",
            " 18  Occupation_5                   497996 non-null  string\n",
            " 19  Occupation_6                   497996 non-null  string\n",
            " 20  Occupation_7                   497996 non-null  string\n",
            " 21  Occupation_8                   497996 non-null  string\n",
            " 22  Occupation_9                   497996 non-null  string\n",
            " 23  Occupation_10                  497996 non-null  string\n",
            " 24  Occupation_11                  497996 non-null  string\n",
            " 25  Occupation_12                  497996 non-null  string\n",
            " 26  Occupation_13                  497996 non-null  string\n",
            " 27  Occupation_14                  497996 non-null  string\n",
            " 28  Occupation_15                  497996 non-null  string\n",
            " 29  Occupation_16                  497996 non-null  string\n",
            " 30  Occupation_17                  497996 non-null  string\n",
            " 31  Occupation_18                  497996 non-null  string\n",
            " 32  Occupation_19                  497996 non-null  string\n",
            " 33  Occupation_20                  497996 non-null  string\n",
            " 34  City_Category_A                497996 non-null  string\n",
            " 35  City_Category_B                497996 non-null  string\n",
            " 36  City_Category_C                497996 non-null  string\n",
            " 37  Stay_In_Current_City_Years_0   497996 non-null  string\n",
            " 38  Stay_In_Current_City_Years_1   497996 non-null  string\n",
            " 39  Stay_In_Current_City_Years_2   497996 non-null  string\n",
            " 40  Stay_In_Current_City_Years_3   497996 non-null  string\n",
            " 41  Stay_In_Current_City_Years_4+  497996 non-null  string\n",
            "dtypes: string(42)\n",
            "memory usage: 159.6 MB\n"
          ],
          "name": "stdout"
        }
      ]
    },
    {
      "cell_type": "code",
      "metadata": {
        "pycharm": {
          "name": "#%%\n"
        },
        "id": "XJ_oAdp3S1-h"
      },
      "source": [
        "df = df.astype(float)\n",
        "# df.shape()\n",
        "# df.info()"
      ],
      "execution_count": 1388,
      "outputs": []
    },
    {
      "cell_type": "code",
      "metadata": {
        "pycharm": {
          "name": "#%%\n"
        },
        "id": "xxHrdKFzCR6x"
      },
      "source": [
        "CorrKoeff = df.corr()"
      ],
      "execution_count": 1389,
      "outputs": []
    },
    {
      "cell_type": "code",
      "metadata": {
        "pycharm": {
          "name": "#%%\n"
        },
        "id": "2eL4uQYGS1-h"
      },
      "source": [
        "# CorrKoeff"
      ],
      "execution_count": 1390,
      "outputs": []
    },
    {
      "cell_type": "code",
      "metadata": {
        "pycharm": {
          "name": "#%%\n"
        },
        "id": "L_a4CbYAS1-h"
      },
      "source": [
        "colnames = 0"
      ],
      "execution_count": 1391,
      "outputs": []
    },
    {
      "cell_type": "code",
      "metadata": {
        "pycharm": {
          "name": "#%%\n"
        },
        "id": "zk-uPauKCR6z"
      },
      "source": [
        "colnames = CorrKoeff.columns.values.tolist()"
      ],
      "execution_count": 1392,
      "outputs": []
    },
    {
      "cell_type": "code",
      "metadata": {
        "pycharm": {
          "name": "#%%\n"
        },
        "id": "TOKdOwKtCR60"
      },
      "source": [
        "Feature_Drop = list(())\n",
        "Feature_DropSoft = list(())"
      ],
      "execution_count": 1393,
      "outputs": []
    },
    {
      "cell_type": "code",
      "metadata": {
        "pycharm": {
          "name": "#%%\n"
        },
        "id": "ClZqmB66CR61"
      },
      "source": [
        "# checking the correlation between the features\n",
        "for each in colnames:\n",
        "    i = len(CorrKoeff[each])\n",
        "    for i in range(i):\n",
        "        if (CorrKoeff.iloc[i][each]  > 0.8) and (CorrKoeff.index[i] != each):\n",
        "            # print('\\n* *XX*|||*XX* * !!WARNING!! ['+str(each)+'] IS CORRELATED WITH '+str(CorrKoeff.index[i])+' BY '+str(CorrKoeff.iloc[i][each])+' * *XX*|||*XX* *')\n",
        "            Feature_Drop.append(each)\n",
        "            pass\n",
        "        elif (CorrKoeff.iloc[i][each]  < -0.8) and (CorrKoeff.index[i] != each):\n",
        "            # print('\\n- *XX*XX* - Attention: ['+str(each)+'] is correlated with ['+str(CorrKoeff.index[i])+'] by '+str(CorrKoeff.iloc[i][each])+' - *XX*XX* -\\n')\n",
        "            Feature_DropSoft.append(each)\n",
        "            pass\n",
        "        else:\n",
        "            pass\n",
        "    # print('----- * ----- '+str(each)+' is [COMPLETE] ----- * -----')"
      ],
      "execution_count": 1394,
      "outputs": []
    },
    {
      "cell_type": "code",
      "metadata": {
        "pycharm": {
          "name": "#%%\n"
        },
        "id": "gnqYsHvPCR62"
      },
      "source": [
        "# there is a correlation > 80% and <-80% between the features in df"
      ],
      "execution_count": 1395,
      "outputs": []
    },
    {
      "cell_type": "code",
      "metadata": {
        "pycharm": {
          "name": "#%%\n"
        },
        "id": "Ph-NDaTWS1-h"
      },
      "source": [
        "# todo: drop the unnecessary features (columns)"
      ],
      "execution_count": 1396,
      "outputs": []
    },
    {
      "cell_type": "code",
      "metadata": {
        "pycharm": {
          "name": "#%%\n"
        },
        "id": "_AOTXF5qCR65"
      },
      "source": [
        "# writing the Purchase data (targeted for prediction) into a separate dataset\n",
        "target = df0['Purchase']\n",
        "# dropping the unnecessary features\n"
      ],
      "execution_count": 1397,
      "outputs": []
    },
    {
      "cell_type": "code",
      "metadata": {
        "id": "Z2a8oc2vEeUs"
      },
      "source": [
        "# FieldDrop1 = ['Purchase']"
      ],
      "execution_count": 1398,
      "outputs": []
    },
    {
      "cell_type": "code",
      "metadata": {
        "id": "P1FoDFw2EgsJ"
      },
      "source": [
        "# df = df.drop(FieldDrop1, axis=1)"
      ],
      "execution_count": 1399,
      "outputs": []
    },
    {
      "cell_type": "code",
      "metadata": {
        "id": "0CBxt78kH_I4"
      },
      "source": [
        "# df"
      ],
      "execution_count": 1400,
      "outputs": []
    },
    {
      "cell_type": "code",
      "metadata": {
        "colab": {
          "base_uri": "https://localhost:8080/"
        },
        "id": "ZmBgt32AYPWx",
        "outputId": "7350f6d6-345b-45d9-83b9-9d4b7ea6d4b9"
      },
      "source": [
        "len(Feature_Drop) # these are features that are absolutely certain to be removed"
      ],
      "execution_count": 1401,
      "outputs": [
        {
          "output_type": "execute_result",
          "data": {
            "text/plain": [
              "0"
            ]
          },
          "metadata": {
            "tags": []
          },
          "execution_count": 1401
        }
      ]
    },
    {
      "cell_type": "code",
      "metadata": {
        "pycharm": {
          "name": "#%%\n"
        },
        "colab": {
          "base_uri": "https://localhost:8080/"
        },
        "id": "jEPAR0zSCR65",
        "outputId": "924ead1a-cae5-4c43-e60d-22b2ac518195"
      },
      "source": [
        "len(Feature_DropSoft) # these are features that are not certain to be removed"
      ],
      "execution_count": 1402,
      "outputs": [
        {
          "output_type": "execute_result",
          "data": {
            "text/plain": [
              "2"
            ]
          },
          "metadata": {
            "tags": []
          },
          "execution_count": 1402
        }
      ]
    },
    {
      "cell_type": "code",
      "metadata": {
        "pycharm": {
          "name": "#%%\n"
        },
        "id": "RSUHchuACR67"
      },
      "source": [
        "# Feature_DropSoft = Feature_DropSoft + Feature_Drop\n",
        "# len(Feature_DropSoft)"
      ],
      "execution_count": 1403,
      "outputs": []
    },
    {
      "cell_type": "code",
      "metadata": {
        "pycharm": {
          "name": "#%%\n"
        },
        "id": "hnPDBM2BCR67"
      },
      "source": [
        "UFeatures_Drop = list(())\n",
        "UFeatures_DropSoft = list(())"
      ],
      "execution_count": 1404,
      "outputs": []
    },
    {
      "cell_type": "code",
      "metadata": {
        "pycharm": {
          "name": "#%%\n"
        },
        "colab": {
          "base_uri": "https://localhost:8080/"
        },
        "id": "whNlhDoiCR67",
        "outputId": "a05d76a9-0839-4788-844d-17aec7206e3e"
      },
      "source": [
        "[UFeatures_Drop.append(x) for x in Feature_Drop if x not in UFeatures_Drop]\n",
        "[UFeatures_DropSoft.append(z) for z in Feature_DropSoft if z not in UFeatures_DropSoft]"
      ],
      "execution_count": 1405,
      "outputs": [
        {
          "output_type": "execute_result",
          "data": {
            "text/plain": [
              "[None, None]"
            ]
          },
          "metadata": {
            "tags": []
          },
          "execution_count": 1405
        }
      ]
    },
    {
      "cell_type": "code",
      "metadata": {
        "pycharm": {
          "name": "#%%\n"
        },
        "id": "IZIs8ETJCR68"
      },
      "source": [
        "length = len(UFeatures_Drop)\n",
        "lengthSoft = len(UFeatures_DropSoft)"
      ],
      "execution_count": 1406,
      "outputs": []
    },
    {
      "cell_type": "code",
      "metadata": {
        "id": "wYpgexxIWG--"
      },
      "source": [
        "middle_index = length//2 # source code URL: https://www.kite.com/python/answers/how-to-split-a-list-in-half-in-python\n",
        "middle_indexSoft = lengthSoft//2"
      ],
      "execution_count": 1407,
      "outputs": []
    },
    {
      "cell_type": "code",
      "metadata": {
        "colab": {
          "base_uri": "https://localhost:8080/"
        },
        "id": "k9_L68kamB4U",
        "outputId": "0a35dcc8-2cb1-4efe-ecb5-79da8537a70f"
      },
      "source": [
        "len(UFeatures_Drop)"
      ],
      "execution_count": 1408,
      "outputs": [
        {
          "output_type": "execute_result",
          "data": {
            "text/plain": [
              "0"
            ]
          },
          "metadata": {
            "tags": []
          },
          "execution_count": 1408
        }
      ]
    },
    {
      "cell_type": "code",
      "metadata": {
        "colab": {
          "base_uri": "https://localhost:8080/"
        },
        "id": "MbouYoeqmPkB",
        "outputId": "49a39db1-9ee7-4469-fa1b-4fd7dd59842a"
      },
      "source": [
        "len(UFeatures_DropSoft)"
      ],
      "execution_count": 1409,
      "outputs": [
        {
          "output_type": "execute_result",
          "data": {
            "text/plain": [
              "2"
            ]
          },
          "metadata": {
            "tags": []
          },
          "execution_count": 1409
        }
      ]
    },
    {
      "cell_type": "code",
      "metadata": {
        "id": "tJya3vUCWbX5"
      },
      "source": [
        "UFeatures_Droph = UFeatures_Drop[:middle_index]\n",
        "UFeatures_DropSofth = UFeatures_DropSoft[:middle_indexSoft]"
      ],
      "execution_count": 1410,
      "outputs": []
    },
    {
      "cell_type": "code",
      "metadata": {
        "colab": {
          "base_uri": "https://localhost:8080/"
        },
        "id": "2aYZuIeTmTCt",
        "outputId": "22b9266a-796e-4a4c-edc8-f36a1cafa118"
      },
      "source": [
        "len(UFeatures_Droph)"
      ],
      "execution_count": 1411,
      "outputs": [
        {
          "output_type": "execute_result",
          "data": {
            "text/plain": [
              "0"
            ]
          },
          "metadata": {
            "tags": []
          },
          "execution_count": 1411
        }
      ]
    },
    {
      "cell_type": "code",
      "metadata": {
        "colab": {
          "base_uri": "https://localhost:8080/"
        },
        "id": "OrcvfIKJmUeV",
        "outputId": "5d5e18b2-61a5-4e5c-8195-08dbe59a9703"
      },
      "source": [
        "len(UFeatures_DropSofth)"
      ],
      "execution_count": 1412,
      "outputs": [
        {
          "output_type": "execute_result",
          "data": {
            "text/plain": [
              "1"
            ]
          },
          "metadata": {
            "tags": []
          },
          "execution_count": 1412
        }
      ]
    },
    {
      "cell_type": "code",
      "metadata": {
        "pycharm": {
          "name": "#%%\n"
        },
        "id": "CUHlXXZRCR69"
      },
      "source": [
        "UFeatures_Drop_United = UFeatures_Droph + UFeatures_DropSofth"
      ],
      "execution_count": 1413,
      "outputs": []
    },
    {
      "cell_type": "code",
      "metadata": {
        "pycharm": {
          "name": "#%%\n"
        },
        "colab": {
          "base_uri": "https://localhost:8080/"
        },
        "id": "14VCvVifCR69",
        "outputId": "96f69570-d740-40ea-8f4b-f863b1f936ba"
      },
      "source": [
        "len(UFeatures_Drop_United)"
      ],
      "execution_count": 1414,
      "outputs": [
        {
          "output_type": "execute_result",
          "data": {
            "text/plain": [
              "1"
            ]
          },
          "metadata": {
            "tags": []
          },
          "execution_count": 1414
        }
      ]
    },
    {
      "cell_type": "code",
      "metadata": {
        "pycharm": {
          "name": "#%%\n"
        },
        "id": "CFTNQ-cgCR6-"
      },
      "source": [
        "# df"
      ],
      "execution_count": 1415,
      "outputs": []
    },
    {
      "cell_type": "code",
      "metadata": {
        "pycharm": {
          "name": "#%%\n"
        },
        "id": "k7zYoS-7S1-i"
      },
      "source": [
        "newdf = df.drop(UFeatures_Drop_United, axis=1).copy()"
      ],
      "execution_count": 1416,
      "outputs": []
    },
    {
      "cell_type": "code",
      "metadata": {
        "colab": {
          "base_uri": "https://localhost:8080/"
        },
        "id": "2W6moSQLlryx",
        "outputId": "40785391-415d-4d4e-caeb-7ddcc090e455"
      },
      "source": [
        "newdf.info()"
      ],
      "execution_count": 1417,
      "outputs": [
        {
          "output_type": "stream",
          "text": [
            "<class 'pandas.core.frame.DataFrame'>\n",
            "RangeIndex: 497996 entries, 0 to 497995\n",
            "Data columns (total 41 columns):\n",
            " #   Column                         Non-Null Count   Dtype  \n",
            "---  ------                         --------------   -----  \n",
            " 0   Marital_Status                 497996 non-null  float64\n",
            " 1   Product_Category_1             497996 non-null  float64\n",
            " 2   Product_Category_2             497996 non-null  float64\n",
            " 3   Purchase                       497996 non-null  float64\n",
            " 4   Gender_M                       497996 non-null  float64\n",
            " 5   Age_0-17                       497996 non-null  float64\n",
            " 6   Age_18-25                      497996 non-null  float64\n",
            " 7   Age_26-35                      497996 non-null  float64\n",
            " 8   Age_36-45                      497996 non-null  float64\n",
            " 9   Age_46-50                      497996 non-null  float64\n",
            " 10  Age_51-55                      497996 non-null  float64\n",
            " 11  Age_55+                        497996 non-null  float64\n",
            " 12  Occupation_0                   497996 non-null  float64\n",
            " 13  Occupation_1                   497996 non-null  float64\n",
            " 14  Occupation_2                   497996 non-null  float64\n",
            " 15  Occupation_3                   497996 non-null  float64\n",
            " 16  Occupation_4                   497996 non-null  float64\n",
            " 17  Occupation_5                   497996 non-null  float64\n",
            " 18  Occupation_6                   497996 non-null  float64\n",
            " 19  Occupation_7                   497996 non-null  float64\n",
            " 20  Occupation_8                   497996 non-null  float64\n",
            " 21  Occupation_9                   497996 non-null  float64\n",
            " 22  Occupation_10                  497996 non-null  float64\n",
            " 23  Occupation_11                  497996 non-null  float64\n",
            " 24  Occupation_12                  497996 non-null  float64\n",
            " 25  Occupation_13                  497996 non-null  float64\n",
            " 26  Occupation_14                  497996 non-null  float64\n",
            " 27  Occupation_15                  497996 non-null  float64\n",
            " 28  Occupation_16                  497996 non-null  float64\n",
            " 29  Occupation_17                  497996 non-null  float64\n",
            " 30  Occupation_18                  497996 non-null  float64\n",
            " 31  Occupation_19                  497996 non-null  float64\n",
            " 32  Occupation_20                  497996 non-null  float64\n",
            " 33  City_Category_A                497996 non-null  float64\n",
            " 34  City_Category_B                497996 non-null  float64\n",
            " 35  City_Category_C                497996 non-null  float64\n",
            " 36  Stay_In_Current_City_Years_0   497996 non-null  float64\n",
            " 37  Stay_In_Current_City_Years_1   497996 non-null  float64\n",
            " 38  Stay_In_Current_City_Years_2   497996 non-null  float64\n",
            " 39  Stay_In_Current_City_Years_3   497996 non-null  float64\n",
            " 40  Stay_In_Current_City_Years_4+  497996 non-null  float64\n",
            "dtypes: float64(41)\n",
            "memory usage: 155.8 MB\n"
          ],
          "name": "stdout"
        }
      ]
    },
    {
      "cell_type": "code",
      "metadata": {
        "id": "VTXZUIjfjVI4"
      },
      "source": [
        "colnamesP = newdf.columns.values.tolist()\n",
        "DropColPurchase = ['Purchase']\n",
        "Purchase = str('Purchase')"
      ],
      "execution_count": 1418,
      "outputs": []
    },
    {
      "cell_type": "code",
      "metadata": {
        "id": "-1zjIel2jioD"
      },
      "source": [
        "for sublist in colnamesP:\n",
        "  if Purchase in sublist:\n",
        "    newdf = newdf.drop(DropColPurchase, axis=1).copy()\n",
        "  else:\n",
        "    pass"
      ],
      "execution_count": 1419,
      "outputs": []
    },
    {
      "cell_type": "code",
      "metadata": {
        "pycharm": {
          "name": "#%%\n"
        },
        "id": "6HHmvJ2ECR7A",
        "colab": {
          "base_uri": "https://localhost:8080/"
        },
        "outputId": "240884b9-c9ef-4ca7-81e3-17e84e1f3fe3"
      },
      "source": [
        "newdf.info()"
      ],
      "execution_count": 1420,
      "outputs": [
        {
          "output_type": "stream",
          "text": [
            "<class 'pandas.core.frame.DataFrame'>\n",
            "RangeIndex: 497996 entries, 0 to 497995\n",
            "Data columns (total 40 columns):\n",
            " #   Column                         Non-Null Count   Dtype  \n",
            "---  ------                         --------------   -----  \n",
            " 0   Marital_Status                 497996 non-null  float64\n",
            " 1   Product_Category_1             497996 non-null  float64\n",
            " 2   Product_Category_2             497996 non-null  float64\n",
            " 3   Gender_M                       497996 non-null  float64\n",
            " 4   Age_0-17                       497996 non-null  float64\n",
            " 5   Age_18-25                      497996 non-null  float64\n",
            " 6   Age_26-35                      497996 non-null  float64\n",
            " 7   Age_36-45                      497996 non-null  float64\n",
            " 8   Age_46-50                      497996 non-null  float64\n",
            " 9   Age_51-55                      497996 non-null  float64\n",
            " 10  Age_55+                        497996 non-null  float64\n",
            " 11  Occupation_0                   497996 non-null  float64\n",
            " 12  Occupation_1                   497996 non-null  float64\n",
            " 13  Occupation_2                   497996 non-null  float64\n",
            " 14  Occupation_3                   497996 non-null  float64\n",
            " 15  Occupation_4                   497996 non-null  float64\n",
            " 16  Occupation_5                   497996 non-null  float64\n",
            " 17  Occupation_6                   497996 non-null  float64\n",
            " 18  Occupation_7                   497996 non-null  float64\n",
            " 19  Occupation_8                   497996 non-null  float64\n",
            " 20  Occupation_9                   497996 non-null  float64\n",
            " 21  Occupation_10                  497996 non-null  float64\n",
            " 22  Occupation_11                  497996 non-null  float64\n",
            " 23  Occupation_12                  497996 non-null  float64\n",
            " 24  Occupation_13                  497996 non-null  float64\n",
            " 25  Occupation_14                  497996 non-null  float64\n",
            " 26  Occupation_15                  497996 non-null  float64\n",
            " 27  Occupation_16                  497996 non-null  float64\n",
            " 28  Occupation_17                  497996 non-null  float64\n",
            " 29  Occupation_18                  497996 non-null  float64\n",
            " 30  Occupation_19                  497996 non-null  float64\n",
            " 31  Occupation_20                  497996 non-null  float64\n",
            " 32  City_Category_A                497996 non-null  float64\n",
            " 33  City_Category_B                497996 non-null  float64\n",
            " 34  City_Category_C                497996 non-null  float64\n",
            " 35  Stay_In_Current_City_Years_0   497996 non-null  float64\n",
            " 36  Stay_In_Current_City_Years_1   497996 non-null  float64\n",
            " 37  Stay_In_Current_City_Years_2   497996 non-null  float64\n",
            " 38  Stay_In_Current_City_Years_3   497996 non-null  float64\n",
            " 39  Stay_In_Current_City_Years_4+  497996 non-null  float64\n",
            "dtypes: float64(40)\n",
            "memory usage: 152.0 MB\n"
          ],
          "name": "stdout"
        }
      ]
    },
    {
      "cell_type": "code",
      "metadata": {
        "pycharm": {
          "name": "#%%\n"
        },
        "id": "MPMCR8huCR7B"
      },
      "source": [
        "# newdf2 = newdf.drop(Feature_DropSoft, axis=1).copy()"
      ],
      "execution_count": 1421,
      "outputs": []
    },
    {
      "cell_type": "code",
      "metadata": {
        "pycharm": {
          "name": "#%%\n"
        },
        "id": "HuShJYb8CR7B"
      },
      "source": [
        "# newdf2.shape()"
      ],
      "execution_count": 1422,
      "outputs": []
    },
    {
      "cell_type": "code",
      "metadata": {
        "pycharm": {
          "name": "#%%\n"
        },
        "id": "HQfupvdeS1-i"
      },
      "source": [
        "# newtr1 = newtr[['Gender_F','Gender_M','Age_0-17','Age_18-25','Age_26-35','Age_36-45','Age_46-50','Age_51-55','Age_55+','City_Category_A','City_Category_B','City_Category_C','Stay_In_Current_City_Years_0','Stay_In_Current_City_Years_1','Stay_In_Current_City_Years_2','Stay_In_Current_City_Years_3','Stay_In_Current_City_Years_4+']].copy()"
      ],
      "execution_count": 1423,
      "outputs": []
    },
    {
      "cell_type": "code",
      "metadata": {
        "id": "wml26P41Tql5"
      },
      "source": [
        "# models = [LinearRegression(), # метод наименьших квадратов\n",
        "#\t          RandomForestRegressor(n_estimators=100, max_features ='sqrt'), # случайный лес\n",
        "#\t          KNeighborsRegressor(n_neighbors=6), # метод ближайших соседей\n",
        "#\t          SVR(kernel='linear'), # метод опорных векторов с линейным ядром\n",
        "#\t          LogisticRegression() # логистическая регрессия\n",
        "#\t          ]\n",
        "\n"
      ],
      "execution_count": 1424,
      "outputs": []
    },
    {
      "cell_type": "code",
      "metadata": {
        "id": "9YUaERbqVMtH"
      },
      "source": [
        "from sklearn.model_selection import train_test_split"
      ],
      "execution_count": 1425,
      "outputs": []
    },
    {
      "cell_type": "code",
      "metadata": {
        "id": "3a-SpNvtVYuX"
      },
      "source": [
        "Xtrn, Xtest, Ytrn, Ytest = train_test_split(newdf, target, test_size=0.2)\n"
      ],
      "execution_count": 1426,
      "outputs": []
    },
    {
      "cell_type": "code",
      "metadata": {
        "colab": {
          "base_uri": "https://localhost:8080/"
        },
        "id": "_zsMbb7egBnt",
        "outputId": "2c52ac15-c074-43e3-f0b3-2a2a7717fdb5"
      },
      "source": [
        "print (Xtrn.shape)\n",
        "print (Ytrn.shape)\n",
        "print (Xtest.shape)\n",
        "print (Ytest.shape)\n",
        "# print X_test.shape, y_test.shape\n",
        "# source code URL: https://towardsdatascience.com/train-test-split-and-cross-validation-in-python-80b61beca4b6"
      ],
      "execution_count": 1427,
      "outputs": [
        {
          "output_type": "stream",
          "text": [
            "(398396, 40)\n",
            "(398396,)\n",
            "(99600, 40)\n",
            "(99600,)\n"
          ],
          "name": "stdout"
        }
      ]
    },
    {
      "cell_type": "code",
      "metadata": {
        "id": "nbCfPyz0Y5wY"
      },
      "source": [
        "# fit a model\n",
        "lm = LinearRegression()\n",
        "model = lm.fit(Xtrn, Ytrn)\n",
        "predictions = lm.predict(Xtest)\n"
      ],
      "execution_count": 1428,
      "outputs": []
    },
    {
      "cell_type": "code",
      "metadata": {
        "colab": {
          "base_uri": "https://localhost:8080/"
        },
        "id": "-QbSHDNrhEqk",
        "outputId": "a1859a5b-b845-464d-bb16-b54019f1c12d"
      },
      "source": [
        "# Let’s see what (some of) the predictions are:\n",
        "predictions[0:5]"
      ],
      "execution_count": 1429,
      "outputs": [
        {
          "output_type": "execute_result",
          "data": {
            "text/plain": [
              "array([11281.5  ,  9332.5  , 11526.625, 10879.375, 11128.   ])"
            ]
          },
          "metadata": {
            "tags": []
          },
          "execution_count": 1429
        }
      ]
    },
    {
      "cell_type": "code",
      "metadata": {
        "id": "oeOYq4w7lcb9"
      },
      "source": [
        "Ytest = Ytest.astype(float)\n",
        "predictions = predictions.astype(float)"
      ],
      "execution_count": 1430,
      "outputs": []
    },
    {
      "cell_type": "code",
      "metadata": {
        "id": "_S7AnOW_hJaF"
      },
      "source": [
        "# source code URL: https://python-school.ru/linear-regression-basis/\n",
        "\n",
        "# Ytest = np.exp(Ytest)\n",
        "# predictions = np.exp(predictions)"
      ],
      "execution_count": 1431,
      "outputs": []
    },
    {
      "cell_type": "code",
      "metadata": {
        "colab": {
          "base_uri": "https://localhost:8080/"
        },
        "id": "SZ0coOAwl-RG",
        "outputId": "0909578b-2540-4d1d-f8d5-8523cacf486b"
      },
      "source": [
        "# source code URL: https://python-school.ru/linear-regression-basis/\n",
        "from sklearn.metrics import mean_squared_error\n",
        "from sklearn.metrics import mean_absolute_error\n",
        "mse = mean_squared_error(Ytest, predictions)\n",
        "mae = mean_absolute_error(Ytest, predictions)\n",
        "print('Mean Squared Error: %.3f, Mean Absolute Error: %.3f' % (mse, mae))"
      ],
      "execution_count": 1432,
      "outputs": [
        {
          "output_type": "stream",
          "text": [
            "Mean Squared Error: 22196262.608, Mean Absolute Error: 3627.700\n"
          ],
          "name": "stdout"
        }
      ]
    },
    {
      "cell_type": "code",
      "metadata": {
        "id": "SjCt4ncxY86Y",
        "pycharm": {
          "name": "#%%\n"
        }
      },
      "source": [
        "# import seaborn as sns"
      ],
      "execution_count": 1433,
      "outputs": []
    },
    {
      "cell_type": "code",
      "metadata": {
        "pycharm": {
          "name": "#%%\n"
        },
        "id": "9ni7JuKyCR7L"
      },
      "source": [
        "# sns.pairplot(newdf)\n"
      ],
      "execution_count": 1434,
      "outputs": []
    },
    {
      "cell_type": "code",
      "metadata": {
        "pycharm": {
          "name": "#%%\n"
        },
        "id": "_fQXPkl2CR7M"
      },
      "source": [
        "# features = newdf.columns.values.tolist()"
      ],
      "execution_count": 1435,
      "outputs": []
    },
    {
      "cell_type": "code",
      "metadata": {
        "pycharm": {
          "name": "#%%\n"
        },
        "id": "5Sk9Sls4CR7M"
      },
      "source": [
        "# sns.pairplot(newdf, x_vars=[features], y_vars='predictions', kind='reg', height=100)"
      ],
      "execution_count": 1436,
      "outputs": []
    },
    {
      "cell_type": "code",
      "metadata": {
        "pycharm": {
          "name": "#%%\n"
        },
        "id": "Ps3KpW0cCR7M"
      },
      "source": [
        ""
      ],
      "execution_count": 1436,
      "outputs": []
    }
  ]
}